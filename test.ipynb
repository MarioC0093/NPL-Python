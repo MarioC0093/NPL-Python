{
 "cells": [
  {
   "cell_type": "code",
   "execution_count": null,
   "id": "1e4071ce",
   "metadata": {},
   "outputs": [],
   "source": [
    "#| code-fold: false\n",
    "# Import text from url\n",
    "import requests\n",
    "import re\n",
    "# Colores\n",
    "from termcolor import colored # Solo funciona dentro del notebook\n",
    "from rich.console import Console # Este paquete logra reflejarlo en el HTML\n",
    "console = Console(record=True)\n",
    "# NPL en general\n",
    "import spacy\n",
    "# Tokenizacion\n",
    "import nltk\n",
    "from nltk.tokenize import word_tokenize\n",
    "# Stop Words\n",
    "from nltk.corpus import stopwords\n",
    "# Steamming and Lemmatization\n",
    "import nltk\n",
    "from nltk.stem.snowball import SnowballStemmer"
   ]
  },
  {
   "cell_type": "code",
   "execution_count": null,
   "id": "441d7094",
   "metadata": {},
   "outputs": [],
   "source": [
    "# Enviar una solicitud GET a la URL\n",
    "response = requests.get(\"https://www.gutenberg.org/cache/epub/2000/pg2000.txt\")\n",
    "\n",
    "# Verificar si la solicitud fue exitosa\n",
    "if response.status_code == 200:\n",
    "    quijote = response.text\n",
    "    # print(\"Éxito al leer el texto.\")\n",
    "else:\n",
    "    print(\"Error al leer el texto.\")\n"
   ]
  },
  {
   "cell_type": "code",
   "execution_count": null,
   "id": "e09b42af",
   "metadata": {},
   "outputs": [],
   "source": [
    "### Inicio del primer capítulo\n",
    "\n",
    "# Palabra objetivo\n",
    "palabra_start = \"Primera parte del ingenioso hidalgo don Quijote de la Mancha\"\n",
    "\n",
    "# Expresión regular para capturar todo lo que va antes de un patrón de  búsqueda\n",
    "patron = re.compile(rf\"{palabra_start}\\s*(.*)\", re.DOTALL)\n",
    "\n",
    "coincidencia = patron.search(quijote)\n",
    "\n",
    "if coincidencia:\n",
    "    quijote = coincidencia.group(1) # 0 incluye la palabra del search, 1 no lo incluye\n",
    "    console.print(\"[bold]Inicio del primer capítulo:\\n\\n[/bold]\", quijote[:251])\n",
    "    # print(\"Inicio del texto:\\n\\n\", quijote[:251])\n",
    "else:\n",
    "    console.print(\"[bold]Inicio del texto:\\n\\n[/bold]\", quijote[:251])\n",
    "    \n",
    "\n",
    "### Inicio del sépimo capítulo (y final del sexto)\n",
    "palabra_end = \"Capítulo VII\"\n",
    "\n",
    "# patron = re.compile(rf\"(.*)\\b{re.escape(palabra_end)}\\b\", re.DOTALL) # .* es codicioso (\"greedy\"): captura la mayor cantidad posible de caracteres antes de la coincidir con la palabra, captura hasta la última aparición de la palabra buscada\n",
    "patron = re.compile(rf\"(.*?)\\b{re.escape(palabra_end)}\\b\", re.DOTALL) # .* es no codicioso (\"lazy\"): captura la menor cantidad posible de caracteres y evitar que el resto del texto cooincida, se detiene en la primera coincidencia\n",
    "\n",
    "coincidencia = patron.search(quijote)\n",
    "\n",
    "if coincidencia:\n",
    "    quijote = coincidencia.group(0)\n",
    "    console.print(\"[bold]Final del sexto capítulo:\\n\\n[/bold]\", quijote[-231:])\n",
    "    quijote = coincidencia.group(1) # Elimino el patrón de búsqueda\n",
    "else:\n",
    "    console.print(\"[bold]Final del texto:\\n\\n[/bold]\", quijote[-231:])\n"
   ]
  },
  {
   "cell_type": "code",
   "execution_count": null,
   "id": "387e3aed",
   "metadata": {},
   "outputs": [],
   "source": [
    "import spacy\n",
    "nlp = spacy.load(\"es_core_news_md\")"
   ]
  },
  {
   "cell_type": "code",
   "execution_count": null,
   "id": "932c636d",
   "metadata": {},
   "outputs": [],
   "source": [
    "#| layout-ncol: 3\n",
    "for parrafo in list(nlp(quijote).sents)[:3]: # No es necesario pasarlo a una lista, solo para coger un número de ejemplos\n",
    "    console.print(\"[blue]\\nSiguiente párrafo:\\n\\n[/blue]\", parrafo)\n",
    "    #print(parrafo)"
   ]
  }
 ],
 "metadata": {
  "kernelspec": {
   "display_name": "Python 3",
   "language": "python",
   "name": "python3"
  },
  "language_info": {
   "codemirror_mode": {
    "name": "ipython",
    "version": 3
   },
   "file_extension": ".py",
   "mimetype": "text/x-python",
   "name": "python",
   "nbconvert_exporter": "python",
   "pygments_lexer": "ipython3",
   "version": "3.12.5"
  }
 },
 "nbformat": 4,
 "nbformat_minor": 5
}
