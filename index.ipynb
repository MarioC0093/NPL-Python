{
 "cells": [
  {
   "cell_type": "raw",
   "id": "9adeb722",
   "metadata": {
    "vscode": {
     "languageId": "raw"
    }
   },
   "source": [
    "---\n",
    "title: \"NPL with Python\"\n",
    "author: \"Mario Camacho\"\n",
    "date: \"xx-xx-2024\"\n",
    "date-modified: last-modified\n",
    "date-format: \"DD MMMM YYYY\"\n",
    "lang: es\n",
    "\n",
    "execute:\n",
    "    enabled: true\n",
    "---"
   ]
  },
  {
   "cell_type": "markdown",
   "id": "28d9a99b",
   "metadata": {
    "vscode": {
     "languageId": "raw"
    }
   },
   "source": [
    "**Librerías**"
   ]
  },
  {
   "cell_type": "code",
   "execution_count": 1,
   "id": "a7665193",
   "metadata": {},
   "outputs": [],
   "source": [
    "#| code-fold: false\n",
    "import pandas as pd\n",
    "# Import text from url\n",
    "import requests\n",
    "import re\n",
    "# Colores\n",
    "from termcolor import colored # Solo funciona dentro del notebook\n",
    "from rich.console import Console # Este paquete logra reflejarlo en el HTML\n",
    "console = Console(record=True)\n",
    "# NPL en general\n",
    "import spacy\n",
    "# Tokenizacion\n",
    "import nltk\n",
    "from nltk.tokenize import word_tokenize\n",
    "# Stop Words\n",
    "from nltk.corpus import stopwords\n",
    "# Steamming and Lemmatization\n",
    "import nltk\n",
    "from nltk.stem.snowball import SnowballStemmer\n",
    "# ENT\n",
    "from spacy import displacy"
   ]
  },
  {
   "cell_type": "code",
   "execution_count": 2,
   "id": "32ef2112",
   "metadata": {},
   "outputs": [],
   "source": [
    "%run  \"src\\counter_to_html.py\""
   ]
  },
  {
   "cell_type": "markdown",
   "id": "faf5eafd",
   "metadata": {},
   "source": [
    "# Preproceso"
   ]
  },
  {
   "cell_type": "markdown",
   "id": "038ab5c1",
   "metadata": {},
   "source": [
    "## Ingesta del documento"
   ]
  },
  {
   "cell_type": "markdown",
   "id": "1b7a57cc",
   "metadata": {},
   "source": [
    "Leemos el libro El Quijote."
   ]
  },
  {
   "cell_type": "code",
   "execution_count": 3,
   "id": "f556c38c",
   "metadata": {},
   "outputs": [],
   "source": [
    "# Enviar una solicitud GET a la URL\n",
    "response = requests.get(\"https://www.gutenberg.org/cache/epub/2000/pg2000.txt\")\n",
    "\n",
    "# Verificar si la solicitud fue exitosa\n",
    "if response.status_code == 200:\n",
    "    quijote = response.text\n",
    "    # print(\"Éxito al leer el texto.\")\n",
    "else:\n",
    "    print(\"Error al leer el texto.\")\n"
   ]
  },
  {
   "cell_type": "markdown",
   "id": "35655096",
   "metadata": {},
   "source": [
    "Nos ocupamos únicamente de los primeros seis capítulos de la primera parte de El Quijote."
   ]
  },
  {
   "cell_type": "code",
   "execution_count": 4,
   "id": "f34dff67",
   "metadata": {},
   "outputs": [
    {
     "data": {
      "text/html": [
       "<pre style=\"white-space:pre;overflow-x:auto;line-height:normal;font-family:Menlo,'DejaVu Sans Mono',consolas,'Courier New',monospace\"><span style=\"font-weight: bold\">Inicio del primer capítulo:</span>\n",
       "\n",
       " Capítulo primero. Que trata de la condición y ejercicio del famoso hidalgo\n",
       "don Quijote de la Mancha\n",
       "\n",
       "En un lugar de la Mancha, de cuyo nombre no quiero acordarme, no ha mucho\n",
       "tiempo que vivía un hidalgo de los de lanza en astillero, adarga antigua\n",
       "</pre>\n"
      ],
      "text/plain": [
       "\u001b[1mInicio del primer capítulo:\u001b[0m\n",
       "\n",
       " Capítulo primero. Que trata de la condición y ejercicio del famoso hidalgo\n",
       "don Quijote de la Mancha\n",
       "\n",
       "En un lugar de la Mancha, de cuyo nombre no quiero acordarme, no ha mucho\n",
       "tiempo que vivía un hidalgo de los de lanza en astillero, adarga antigua\n"
      ]
     },
     "metadata": {},
     "output_type": "display_data"
    },
    {
     "data": {
      "text/html": [
       "<pre style=\"white-space:pre;overflow-x:auto;line-height:normal;font-family:Menlo,'DejaVu Sans Mono',consolas,'Courier New',monospace\"><span style=\"font-weight: bold\">Final del sexto capítulo:</span>\n",
       "\n",
       " o el cura en oyendo el nombre— si tal libro hubiera\n",
       "mandado quemar; porque su autor fue uno de los famosos poetas del mundo, no\n",
       "sólo de España, y fue felicísimo en la tradución de algunas fábulas de\n",
       "Ovidio.\n",
       "\n",
       "\n",
       "\n",
       "\n",
       "Capítulo VII\n",
       "</pre>\n"
      ],
      "text/plain": [
       "\u001b[1mFinal del sexto capítulo:\u001b[0m\n",
       "\n",
       " o el cura en oyendo el nombre— si tal libro hubiera\n",
       "mandado quemar; porque su autor fue uno de los famosos poetas del mundo, no\n",
       "sólo de España, y fue felicísimo en la tradución de algunas fábulas de\n",
       "Ovidio.\n",
       "\n",
       "\n",
       "\n",
       "\n",
       "Capítulo VII\n"
      ]
     },
     "metadata": {},
     "output_type": "display_data"
    }
   ],
   "source": [
    "### Inicio del primer capítulo\n",
    "\n",
    "# Palabra objetivo\n",
    "palabra_start = \"Primera parte del ingenioso hidalgo don Quijote de la Mancha\"\n",
    "\n",
    "# Expresión regular para capturar todo lo que va antes de un patrón de  búsqueda\n",
    "patron = re.compile(rf\"{palabra_start}\\s*(.*)\", re.DOTALL)\n",
    "\n",
    "coincidencia = patron.search(quijote)\n",
    "\n",
    "if coincidencia:\n",
    "    quijote = coincidencia.group(1) # 0 incluye la palabra del search, 1 no lo incluye\n",
    "    console.print(\"[bold]Inicio del primer capítulo:\\n\\n[/bold]\", quijote[:251])\n",
    "    # print(\"Inicio del texto:\\n\\n\", quijote[:251])\n",
    "else:\n",
    "    console.print(\"[bold]Inicio del texto:\\n\\n[/bold]\", quijote[:251])\n",
    "    \n",
    "\n",
    "### Inicio del sépimo capítulo (y final del sexto)\n",
    "palabra_end = \"Capítulo VII\"\n",
    "\n",
    "# patron = re.compile(rf\"(.*)\\b{re.escape(palabra_end)}\\b\", re.DOTALL) # .* es codicioso (\"greedy\"): captura la mayor cantidad posible de caracteres antes de la coincidir con la palabra, captura hasta la última aparición de la palabra buscada\n",
    "patron = re.compile(rf\"(.*?)\\b{re.escape(palabra_end)}\\b\", re.DOTALL) # .* es no codicioso (\"lazy\"): captura la menor cantidad posible de caracteres y evitar que el resto del texto cooincida, se detiene en la primera coincidencia\n",
    "\n",
    "coincidencia = patron.search(quijote)\n",
    "\n",
    "if coincidencia:\n",
    "    quijote = coincidencia.group(0)\n",
    "    console.print(\"[bold]Final del sexto capítulo:\\n\\n[/bold]\", quijote[-231:])\n",
    "    quijote = coincidencia.group(1) # Elimino el patrón de búsqueda\n",
    "else:\n",
    "    console.print(\"[bold]Final del texto:\\n\\n[/bold]\", quijote[-231:])\n"
   ]
  },
  {
   "cell_type": "markdown",
   "id": "b75e3056",
   "metadata": {},
   "source": [
    "## Carga del modelo"
   ]
  },
  {
   "cell_type": "markdown",
   "id": "3e8df856",
   "metadata": {},
   "source": [
    "Descarga y carga del modelo de lenguaje a través de la librería spaCy"
   ]
  },
  {
   "cell_type": "code",
   "execution_count": 5,
   "id": "8ea0890a",
   "metadata": {},
   "outputs": [],
   "source": [
    "# !python -m spacy download es_core_news_md"
   ]
  },
  {
   "cell_type": "code",
   "execution_count": 6,
   "id": "838863e2",
   "metadata": {},
   "outputs": [],
   "source": [
    "#| include: false\n",
    "# import es_core_news_md\n",
    "# nlp = es_core_news_md.load()"
   ]
  },
  {
   "cell_type": "code",
   "execution_count": 7,
   "id": "0ec8457f",
   "metadata": {},
   "outputs": [],
   "source": [
    "import spacy\n",
    "nlp = spacy.load(\"es_core_news_md\")"
   ]
  },
  {
   "cell_type": "markdown",
   "id": "57574d20",
   "metadata": {},
   "source": [
    "## Fragmentación de la información"
   ]
  },
  {
   "cell_type": "markdown",
   "id": "7b54a2d8",
   "metadata": {},
   "source": [
    "Podemos dividir el texto en párrafos."
   ]
  },
  {
   "cell_type": "code",
   "execution_count": 8,
   "id": "231a70c0",
   "metadata": {},
   "outputs": [
    {
     "data": {
      "text/html": [
       "<pre style=\"white-space:pre;overflow-x:auto;line-height:normal;font-family:Menlo,'DejaVu Sans Mono',consolas,'Courier New',monospace\">\n",
       "<span style=\"color: #000080; text-decoration-color: #000080\">Siguiente párrafo:</span>\n",
       "\n",
       " Capítulo primero.\n",
       "</pre>\n"
      ],
      "text/plain": [
       "\n",
       "Siguiente párrafo:\n",
       "\n",
       " Capítulo primero.\n"
      ]
     },
     "metadata": {},
     "output_type": "display_data"
    },
    {
     "data": {
      "text/html": [
       "<pre style=\"white-space:pre;overflow-x:auto;line-height:normal;font-family:Menlo,'DejaVu Sans Mono',consolas,'Courier New',monospace\">\n",
       "<span style=\"color: #000080; text-decoration-color: #000080\">Siguiente párrafo:</span>\n",
       "\n",
       " Que trata de la condición y ejercicio del famoso hidalgo\n",
       "don Quijote de la Mancha\n",
       "\n",
       "En un lugar de la Mancha, de cuyo nombre no quiero acordarme, no ha mucho\n",
       "tiempo que vivía un hidalgo de los de lanza en astillero, adarga antigua,\n",
       "rocín flaco y galgo corredor.\n",
       "</pre>\n"
      ],
      "text/plain": [
       "\n",
       "Siguiente párrafo:\n",
       "\n",
       " Que trata de la condición y ejercicio del famoso hidalgo\n",
       "don Quijote de la Mancha\n",
       "\n",
       "En un lugar de la Mancha, de cuyo nombre no quiero acordarme, no ha mucho\n",
       "tiempo que vivía un hidalgo de los de lanza en astillero, adarga antigua,\n",
       "rocín flaco y galgo corredor.\n"
      ]
     },
     "metadata": {},
     "output_type": "display_data"
    },
    {
     "data": {
      "text/html": [
       "<pre style=\"white-space:pre;overflow-x:auto;line-height:normal;font-family:Menlo,'DejaVu Sans Mono',consolas,'Courier New',monospace\">\n",
       "<span style=\"color: #000080; text-decoration-color: #000080\">Siguiente párrafo:</span>\n",
       "\n",
       " Una olla de algo más vaca que carnero,\n",
       "salpicón las más noches, duelos y quebrantos los sábados, lantejas los\n",
       "viernes, algún palomino de añadidura los domingos, consumían las tres\n",
       "partes de su hacienda.\n",
       "</pre>\n"
      ],
      "text/plain": [
       "\n",
       "Siguiente párrafo:\n",
       "\n",
       " Una olla de algo más vaca que carnero,\n",
       "salpicón las más noches, duelos y quebrantos los sábados, lantejas los\n",
       "viernes, algún palomino de añadidura los domingos, consumían las tres\n",
       "partes de su hacienda.\n"
      ]
     },
     "metadata": {},
     "output_type": "display_data"
    }
   ],
   "source": [
    "#| layout-ncol: 3\n",
    "for parrafo in list(nlp(quijote).sents)[:3]: # No es necesario pasarlo a una lista, solo para coger un número de ejemplos\n",
    "    console.print(\"[blue]\\nSiguiente párrafo:\\n\\n[/blue]\", parrafo)\n",
    "    #print(parrafo)"
   ]
  },
  {
   "cell_type": "markdown",
   "id": "d50965e1",
   "metadata": {},
   "source": [
    "Y los párrafos en palabras."
   ]
  },
  {
   "cell_type": "code",
   "execution_count": 9,
   "id": "342916a7",
   "metadata": {},
   "outputs": [
    {
     "data": {
      "text/html": [
       "<pre style=\"white-space:pre;overflow-x:auto;line-height:normal;font-family:Menlo,'DejaVu Sans Mono',consolas,'Courier New',monospace\">\n",
       "<span style=\"color: #000080; text-decoration-color: #000080\">Siguiente párrafo:</span>\n",
       "\n",
       "</pre>\n"
      ],
      "text/plain": [
       "\n",
       "Siguiente párrafo:\n",
       "\n"
      ]
     },
     "metadata": {},
     "output_type": "display_data"
    },
    {
     "name": "stdout",
     "output_type": "stream",
     "text": [
      "Capítulo\n",
      "primero\n",
      ".\n"
     ]
    }
   ],
   "source": [
    "for parrafo in list(nlp(quijote).sents)[:1]:\n",
    "    console.print(\"[blue]\\nSiguiente párrafo:\\n[/blue]\")\n",
    "    # print(colored(\"\\nSiguiente párrafo:\\n\",'blue'))\n",
    "    for palabra in parrafo:\n",
    "        print(palabra)"
   ]
  },
  {
   "cell_type": "markdown",
   "id": "0216bcf3",
   "metadata": {},
   "source": [
    "# Pipeline NPL"
   ]
  },
  {
   "cell_type": "code",
   "execution_count": 10,
   "id": "3f06ae76",
   "metadata": {},
   "outputs": [],
   "source": [
    "#| code_fold: false\n",
    "text = quijote"
   ]
  },
  {
   "cell_type": "markdown",
   "id": "369e1e74",
   "metadata": {},
   "source": [
    "## Tokenization"
   ]
  },
  {
   "cell_type": "code",
   "execution_count": 11,
   "id": "34269652",
   "metadata": {},
   "outputs": [
    {
     "name": "stdout",
     "output_type": "stream",
     "text": [
      "['Capítulo', 'primero', '.', 'Que', 'trata', 'de', 'la', 'condición', 'y', 'ejercicio']\n"
     ]
    }
   ],
   "source": [
    "tokens = word_tokenize(text)\n",
    "print(tokens[:10])"
   ]
  },
  {
   "cell_type": "markdown",
   "id": "60cbc00e",
   "metadata": {},
   "source": [
    "## Stop Words"
   ]
  },
  {
   "cell_type": "code",
   "execution_count": 12,
   "id": "ba79463a",
   "metadata": {},
   "outputs": [
    {
     "name": "stdout",
     "output_type": "stream",
     "text": [
      "['Capítulo', 'primero', '.', 'trata', 'condición', 'ejercicio', 'famoso', 'hidalgo', 'don', 'Quijote']\n"
     ]
    }
   ],
   "source": [
    "stop_words = set(stopwords.words('spanish'))\n",
    "tokens = [w for w in tokens if w.lower() not in stop_words]\n",
    "print(tokens[:10])"
   ]
  },
  {
   "cell_type": "markdown",
   "id": "780ea3c0",
   "metadata": {},
   "source": [
    "## Stemming and Lemmatization"
   ]
  },
  {
   "cell_type": "markdown",
   "id": "18fddf65",
   "metadata": {},
   "source": [
    "https://spacy.io/models/es  \n",
    "https://github.com/explosion/spacy-models/releases?q=es_core_web_md&expanded=true"
   ]
  },
  {
   "cell_type": "code",
   "execution_count": 13,
   "id": "6152e367",
   "metadata": {},
   "outputs": [
    {
     "data": {
      "text/plain": [
       "['capitul',\n",
       " 'primer',\n",
       " '.',\n",
       " 'trat',\n",
       " 'condicion',\n",
       " 'ejercici',\n",
       " 'famos',\n",
       " 'hidalg',\n",
       " 'don',\n",
       " 'quijot']"
      ]
     },
     "execution_count": 13,
     "metadata": {},
     "output_type": "execute_result"
    }
   ],
   "source": [
    "stemmer = SnowballStemmer(\"spanish\")\n",
    "tokens = [stemmer.stem(palabra) for palabra in tokens]\n",
    "tokens[:10]"
   ]
  },
  {
   "cell_type": "markdown",
   "id": "ef8c91c0",
   "metadata": {},
   "source": [
    "## POS Tagging\n",
    "\n",
    "Part of speech.\n",
    "\n",
    "Etiqueta las palabras de un texto determinado según sus respectivos tipos de palabras, como sustantivos, adjetivos, adverbios y verbos."
   ]
  },
  {
   "cell_type": "markdown",
   "id": "a77ffb12",
   "metadata": {},
   "source": [
    "<https://spacy.io/usage>"
   ]
  },
  {
   "cell_type": "markdown",
   "id": "216fe495",
   "metadata": {},
   "source": [
    "La librería spaCy se basa en modelos de aprendizaje automático que se entrenaron con grandes cantidades de datos de texto etiquetados.\n",
    "\n",
    "Las etiquetas que spaCy utiliza se basan en el trabajo realizado por Universal Dependencies, un repositorio común que se puede utilizar para entrenar modelos como spaCy. La página de Dependencias universales tiene información sobre [los corpus disponibles para cada idioma]<https://universaldependencies.org/>.\n",
    "\n",
    "Las etiquetas que spaCy para un token podemos encontrarlas en <https://spacy.io/api/token#attributes>. Algunas de ellas son:"
   ]
  },
  {
   "cell_type": "code",
   "execution_count": 14,
   "id": "91b59204",
   "metadata": {},
   "outputs": [],
   "source": [
    "#| code-fold: false\n",
    "propiedades = ['text', 'lang_', 'is_digit', 'is_lower', 'is_upper', 'is_sent_start', 'is_sent_end',\n",
    "               'like_email', 'like_url', # Espero no encontrar ninguna de estas etiquetas en El Quijote\n",
    "               'sentiment', 'sent']"
   ]
  },
  {
   "cell_type": "code",
   "execution_count": 15,
   "id": "e07f26f8",
   "metadata": {},
   "outputs": [
    {
     "name": "stdout",
     "output_type": "stream",
     "text": [
      "obj.text = 'Capítulo'\n",
      "obj.lang_ = 'es'\n",
      "obj.is_digit = False\n",
      "obj.is_lower = False\n",
      "obj.is_upper = False\n",
      "obj.is_sent_start = True\n",
      "obj.is_sent_end = False\n",
      "obj.like_email = False\n",
      "obj.like_url = False\n",
      "obj.sentiment = 0.0\n",
      "obj.sent = Capítulo primero.\n"
     ]
    }
   ],
   "source": [
    "#| code-fold: false\n",
    "#| collapse: true\n",
    "ejemplo_01 = nlp(text)[0]\n",
    "\n",
    "for attr in propiedades:\n",
    "    print(\"obj.%s = %r\" % (attr, getattr(ejemplo_01, attr)))"
   ]
  },
  {
   "cell_type": "code",
   "execution_count": 16,
   "id": "e4410947",
   "metadata": {},
   "outputs": [
    {
     "name": "stdout",
     "output_type": "stream",
     "text": [
      "text            lemma_          pos_           tag_           dep_           shape_         is_alpha       is_stop        \n",
      "========================================================================================================================\n",
      "Capítulo        Capítulo        PROPN           PROPN           ROOT            Xxxxx           1               0              \n",
      "primero         primero         ADJ             ADJ             amod            xxxx            1               1              \n",
      ".               .               PUNCT           PUNCT           punct           .               0               0              \n",
      "Que             que             SCONJ           SCONJ           mark            Xxx             1               1              \n",
      "trata           tratar          VERB            VERB            ROOT            xxxx            1               1              \n",
      "de              de              ADP             ADP             case            xx              1               1              \n",
      "la              el              DET             DET             det             xx              1               1              \n",
      "condición       condición       NOUN            NOUN            obj             xxxx            1               0              \n",
      "y               y               CCONJ           CCONJ           cc              x               1               1              \n",
      "ejercicio       ejercicio       NOUN            NOUN            conj            xxxx            1               0              \n",
      "del             del             ADP             ADP             case            xxx             1               1              \n",
      "famoso          famoso          ADJ             ADJ             amod            xxxx            1               0              \n",
      "hidalgo         hidalgo         NOUN            NOUN            nmod            xxxx            1               0              \n",
      "\r\n",
      "              \r\n",
      "              SPACE           SPACE           dep             \r\n",
      "              0               0              \n",
      "don             don             NOUN            NOUN            appos           xxx             1               0              \n"
     ]
    }
   ],
   "source": [
    "ejemplo_02 = nlp(text)[:15]\n",
    "\n",
    "# Encabezado\n",
    "print(f'{\"text\":<15} {\"lemma_\":<15} {\"pos_\":<15}{\"tag_\":<15}{\"dep_\":<15}{\"shape_\":<15}{\"is_alpha\":<15}{\"is_stop\":<15}')\n",
    "print(\"=\"*15*8)\n",
    "\n",
    "# Loop que imprime los datos en formato de tabla\n",
    "for token in ejemplo_02:\n",
    "    print(f'{token.text:<15} {token.lemma_:<15} {token.pos_:<15} {token.tag_:<15} {token.dep_:<15} {token.shape_:<15} {token.is_alpha:<15} {token.is_stop:<15}')\n"
   ]
  },
  {
   "cell_type": "markdown",
   "id": "9c4c6367",
   "metadata": {},
   "source": [
    "## Selección de nombres"
   ]
  },
  {
   "cell_type": "code",
   "execution_count": 147,
   "id": "94c9b988",
   "metadata": {},
   "outputs": [
    {
     "data": {
      "text/plain": [
       "la Mancha"
      ]
     },
     "execution_count": 147,
     "metadata": {},
     "output_type": "execute_result"
    }
   ],
   "source": [
    "nlp(text).ents[2]"
   ]
  },
  {
   "cell_type": "code",
   "execution_count": 17,
   "id": "673f8aec",
   "metadata": {},
   "outputs": [
    {
     "data": {
      "text/html": [
       "<div>\n",
       "<style scoped>\n",
       "    .dataframe tbody tr th:only-of-type {\n",
       "        vertical-align: middle;\n",
       "    }\n",
       "\n",
       "    .dataframe tbody tr th {\n",
       "        vertical-align: top;\n",
       "    }\n",
       "\n",
       "    .dataframe thead th {\n",
       "        text-align: right;\n",
       "    }\n",
       "</style>\n",
       "<table border=\"1\" class=\"dataframe\">\n",
       "  <thead>\n",
       "    <tr style=\"text-align: right;\">\n",
       "      <th></th>\n",
       "      <th>noun</th>\n",
       "      <th>count</th>\n",
       "    </tr>\n",
       "  </thead>\n",
       "  <tbody>\n",
       "    <tr>\n",
       "      <th>0</th>\n",
       "      <td>Andrés</td>\n",
       "      <td>7</td>\n",
       "    </tr>\n",
       "    <tr>\n",
       "      <th>1</th>\n",
       "      <td>Nicolás</td>\n",
       "      <td>5</td>\n",
       "    </tr>\n",
       "    <tr>\n",
       "      <th>2</th>\n",
       "      <td>señor caballero</td>\n",
       "      <td>5</td>\n",
       "    </tr>\n",
       "    <tr>\n",
       "      <th>3</th>\n",
       "      <td>Amadís de Gaula</td>\n",
       "      <td>4</td>\n",
       "    </tr>\n",
       "    <tr>\n",
       "      <th>4</th>\n",
       "      <td>Amadís</td>\n",
       "      <td>4</td>\n",
       "    </tr>\n",
       "    <tr>\n",
       "      <th>...</th>\n",
       "      <td>...</td>\n",
       "      <td>...</td>\n",
       "    </tr>\n",
       "    <tr>\n",
       "      <th>95</th>\n",
       "      <td>Ténganse</td>\n",
       "      <td>1</td>\n",
       "    </tr>\n",
       "    <tr>\n",
       "      <th>96</th>\n",
       "      <td>Capítulo VI</td>\n",
       "      <td>1</td>\n",
       "    </tr>\n",
       "    <tr>\n",
       "      <th>97</th>\n",
       "      <td>Tomad</td>\n",
       "      <td>1</td>\n",
       "    </tr>\n",
       "    <tr>\n",
       "      <th>98</th>\n",
       "      <td>hízolo</td>\n",
       "      <td>1</td>\n",
       "    </tr>\n",
       "    <tr>\n",
       "      <th>99</th>\n",
       "      <td>Amadís de Grecia</td>\n",
       "      <td>1</td>\n",
       "    </tr>\n",
       "  </tbody>\n",
       "</table>\n",
       "<p>100 rows × 2 columns</p>\n",
       "</div>"
      ],
      "text/plain": [
       "                noun  count\n",
       "0             Andrés      7\n",
       "1            Nicolás      5\n",
       "2    señor caballero      5\n",
       "3    Amadís de Gaula      4\n",
       "4             Amadís      4\n",
       "..               ...    ...\n",
       "95          Ténganse      1\n",
       "96       Capítulo VI      1\n",
       "97             Tomad      1\n",
       "98            hízolo      1\n",
       "99  Amadís de Grecia      1\n",
       "\n",
       "[100 rows x 2 columns]"
      ]
     },
     "execution_count": 17,
     "metadata": {},
     "output_type": "execute_result"
    }
   ],
   "source": [
    "nouns = []\n",
    "for token in nlp(text).ents:\n",
    "    if token.label_  == 'PER':\n",
    "        nouns.append(token.lemma_)\n",
    "\n",
    "nouns_tally = Counter(nouns)\n",
    "\n",
    "df = pd.DataFrame(nouns_tally.most_common(), columns=['noun', 'count'])\n",
    "df[:100]"
   ]
  },
  {
   "cell_type": "code",
   "execution_count": 18,
   "id": "10b6b74e",
   "metadata": {},
   "outputs": [
    {
     "data": {
      "text/html": [
       "<div>\n",
       "<style scoped>\n",
       "    .dataframe tbody tr th:only-of-type {\n",
       "        vertical-align: middle;\n",
       "    }\n",
       "\n",
       "    .dataframe tbody tr th {\n",
       "        vertical-align: top;\n",
       "    }\n",
       "\n",
       "    .dataframe thead th {\n",
       "        text-align: right;\n",
       "    }\n",
       "</style>\n",
       "<table border=\"1\" class=\"dataframe\">\n",
       "  <thead>\n",
       "    <tr style=\"text-align: right;\">\n",
       "      <th></th>\n",
       "      <th>noun</th>\n",
       "      <th>count</th>\n",
       "    </tr>\n",
       "  </thead>\n",
       "  <tbody>\n",
       "    <tr>\n",
       "      <th>0</th>\n",
       "      <td>caballero</td>\n",
       "      <td>61</td>\n",
       "    </tr>\n",
       "    <tr>\n",
       "      <th>1</th>\n",
       "      <td>don</td>\n",
       "      <td>56</td>\n",
       "    </tr>\n",
       "    <tr>\n",
       "      <th>2</th>\n",
       "      <td>libro</td>\n",
       "      <td>48</td>\n",
       "    </tr>\n",
       "    <tr>\n",
       "      <th>3</th>\n",
       "      <td>señor</td>\n",
       "      <td>38</td>\n",
       "    </tr>\n",
       "    <tr>\n",
       "      <th>4</th>\n",
       "      <td>cura</td>\n",
       "      <td>33</td>\n",
       "    </tr>\n",
       "    <tr>\n",
       "      <th>...</th>\n",
       "      <td>...</td>\n",
       "      <td>...</td>\n",
       "    </tr>\n",
       "    <tr>\n",
       "      <th>95</th>\n",
       "      <td>hombre</td>\n",
       "      <td>5</td>\n",
       "    </tr>\n",
       "    <tr>\n",
       "      <th>96</th>\n",
       "      <td>batalla</td>\n",
       "      <td>5</td>\n",
       "    </tr>\n",
       "    <tr>\n",
       "      <th>97</th>\n",
       "      <td>gigante</td>\n",
       "      <td>5</td>\n",
       "    </tr>\n",
       "    <tr>\n",
       "      <th>98</th>\n",
       "      <td>valor</td>\n",
       "      <td>5</td>\n",
       "    </tr>\n",
       "    <tr>\n",
       "      <th>99</th>\n",
       "      <td>moza</td>\n",
       "      <td>5</td>\n",
       "    </tr>\n",
       "  </tbody>\n",
       "</table>\n",
       "<p>100 rows × 2 columns</p>\n",
       "</div>"
      ],
      "text/plain": [
       "         noun  count\n",
       "0   caballero     61\n",
       "1         don     56\n",
       "2       libro     48\n",
       "3       señor     38\n",
       "4        cura     33\n",
       "..        ...    ...\n",
       "95     hombre      5\n",
       "96    batalla      5\n",
       "97    gigante      5\n",
       "98      valor      5\n",
       "99       moza      5\n",
       "\n",
       "[100 rows x 2 columns]"
      ]
     },
     "execution_count": 18,
     "metadata": {},
     "output_type": "execute_result"
    }
   ],
   "source": [
    "nouns = []\n",
    "for token in nlp(text):\n",
    "    if token.pos_ == 'NOUN':\n",
    "        nouns.append(token.lemma_)\n",
    "\n",
    "nouns_tally = Counter(nouns)\n",
    "\n",
    "df = pd.DataFrame(nouns_tally.most_common(), columns=['noun', 'count'])\n",
    "df[:100]"
   ]
  },
  {
   "cell_type": "markdown",
   "id": "e73903ce",
   "metadata": {},
   "source": [
    "### Visualizer (entity recognizer)\n",
    "\n",
    "Visualizando el reconocedor de entidades. <https://spacy.io/usage/visualizers#ent>\n",
    "\n",
    "Usamos dos modelos distintos."
   ]
  },
  {
   "cell_type": "code",
   "execution_count": 19,
   "id": "3af861cf",
   "metadata": {},
   "outputs": [
    {
     "data": {
      "text/html": [
       "<span class=\"tex2jax_ignore\"><div class=\"entities\" style=\"line-height: 2.5; direction: ltr\">\n",
       "<mark class=\"entity\" style=\"background: linear-gradient(90deg, #aa9cfc, #fc9ce7); padding: 0.45em 0.6em; margin: 0 0.25em; line-height: 1; border-radius: 0.35em;\">\n",
       "    María\n",
       "    <span style=\"font-size: 0.8em; font-weight: bold; line-height: 1; border-radius: 0.35em; vertical-align: middle; margin-left: 0.5rem\">PER</span>\n",
       "</mark>\n",
       " se fue en 2020 al río \n",
       "<mark class=\"entity\" style=\"background: linear-gradient(90deg, orange, lightblue); padding: 0.45em 0.6em; margin: 0 0.25em; line-height: 1; border-radius: 0.35em;\">\n",
       "    Guadiana\n",
       "    <span style=\"font-size: 0.8em; font-weight: bold; line-height: 1; border-radius: 0.35em; vertical-align: middle; margin-left: 0.5rem\">LOC</span>\n",
       "</mark>\n",
       " a pescar peces coloridos mientras \n",
       "<mark class=\"entity\" style=\"background: linear-gradient(90deg, #aa9cfc, #fc9ce7); padding: 0.45em 0.6em; margin: 0 0.25em; line-height: 1; border-radius: 0.35em;\">\n",
       "    Mario\n",
       "    <span style=\"font-size: 0.8em; font-weight: bold; line-height: 1; border-radius: 0.35em; vertical-align: middle; margin-left: 0.5rem\">PER</span>\n",
       "</mark>\n",
       " iban a por bebida al supermercado \n",
       "<mark class=\"entity\" style=\"background: linear-gradient(90deg, orange, lightblue); padding: 0.45em 0.6em; margin: 0 0.25em; line-height: 1; border-radius: 0.35em;\">\n",
       "    Mercado\n",
       "    <span style=\"font-size: 0.8em; font-weight: bold; line-height: 1; border-radius: 0.35em; vertical-align: middle; margin-left: 0.5rem\">LOC</span>\n",
       "</mark>\n",
       "</div></span>"
      ],
      "text/plain": [
       "<IPython.core.display.HTML object>"
      ]
     },
     "metadata": {},
     "output_type": "display_data"
    }
   ],
   "source": [
    "text = \"María se fue en 2020 al río Guadiana a pescar peces coloridos mientras Mario iban a por bebida al supermercado Mercado\"\n",
    "\n",
    "colors = {\"PER\": \"linear-gradient(90deg, #aa9cfc, #fc9ce7)\",\n",
    "          \"LOC\": \"linear-gradient(90deg, orange, lightblue)\"}\n",
    "options = {#\"ents\": [\"PER\"], # si quisiéramos especificar las entidades que queremos mostrar\n",
    "           \"colors\": colors}\n",
    "\n",
    "doc = nlp(text)\n",
    "#displacy.server(doc, style=\"ent\", options=options, auto_select_port=True)\n",
    "displacy.render(doc, style=\"ent\", options=options)"
   ]
  },
  {
   "cell_type": "code",
   "execution_count": 20,
   "id": "df779d09",
   "metadata": {},
   "outputs": [
    {
     "data": {
      "text/html": [
       "<span class=\"tex2jax_ignore\"><div class=\"entities\" style=\"line-height: 2.5; direction: ltr\">\n",
       "<mark class=\"entity\" style=\"background: #aa9cfc; padding: 0.45em 0.6em; margin: 0 0.25em; line-height: 1; border-radius: 0.35em;\">\n",
       "    María se fue\n",
       "    <span style=\"font-size: 0.8em; font-weight: bold; line-height: 1; border-radius: 0.35em; vertical-align: middle; margin-left: 0.5rem\">PERSON</span>\n",
       "</mark>\n",
       " en \n",
       "<mark class=\"entity\" style=\"background: #bfe1d9; padding: 0.45em 0.6em; margin: 0 0.25em; line-height: 1; border-radius: 0.35em;\">\n",
       "    2020\n",
       "    <span style=\"font-size: 0.8em; font-weight: bold; line-height: 1; border-radius: 0.35em; vertical-align: middle; margin-left: 0.5rem\">DATE</span>\n",
       "</mark>\n",
       " \n",
       "<mark class=\"entity\" style=\"background: #aa9cfc; padding: 0.45em 0.6em; margin: 0 0.25em; line-height: 1; border-radius: 0.35em;\">\n",
       "    al río Guadiana\n",
       "    <span style=\"font-size: 0.8em; font-weight: bold; line-height: 1; border-radius: 0.35em; vertical-align: middle; margin-left: 0.5rem\">PERSON</span>\n",
       "</mark>\n",
       " a pescar peces coloridos mientras \n",
       "<mark class=\"entity\" style=\"background: #aa9cfc; padding: 0.45em 0.6em; margin: 0 0.25em; line-height: 1; border-radius: 0.35em;\">\n",
       "    Mario\n",
       "    <span style=\"font-size: 0.8em; font-weight: bold; line-height: 1; border-radius: 0.35em; vertical-align: middle; margin-left: 0.5rem\">PERSON</span>\n",
       "</mark>\n",
       " iban a por bebida \n",
       "<mark class=\"entity\" style=\"background: #aa9cfc; padding: 0.45em 0.6em; margin: 0 0.25em; line-height: 1; border-radius: 0.35em;\">\n",
       "    al supermercado\n",
       "    <span style=\"font-size: 0.8em; font-weight: bold; line-height: 1; border-radius: 0.35em; vertical-align: middle; margin-left: 0.5rem\">PERSON</span>\n",
       "</mark>\n",
       " \n",
       "<mark class=\"entity\" style=\"background: #feca74; padding: 0.45em 0.6em; margin: 0 0.25em; line-height: 1; border-radius: 0.35em;\">\n",
       "    Mercado\n",
       "    <span style=\"font-size: 0.8em; font-weight: bold; line-height: 1; border-radius: 0.35em; vertical-align: middle; margin-left: 0.5rem\">GPE</span>\n",
       "</mark>\n",
       "</div></span>"
      ],
      "text/plain": [
       "<IPython.core.display.HTML object>"
      ]
     },
     "metadata": {},
     "output_type": "display_data"
    }
   ],
   "source": [
    "text = \"María se fue en 2020 al río Guadiana a pescar peces coloridos mientras Mario iban a por bebida al supermercado Mercado\"\n",
    "\n",
    "nlp_en = spacy.load(\"en_core_web_sm\")\n",
    "doc = nlp_en(text)\n",
    "displacy.render(doc, style=\"ent\", options=options)"
   ]
  },
  {
   "cell_type": "code",
   "execution_count": 21,
   "id": "87e4b5d8",
   "metadata": {},
   "outputs": [
    {
     "data": {
      "text/html": [
       "<span class=\"tex2jax_ignore\"><svg xmlns=\"http://www.w3.org/2000/svg\" xmlns:xlink=\"http://www.w3.org/1999/xlink\" xml:lang=\"es\" id=\"a49f8efdab054a22907812693c77d8ea-0\" class=\"displacy\" width=\"4250\" height=\"574.5\" direction=\"ltr\" style=\"max-width: none; height: 574.5px; color: #000000; background: #ffffff; font-family: Arial; direction: ltr\">\n",
       "<text class=\"displacy-token\" fill=\"currentColor\" text-anchor=\"middle\" y=\"484.5\">\n",
       "    <tspan class=\"displacy-word\" fill=\"currentColor\" x=\"50\">Cuando</tspan>\n",
       "    <tspan class=\"displacy-tag\" dy=\"2em\" fill=\"currentColor\" x=\"50\">SCONJ</tspan>\n",
       "</text>\n",
       "\n",
       "<text class=\"displacy-token\" fill=\"currentColor\" text-anchor=\"middle\" y=\"484.5\">\n",
       "    <tspan class=\"displacy-word\" fill=\"currentColor\" x=\"225\">Mario</tspan>\n",
       "    <tspan class=\"displacy-tag\" dy=\"2em\" fill=\"currentColor\" x=\"225\">PROPN</tspan>\n",
       "</text>\n",
       "\n",
       "<text class=\"displacy-token\" fill=\"currentColor\" text-anchor=\"middle\" y=\"484.5\">\n",
       "    <tspan class=\"displacy-word\" fill=\"currentColor\" x=\"400\">Camacho</tspan>\n",
       "    <tspan class=\"displacy-tag\" dy=\"2em\" fill=\"currentColor\" x=\"400\">PROPN</tspan>\n",
       "</text>\n",
       "\n",
       "<text class=\"displacy-token\" fill=\"currentColor\" text-anchor=\"middle\" y=\"484.5\">\n",
       "    <tspan class=\"displacy-word\" fill=\"currentColor\" x=\"575\">empezó</tspan>\n",
       "    <tspan class=\"displacy-tag\" dy=\"2em\" fill=\"currentColor\" x=\"575\">VERB</tspan>\n",
       "</text>\n",
       "\n",
       "<text class=\"displacy-token\" fill=\"currentColor\" text-anchor=\"middle\" y=\"484.5\">\n",
       "    <tspan class=\"displacy-word\" fill=\"currentColor\" x=\"750\">a</tspan>\n",
       "    <tspan class=\"displacy-tag\" dy=\"2em\" fill=\"currentColor\" x=\"750\">ADP</tspan>\n",
       "</text>\n",
       "\n",
       "<text class=\"displacy-token\" fill=\"currentColor\" text-anchor=\"middle\" y=\"484.5\">\n",
       "    <tspan class=\"displacy-word\" fill=\"currentColor\" x=\"925\">trabajar</tspan>\n",
       "    <tspan class=\"displacy-tag\" dy=\"2em\" fill=\"currentColor\" x=\"925\">VERB</tspan>\n",
       "</text>\n",
       "\n",
       "<text class=\"displacy-token\" fill=\"currentColor\" text-anchor=\"middle\" y=\"484.5\">\n",
       "    <tspan class=\"displacy-word\" fill=\"currentColor\" x=\"1100\">en</tspan>\n",
       "    <tspan class=\"displacy-tag\" dy=\"2em\" fill=\"currentColor\" x=\"1100\">ADP</tspan>\n",
       "</text>\n",
       "\n",
       "<text class=\"displacy-token\" fill=\"currentColor\" text-anchor=\"middle\" y=\"484.5\">\n",
       "    <tspan class=\"displacy-word\" fill=\"currentColor\" x=\"1275\">coches</tspan>\n",
       "    <tspan class=\"displacy-tag\" dy=\"2em\" fill=\"currentColor\" x=\"1275\">NOUN</tspan>\n",
       "</text>\n",
       "\n",
       "<text class=\"displacy-token\" fill=\"currentColor\" text-anchor=\"middle\" y=\"484.5\">\n",
       "    <tspan class=\"displacy-word\" fill=\"currentColor\" x=\"1450\">autónomos</tspan>\n",
       "    <tspan class=\"displacy-tag\" dy=\"2em\" fill=\"currentColor\" x=\"1450\">ADJ</tspan>\n",
       "</text>\n",
       "\n",
       "<text class=\"displacy-token\" fill=\"currentColor\" text-anchor=\"middle\" y=\"484.5\">\n",
       "    <tspan class=\"displacy-word\" fill=\"currentColor\" x=\"1625\">en</tspan>\n",
       "    <tspan class=\"displacy-tag\" dy=\"2em\" fill=\"currentColor\" x=\"1625\">ADP</tspan>\n",
       "</text>\n",
       "\n",
       "<text class=\"displacy-token\" fill=\"currentColor\" text-anchor=\"middle\" y=\"484.5\">\n",
       "    <tspan class=\"displacy-word\" fill=\"currentColor\" x=\"1800\">Google</tspan>\n",
       "    <tspan class=\"displacy-tag\" dy=\"2em\" fill=\"currentColor\" x=\"1800\">PROPN</tspan>\n",
       "</text>\n",
       "\n",
       "<text class=\"displacy-token\" fill=\"currentColor\" text-anchor=\"middle\" y=\"484.5\">\n",
       "    <tspan class=\"displacy-word\" fill=\"currentColor\" x=\"1975\">en</tspan>\n",
       "    <tspan class=\"displacy-tag\" dy=\"2em\" fill=\"currentColor\" x=\"1975\">ADP</tspan>\n",
       "</text>\n",
       "\n",
       "<text class=\"displacy-token\" fill=\"currentColor\" text-anchor=\"middle\" y=\"484.5\">\n",
       "    <tspan class=\"displacy-word\" fill=\"currentColor\" x=\"2150\">2020,</tspan>\n",
       "    <tspan class=\"displacy-tag\" dy=\"2em\" fill=\"currentColor\" x=\"2150\">NOUN</tspan>\n",
       "</text>\n",
       "\n",
       "<text class=\"displacy-token\" fill=\"currentColor\" text-anchor=\"middle\" y=\"484.5\">\n",
       "    <tspan class=\"displacy-word\" fill=\"currentColor\" x=\"2325\">poca</tspan>\n",
       "    <tspan class=\"displacy-tag\" dy=\"2em\" fill=\"currentColor\" x=\"2325\">DET</tspan>\n",
       "</text>\n",
       "\n",
       "<text class=\"displacy-token\" fill=\"currentColor\" text-anchor=\"middle\" y=\"484.5\">\n",
       "    <tspan class=\"displacy-word\" fill=\"currentColor\" x=\"2500\">gente</tspan>\n",
       "    <tspan class=\"displacy-tag\" dy=\"2em\" fill=\"currentColor\" x=\"2500\">NOUN</tspan>\n",
       "</text>\n",
       "\n",
       "<text class=\"displacy-token\" fill=\"currentColor\" text-anchor=\"middle\" y=\"484.5\">\n",
       "    <tspan class=\"displacy-word\" fill=\"currentColor\" x=\"2675\">de</tspan>\n",
       "    <tspan class=\"displacy-tag\" dy=\"2em\" fill=\"currentColor\" x=\"2675\">ADP</tspan>\n",
       "</text>\n",
       "\n",
       "<text class=\"displacy-token\" fill=\"currentColor\" text-anchor=\"middle\" y=\"484.5\">\n",
       "    <tspan class=\"displacy-word\" fill=\"currentColor\" x=\"2850\">fuera</tspan>\n",
       "    <tspan class=\"displacy-tag\" dy=\"2em\" fill=\"currentColor\" x=\"2850\">ADV</tspan>\n",
       "</text>\n",
       "\n",
       "<text class=\"displacy-token\" fill=\"currentColor\" text-anchor=\"middle\" y=\"484.5\">\n",
       "    <tspan class=\"displacy-word\" fill=\"currentColor\" x=\"3025\">de</tspan>\n",
       "    <tspan class=\"displacy-tag\" dy=\"2em\" fill=\"currentColor\" x=\"3025\">ADP</tspan>\n",
       "</text>\n",
       "\n",
       "<text class=\"displacy-token\" fill=\"currentColor\" text-anchor=\"middle\" y=\"484.5\">\n",
       "    <tspan class=\"displacy-word\" fill=\"currentColor\" x=\"3200\">la</tspan>\n",
       "    <tspan class=\"displacy-tag\" dy=\"2em\" fill=\"currentColor\" x=\"3200\">DET</tspan>\n",
       "</text>\n",
       "\n",
       "<text class=\"displacy-token\" fill=\"currentColor\" text-anchor=\"middle\" y=\"484.5\">\n",
       "    <tspan class=\"displacy-word\" fill=\"currentColor\" x=\"3375\">compañía</tspan>\n",
       "    <tspan class=\"displacy-tag\" dy=\"2em\" fill=\"currentColor\" x=\"3375\">NOUN</tspan>\n",
       "</text>\n",
       "\n",
       "<text class=\"displacy-token\" fill=\"currentColor\" text-anchor=\"middle\" y=\"484.5\">\n",
       "    <tspan class=\"displacy-word\" fill=\"currentColor\" x=\"3550\">lo</tspan>\n",
       "    <tspan class=\"displacy-tag\" dy=\"2em\" fill=\"currentColor\" x=\"3550\">PRON</tspan>\n",
       "</text>\n",
       "\n",
       "<text class=\"displacy-token\" fill=\"currentColor\" text-anchor=\"middle\" y=\"484.5\">\n",
       "    <tspan class=\"displacy-word\" fill=\"currentColor\" x=\"3725\">tomó</tspan>\n",
       "    <tspan class=\"displacy-tag\" dy=\"2em\" fill=\"currentColor\" x=\"3725\">VERB</tspan>\n",
       "</text>\n",
       "\n",
       "<text class=\"displacy-token\" fill=\"currentColor\" text-anchor=\"middle\" y=\"484.5\">\n",
       "    <tspan class=\"displacy-word\" fill=\"currentColor\" x=\"3900\">en</tspan>\n",
       "    <tspan class=\"displacy-tag\" dy=\"2em\" fill=\"currentColor\" x=\"3900\">ADP</tspan>\n",
       "</text>\n",
       "\n",
       "<text class=\"displacy-token\" fill=\"currentColor\" text-anchor=\"middle\" y=\"484.5\">\n",
       "    <tspan class=\"displacy-word\" fill=\"currentColor\" x=\"4075\">serio</tspan>\n",
       "    <tspan class=\"displacy-tag\" dy=\"2em\" fill=\"currentColor\" x=\"4075\">NOUN</tspan>\n",
       "</text>\n",
       "\n",
       "<g class=\"displacy-arrow\">\n",
       "    <path class=\"displacy-arc\" id=\"arrow-a49f8efdab054a22907812693c77d8ea-0-0\" stroke-width=\"2px\" d=\"M70,439.5 C70,177.0 565.0,177.0 565.0,439.5\" fill=\"none\" stroke=\"currentColor\"/>\n",
       "    <text dy=\"1.25em\" style=\"font-size: 0.8em; letter-spacing: 1px\">\n",
       "        <textPath xlink:href=\"#arrow-a49f8efdab054a22907812693c77d8ea-0-0\" class=\"displacy-label\" startOffset=\"50%\" side=\"left\" fill=\"currentColor\" text-anchor=\"middle\">mark</textPath>\n",
       "    </text>\n",
       "    <path class=\"displacy-arrowhead\" d=\"M70,441.5 L62,429.5 78,429.5\" fill=\"currentColor\"/>\n",
       "</g>\n",
       "\n",
       "<g class=\"displacy-arrow\">\n",
       "    <path class=\"displacy-arc\" id=\"arrow-a49f8efdab054a22907812693c77d8ea-0-1\" stroke-width=\"2px\" d=\"M245,439.5 C245,264.5 560.0,264.5 560.0,439.5\" fill=\"none\" stroke=\"currentColor\"/>\n",
       "    <text dy=\"1.25em\" style=\"font-size: 0.8em; letter-spacing: 1px\">\n",
       "        <textPath xlink:href=\"#arrow-a49f8efdab054a22907812693c77d8ea-0-1\" class=\"displacy-label\" startOffset=\"50%\" side=\"left\" fill=\"currentColor\" text-anchor=\"middle\">nsubj</textPath>\n",
       "    </text>\n",
       "    <path class=\"displacy-arrowhead\" d=\"M245,441.5 L237,429.5 253,429.5\" fill=\"currentColor\"/>\n",
       "</g>\n",
       "\n",
       "<g class=\"displacy-arrow\">\n",
       "    <path class=\"displacy-arc\" id=\"arrow-a49f8efdab054a22907812693c77d8ea-0-2\" stroke-width=\"2px\" d=\"M245,439.5 C245,352.0 380.0,352.0 380.0,439.5\" fill=\"none\" stroke=\"currentColor\"/>\n",
       "    <text dy=\"1.25em\" style=\"font-size: 0.8em; letter-spacing: 1px\">\n",
       "        <textPath xlink:href=\"#arrow-a49f8efdab054a22907812693c77d8ea-0-2\" class=\"displacy-label\" startOffset=\"50%\" side=\"left\" fill=\"currentColor\" text-anchor=\"middle\">flat</textPath>\n",
       "    </text>\n",
       "    <path class=\"displacy-arrowhead\" d=\"M380.0,441.5 L388.0,429.5 372.0,429.5\" fill=\"currentColor\"/>\n",
       "</g>\n",
       "\n",
       "<g class=\"displacy-arrow\">\n",
       "    <path class=\"displacy-arc\" id=\"arrow-a49f8efdab054a22907812693c77d8ea-0-3\" stroke-width=\"2px\" d=\"M595,439.5 C595,2.0 3725.0,2.0 3725.0,439.5\" fill=\"none\" stroke=\"currentColor\"/>\n",
       "    <text dy=\"1.25em\" style=\"font-size: 0.8em; letter-spacing: 1px\">\n",
       "        <textPath xlink:href=\"#arrow-a49f8efdab054a22907812693c77d8ea-0-3\" class=\"displacy-label\" startOffset=\"50%\" side=\"left\" fill=\"currentColor\" text-anchor=\"middle\">advcl</textPath>\n",
       "    </text>\n",
       "    <path class=\"displacy-arrowhead\" d=\"M595,441.5 L587,429.5 603,429.5\" fill=\"currentColor\"/>\n",
       "</g>\n",
       "\n",
       "<g class=\"displacy-arrow\">\n",
       "    <path class=\"displacy-arc\" id=\"arrow-a49f8efdab054a22907812693c77d8ea-0-4\" stroke-width=\"2px\" d=\"M770,439.5 C770,352.0 905.0,352.0 905.0,439.5\" fill=\"none\" stroke=\"currentColor\"/>\n",
       "    <text dy=\"1.25em\" style=\"font-size: 0.8em; letter-spacing: 1px\">\n",
       "        <textPath xlink:href=\"#arrow-a49f8efdab054a22907812693c77d8ea-0-4\" class=\"displacy-label\" startOffset=\"50%\" side=\"left\" fill=\"currentColor\" text-anchor=\"middle\">mark</textPath>\n",
       "    </text>\n",
       "    <path class=\"displacy-arrowhead\" d=\"M770,441.5 L762,429.5 778,429.5\" fill=\"currentColor\"/>\n",
       "</g>\n",
       "\n",
       "<g class=\"displacy-arrow\">\n",
       "    <path class=\"displacy-arc\" id=\"arrow-a49f8efdab054a22907812693c77d8ea-0-5\" stroke-width=\"2px\" d=\"M595,439.5 C595,264.5 910.0,264.5 910.0,439.5\" fill=\"none\" stroke=\"currentColor\"/>\n",
       "    <text dy=\"1.25em\" style=\"font-size: 0.8em; letter-spacing: 1px\">\n",
       "        <textPath xlink:href=\"#arrow-a49f8efdab054a22907812693c77d8ea-0-5\" class=\"displacy-label\" startOffset=\"50%\" side=\"left\" fill=\"currentColor\" text-anchor=\"middle\">xcomp</textPath>\n",
       "    </text>\n",
       "    <path class=\"displacy-arrowhead\" d=\"M910.0,441.5 L918.0,429.5 902.0,429.5\" fill=\"currentColor\"/>\n",
       "</g>\n",
       "\n",
       "<g class=\"displacy-arrow\">\n",
       "    <path class=\"displacy-arc\" id=\"arrow-a49f8efdab054a22907812693c77d8ea-0-6\" stroke-width=\"2px\" d=\"M1120,439.5 C1120,352.0 1255.0,352.0 1255.0,439.5\" fill=\"none\" stroke=\"currentColor\"/>\n",
       "    <text dy=\"1.25em\" style=\"font-size: 0.8em; letter-spacing: 1px\">\n",
       "        <textPath xlink:href=\"#arrow-a49f8efdab054a22907812693c77d8ea-0-6\" class=\"displacy-label\" startOffset=\"50%\" side=\"left\" fill=\"currentColor\" text-anchor=\"middle\">case</textPath>\n",
       "    </text>\n",
       "    <path class=\"displacy-arrowhead\" d=\"M1120,441.5 L1112,429.5 1128,429.5\" fill=\"currentColor\"/>\n",
       "</g>\n",
       "\n",
       "<g class=\"displacy-arrow\">\n",
       "    <path class=\"displacy-arc\" id=\"arrow-a49f8efdab054a22907812693c77d8ea-0-7\" stroke-width=\"2px\" d=\"M595,439.5 C595,177.0 1265.0,177.0 1265.0,439.5\" fill=\"none\" stroke=\"currentColor\"/>\n",
       "    <text dy=\"1.25em\" style=\"font-size: 0.8em; letter-spacing: 1px\">\n",
       "        <textPath xlink:href=\"#arrow-a49f8efdab054a22907812693c77d8ea-0-7\" class=\"displacy-label\" startOffset=\"50%\" side=\"left\" fill=\"currentColor\" text-anchor=\"middle\">obl</textPath>\n",
       "    </text>\n",
       "    <path class=\"displacy-arrowhead\" d=\"M1265.0,441.5 L1273.0,429.5 1257.0,429.5\" fill=\"currentColor\"/>\n",
       "</g>\n",
       "\n",
       "<g class=\"displacy-arrow\">\n",
       "    <path class=\"displacy-arc\" id=\"arrow-a49f8efdab054a22907812693c77d8ea-0-8\" stroke-width=\"2px\" d=\"M1295,439.5 C1295,352.0 1430.0,352.0 1430.0,439.5\" fill=\"none\" stroke=\"currentColor\"/>\n",
       "    <text dy=\"1.25em\" style=\"font-size: 0.8em; letter-spacing: 1px\">\n",
       "        <textPath xlink:href=\"#arrow-a49f8efdab054a22907812693c77d8ea-0-8\" class=\"displacy-label\" startOffset=\"50%\" side=\"left\" fill=\"currentColor\" text-anchor=\"middle\">amod</textPath>\n",
       "    </text>\n",
       "    <path class=\"displacy-arrowhead\" d=\"M1430.0,441.5 L1438.0,429.5 1422.0,429.5\" fill=\"currentColor\"/>\n",
       "</g>\n",
       "\n",
       "<g class=\"displacy-arrow\">\n",
       "    <path class=\"displacy-arc\" id=\"arrow-a49f8efdab054a22907812693c77d8ea-0-9\" stroke-width=\"2px\" d=\"M1645,439.5 C1645,352.0 1780.0,352.0 1780.0,439.5\" fill=\"none\" stroke=\"currentColor\"/>\n",
       "    <text dy=\"1.25em\" style=\"font-size: 0.8em; letter-spacing: 1px\">\n",
       "        <textPath xlink:href=\"#arrow-a49f8efdab054a22907812693c77d8ea-0-9\" class=\"displacy-label\" startOffset=\"50%\" side=\"left\" fill=\"currentColor\" text-anchor=\"middle\">case</textPath>\n",
       "    </text>\n",
       "    <path class=\"displacy-arrowhead\" d=\"M1645,441.5 L1637,429.5 1653,429.5\" fill=\"currentColor\"/>\n",
       "</g>\n",
       "\n",
       "<g class=\"displacy-arrow\">\n",
       "    <path class=\"displacy-arc\" id=\"arrow-a49f8efdab054a22907812693c77d8ea-0-10\" stroke-width=\"2px\" d=\"M1295,439.5 C1295,264.5 1785.0,264.5 1785.0,439.5\" fill=\"none\" stroke=\"currentColor\"/>\n",
       "    <text dy=\"1.25em\" style=\"font-size: 0.8em; letter-spacing: 1px\">\n",
       "        <textPath xlink:href=\"#arrow-a49f8efdab054a22907812693c77d8ea-0-10\" class=\"displacy-label\" startOffset=\"50%\" side=\"left\" fill=\"currentColor\" text-anchor=\"middle\">nmod</textPath>\n",
       "    </text>\n",
       "    <path class=\"displacy-arrowhead\" d=\"M1785.0,441.5 L1793.0,429.5 1777.0,429.5\" fill=\"currentColor\"/>\n",
       "</g>\n",
       "\n",
       "<g class=\"displacy-arrow\">\n",
       "    <path class=\"displacy-arc\" id=\"arrow-a49f8efdab054a22907812693c77d8ea-0-11\" stroke-width=\"2px\" d=\"M1995,439.5 C1995,352.0 2130.0,352.0 2130.0,439.5\" fill=\"none\" stroke=\"currentColor\"/>\n",
       "    <text dy=\"1.25em\" style=\"font-size: 0.8em; letter-spacing: 1px\">\n",
       "        <textPath xlink:href=\"#arrow-a49f8efdab054a22907812693c77d8ea-0-11\" class=\"displacy-label\" startOffset=\"50%\" side=\"left\" fill=\"currentColor\" text-anchor=\"middle\">case</textPath>\n",
       "    </text>\n",
       "    <path class=\"displacy-arrowhead\" d=\"M1995,441.5 L1987,429.5 2003,429.5\" fill=\"currentColor\"/>\n",
       "</g>\n",
       "\n",
       "<g class=\"displacy-arrow\">\n",
       "    <path class=\"displacy-arc\" id=\"arrow-a49f8efdab054a22907812693c77d8ea-0-12\" stroke-width=\"2px\" d=\"M595,439.5 C595,89.5 2145.0,89.5 2145.0,439.5\" fill=\"none\" stroke=\"currentColor\"/>\n",
       "    <text dy=\"1.25em\" style=\"font-size: 0.8em; letter-spacing: 1px\">\n",
       "        <textPath xlink:href=\"#arrow-a49f8efdab054a22907812693c77d8ea-0-12\" class=\"displacy-label\" startOffset=\"50%\" side=\"left\" fill=\"currentColor\" text-anchor=\"middle\">obl</textPath>\n",
       "    </text>\n",
       "    <path class=\"displacy-arrowhead\" d=\"M2145.0,441.5 L2153.0,429.5 2137.0,429.5\" fill=\"currentColor\"/>\n",
       "</g>\n",
       "\n",
       "<g class=\"displacy-arrow\">\n",
       "    <path class=\"displacy-arc\" id=\"arrow-a49f8efdab054a22907812693c77d8ea-0-13\" stroke-width=\"2px\" d=\"M2345,439.5 C2345,352.0 2480.0,352.0 2480.0,439.5\" fill=\"none\" stroke=\"currentColor\"/>\n",
       "    <text dy=\"1.25em\" style=\"font-size: 0.8em; letter-spacing: 1px\">\n",
       "        <textPath xlink:href=\"#arrow-a49f8efdab054a22907812693c77d8ea-0-13\" class=\"displacy-label\" startOffset=\"50%\" side=\"left\" fill=\"currentColor\" text-anchor=\"middle\">det</textPath>\n",
       "    </text>\n",
       "    <path class=\"displacy-arrowhead\" d=\"M2345,441.5 L2337,429.5 2353,429.5\" fill=\"currentColor\"/>\n",
       "</g>\n",
       "\n",
       "<g class=\"displacy-arrow\">\n",
       "    <path class=\"displacy-arc\" id=\"arrow-a49f8efdab054a22907812693c77d8ea-0-14\" stroke-width=\"2px\" d=\"M2520,439.5 C2520,89.5 3720.0,89.5 3720.0,439.5\" fill=\"none\" stroke=\"currentColor\"/>\n",
       "    <text dy=\"1.25em\" style=\"font-size: 0.8em; letter-spacing: 1px\">\n",
       "        <textPath xlink:href=\"#arrow-a49f8efdab054a22907812693c77d8ea-0-14\" class=\"displacy-label\" startOffset=\"50%\" side=\"left\" fill=\"currentColor\" text-anchor=\"middle\">iobj</textPath>\n",
       "    </text>\n",
       "    <path class=\"displacy-arrowhead\" d=\"M2520,441.5 L2512,429.5 2528,429.5\" fill=\"currentColor\"/>\n",
       "</g>\n",
       "\n",
       "<g class=\"displacy-arrow\">\n",
       "    <path class=\"displacy-arc\" id=\"arrow-a49f8efdab054a22907812693c77d8ea-0-15\" stroke-width=\"2px\" d=\"M2695,439.5 C2695,352.0 2830.0,352.0 2830.0,439.5\" fill=\"none\" stroke=\"currentColor\"/>\n",
       "    <text dy=\"1.25em\" style=\"font-size: 0.8em; letter-spacing: 1px\">\n",
       "        <textPath xlink:href=\"#arrow-a49f8efdab054a22907812693c77d8ea-0-15\" class=\"displacy-label\" startOffset=\"50%\" side=\"left\" fill=\"currentColor\" text-anchor=\"middle\">case</textPath>\n",
       "    </text>\n",
       "    <path class=\"displacy-arrowhead\" d=\"M2695,441.5 L2687,429.5 2703,429.5\" fill=\"currentColor\"/>\n",
       "</g>\n",
       "\n",
       "<g class=\"displacy-arrow\">\n",
       "    <path class=\"displacy-arc\" id=\"arrow-a49f8efdab054a22907812693c77d8ea-0-16\" stroke-width=\"2px\" d=\"M2520,439.5 C2520,264.5 2835.0,264.5 2835.0,439.5\" fill=\"none\" stroke=\"currentColor\"/>\n",
       "    <text dy=\"1.25em\" style=\"font-size: 0.8em; letter-spacing: 1px\">\n",
       "        <textPath xlink:href=\"#arrow-a49f8efdab054a22907812693c77d8ea-0-16\" class=\"displacy-label\" startOffset=\"50%\" side=\"left\" fill=\"currentColor\" text-anchor=\"middle\">advmod</textPath>\n",
       "    </text>\n",
       "    <path class=\"displacy-arrowhead\" d=\"M2835.0,441.5 L2843.0,429.5 2827.0,429.5\" fill=\"currentColor\"/>\n",
       "</g>\n",
       "\n",
       "<g class=\"displacy-arrow\">\n",
       "    <path class=\"displacy-arc\" id=\"arrow-a49f8efdab054a22907812693c77d8ea-0-17\" stroke-width=\"2px\" d=\"M3045,439.5 C3045,264.5 3360.0,264.5 3360.0,439.5\" fill=\"none\" stroke=\"currentColor\"/>\n",
       "    <text dy=\"1.25em\" style=\"font-size: 0.8em; letter-spacing: 1px\">\n",
       "        <textPath xlink:href=\"#arrow-a49f8efdab054a22907812693c77d8ea-0-17\" class=\"displacy-label\" startOffset=\"50%\" side=\"left\" fill=\"currentColor\" text-anchor=\"middle\">case</textPath>\n",
       "    </text>\n",
       "    <path class=\"displacy-arrowhead\" d=\"M3045,441.5 L3037,429.5 3053,429.5\" fill=\"currentColor\"/>\n",
       "</g>\n",
       "\n",
       "<g class=\"displacy-arrow\">\n",
       "    <path class=\"displacy-arc\" id=\"arrow-a49f8efdab054a22907812693c77d8ea-0-18\" stroke-width=\"2px\" d=\"M3220,439.5 C3220,352.0 3355.0,352.0 3355.0,439.5\" fill=\"none\" stroke=\"currentColor\"/>\n",
       "    <text dy=\"1.25em\" style=\"font-size: 0.8em; letter-spacing: 1px\">\n",
       "        <textPath xlink:href=\"#arrow-a49f8efdab054a22907812693c77d8ea-0-18\" class=\"displacy-label\" startOffset=\"50%\" side=\"left\" fill=\"currentColor\" text-anchor=\"middle\">det</textPath>\n",
       "    </text>\n",
       "    <path class=\"displacy-arrowhead\" d=\"M3220,441.5 L3212,429.5 3228,429.5\" fill=\"currentColor\"/>\n",
       "</g>\n",
       "\n",
       "<g class=\"displacy-arrow\">\n",
       "    <path class=\"displacy-arc\" id=\"arrow-a49f8efdab054a22907812693c77d8ea-0-19\" stroke-width=\"2px\" d=\"M2870,439.5 C2870,177.0 3365.0,177.0 3365.0,439.5\" fill=\"none\" stroke=\"currentColor\"/>\n",
       "    <text dy=\"1.25em\" style=\"font-size: 0.8em; letter-spacing: 1px\">\n",
       "        <textPath xlink:href=\"#arrow-a49f8efdab054a22907812693c77d8ea-0-19\" class=\"displacy-label\" startOffset=\"50%\" side=\"left\" fill=\"currentColor\" text-anchor=\"middle\">obl</textPath>\n",
       "    </text>\n",
       "    <path class=\"displacy-arrowhead\" d=\"M3365.0,441.5 L3373.0,429.5 3357.0,429.5\" fill=\"currentColor\"/>\n",
       "</g>\n",
       "\n",
       "<g class=\"displacy-arrow\">\n",
       "    <path class=\"displacy-arc\" id=\"arrow-a49f8efdab054a22907812693c77d8ea-0-20\" stroke-width=\"2px\" d=\"M3570,439.5 C3570,352.0 3705.0,352.0 3705.0,439.5\" fill=\"none\" stroke=\"currentColor\"/>\n",
       "    <text dy=\"1.25em\" style=\"font-size: 0.8em; letter-spacing: 1px\">\n",
       "        <textPath xlink:href=\"#arrow-a49f8efdab054a22907812693c77d8ea-0-20\" class=\"displacy-label\" startOffset=\"50%\" side=\"left\" fill=\"currentColor\" text-anchor=\"middle\">obj</textPath>\n",
       "    </text>\n",
       "    <path class=\"displacy-arrowhead\" d=\"M3570,441.5 L3562,429.5 3578,429.5\" fill=\"currentColor\"/>\n",
       "</g>\n",
       "\n",
       "<g class=\"displacy-arrow\">\n",
       "    <path class=\"displacy-arc\" id=\"arrow-a49f8efdab054a22907812693c77d8ea-0-21\" stroke-width=\"2px\" d=\"M3745,439.5 C3745,352.0 3880.0,352.0 3880.0,439.5\" fill=\"none\" stroke=\"currentColor\"/>\n",
       "    <text dy=\"1.25em\" style=\"font-size: 0.8em; letter-spacing: 1px\">\n",
       "        <textPath xlink:href=\"#arrow-a49f8efdab054a22907812693c77d8ea-0-21\" class=\"displacy-label\" startOffset=\"50%\" side=\"left\" fill=\"currentColor\" text-anchor=\"middle\">advmod</textPath>\n",
       "    </text>\n",
       "    <path class=\"displacy-arrowhead\" d=\"M3880.0,441.5 L3888.0,429.5 3872.0,429.5\" fill=\"currentColor\"/>\n",
       "</g>\n",
       "\n",
       "<g class=\"displacy-arrow\">\n",
       "    <path class=\"displacy-arc\" id=\"arrow-a49f8efdab054a22907812693c77d8ea-0-22\" stroke-width=\"2px\" d=\"M3920,439.5 C3920,352.0 4055.0,352.0 4055.0,439.5\" fill=\"none\" stroke=\"currentColor\"/>\n",
       "    <text dy=\"1.25em\" style=\"font-size: 0.8em; letter-spacing: 1px\">\n",
       "        <textPath xlink:href=\"#arrow-a49f8efdab054a22907812693c77d8ea-0-22\" class=\"displacy-label\" startOffset=\"50%\" side=\"left\" fill=\"currentColor\" text-anchor=\"middle\">fixed</textPath>\n",
       "    </text>\n",
       "    <path class=\"displacy-arrowhead\" d=\"M4055.0,441.5 L4063.0,429.5 4047.0,429.5\" fill=\"currentColor\"/>\n",
       "</g>\n",
       "</svg></span>"
      ],
      "text/plain": [
       "<IPython.core.display.HTML object>"
      ]
     },
     "metadata": {},
     "output_type": "display_data"
    }
   ],
   "source": [
    "import spacy\n",
    "from spacy import displacy\n",
    "\n",
    "text = \"Cuando Mario Camacho empezó a trabajar en coches autónomos en Google en 2020, poca gente de fuera de la compañía lo tomó en serio\"\n",
    "\n",
    "doc = nlp(text)\n",
    "displacy.render(doc)"
   ]
  },
  {
   "cell_type": "code",
   "execution_count": 22,
   "id": "7d2a0bc0",
   "metadata": {},
   "outputs": [],
   "source": [
    "a=nlp(text).ents[0]"
   ]
  },
  {
   "cell_type": "code",
   "execution_count": 23,
   "id": "91e2a06c",
   "metadata": {},
   "outputs": [
    {
     "name": "stdout",
     "output_type": "stream",
     "text": [
      "obj.label_ = 'PER'\n"
     ]
    }
   ],
   "source": [
    "for attr in dir(a):\n",
    "    if attr != 'doc' and attr != 'sent' and attr == 'label_':\n",
    "        print(\"obj.%s = %r\" % (attr, getattr(a, attr)))"
   ]
  },
  {
   "cell_type": "code",
   "execution_count": 24,
   "id": "f9aec623",
   "metadata": {},
   "outputs": [],
   "source": [
    "#for named_entity in nlp(text).ents:\n",
    "#    print(named_entity, named_entity.label_)"
   ]
  },
  {
   "cell_type": "code",
   "execution_count": 25,
   "id": "6d5deb31",
   "metadata": {},
   "outputs": [
    {
     "name": "stdout",
     "output_type": "stream",
     "text": [
      "Cuando SCONJ SCONJ\n",
      "Mario PROPN PROPN\n",
      "Camacho PROPN PROPN\n",
      "empezó VERB VERB\n",
      "a ADP ADP\n",
      "trabajar VERB VERB\n",
      "en ADP ADP\n",
      "coches NOUN NOUN\n",
      "autónomos ADJ ADJ\n",
      "en ADP ADP\n"
     ]
    }
   ],
   "source": [
    "#import spacy\n",
    "\n",
    "#nlp = spacy.load(\"es_core_news_md\")\n",
    "doc = nlp(text)[:10]\n",
    "for token in doc:\n",
    "    print(token.text, token.pos_, token.tag_ )"
   ]
  },
  {
   "cell_type": "markdown",
   "id": "e75d1340",
   "metadata": {},
   "source": [
    "## NER\n",
    "\n",
    "Named-Entity Recognition.\n",
    "\n",
    "Realizamos esta subtarea de NPL mediante la librería spaCy."
   ]
  },
  {
   "cell_type": "code",
   "execution_count": 26,
   "id": "197b5c0d",
   "metadata": {},
   "outputs": [],
   "source": [
    "#| code-fold: false\n",
    "documento = nlp(text)"
   ]
  },
  {
   "cell_type": "markdown",
   "id": "cb46962e",
   "metadata": {},
   "source": [
    "Todas las entidades nombradas se encuentran en la propiedad **document.ents**."
   ]
  },
  {
   "cell_type": "code",
   "execution_count": 27,
   "id": "4ead5a65",
   "metadata": {},
   "outputs": [
    {
     "name": "stdout",
     "output_type": "stream",
     "text": [
      "Mario Camacho PER\n",
      "Google ORG\n"
     ]
    }
   ],
   "source": [
    "for named_entity in list(documento.ents)[:10]:\n",
    "    print(named_entity, named_entity.label_)"
   ]
  },
  {
   "cell_type": "code",
   "execution_count": 28,
   "id": "46b5d242",
   "metadata": {},
   "outputs": [
    {
     "name": "stdout",
     "output_type": "stream",
     "text": [
      "       character  count\n",
      "0  Mario Camacho      1\n"
     ]
    }
   ],
   "source": [
    "import pandas as pd\n",
    "from collections import Counter\n",
    "people = []\n",
    "\n",
    "for named_entity in documento.ents:\n",
    "    if named_entity.label_ == \"PER\":\n",
    "        people.append(named_entity.text)\n",
    "\n",
    "people_tally = Counter(people)\n",
    "\n",
    "df = pd.DataFrame(people_tally.most_common(), columns=['character', 'count'])\n",
    "print(df)"
   ]
  },
  {
   "cell_type": "code",
   "execution_count": 29,
   "id": "466bcf7c",
   "metadata": {},
   "outputs": [
    {
     "data": {
      "text/html": [
       "\n",
       "    <style>\n",
       "        table {\n",
       "            width: 50%;\n",
       "            margin: 20px auto;\n",
       "            border-collapse: collapse;\n",
       "            box-shadow: 0 5px 10px rgba(0,0,0,0.1);\n",
       "        }\n",
       "        table, th, td {\n",
       "            border: 1px solid #ddd;\n",
       "            padding: 10px;\n",
       "            text-align: left;\n",
       "        }\n",
       "        th {\n",
       "            background-color: #f4f4f4;\n",
       "        }\n",
       "        tr:hover {\n",
       "            background-color: #f1f1f1;\n",
       "        }\n",
       "        #filterInput {\n",
       "            width: 50%;\n",
       "            margin: 20px auto;\n",
       "            padding: 10px;\n",
       "            border: 1px solid #ddd;\n",
       "            font-size: 16px;\n",
       "        }\n",
       "        .show-more-btn {\n",
       "            width: 50%;\n",
       "            margin: 10px auto;\n",
       "            text-align: center;\n",
       "            cursor: pointer;\n",
       "            color: #007bff;\n",
       "            text-decoration: underline;\n",
       "        }\n",
       "    </style>\n",
       "    \n",
       "    <input type=\"text\" id=\"filterInput\" onkeyup=\"filterTable()\" placeholder=\"Buscar por elemento...\">\n",
       "    \n",
       "    <table id=\"counterTable\">\n",
       "        <thead>\n",
       "            <tr>\n",
       "                <th>Elemento</th>\n",
       "                <th>Conteo</th>\n",
       "            </tr>\n",
       "        </thead>\n",
       "        <tbody>\n",
       "    <tr style=\"\" class=\"table-row\"><td>Mario Camacho</td><td>1</td></tr>\n",
       "        </tbody>\n",
       "    </table>\n",
       "    \n",
       "    <div id=\"showMoreBtn\" class=\"show-more-btn\" onclick=\"toggleRows()\">Mostrar más...</div>\n",
       "    \n",
       "    <script>\n",
       "    function filterTable() {{\n",
       "      var input, filter, table, tr, td, i, txtValue;\n",
       "      input = document.getElementById(\"filterInput\");\n",
       "      filter = input.value.toUpperCase();\n",
       "      table = document.getElementById(\"counterTable\");\n",
       "      tr = table.getElementsByTagName(\"tr\");\n",
       "      for (i = 1; i < tr.length; i++) {{\n",
       "        td = tr[i].getElementsByTagName(\"td\")[0];\n",
       "        if (td) {{\n",
       "          txtValue = td.textContent || td.innerText;\n",
       "          if (txtValue.toUpperCase().indexOf(filter) > -1) {{\n",
       "            tr[i].style.display = \"\";\n",
       "          }} else {{\n",
       "            tr[i].style.display = \"none\";\n",
       "          }}\n",
       "        }}       \n",
       "      }}\n",
       "    }}\n",
       "\n",
       "    function toggleRows() {{\n",
       "      var rows = document.getElementsByClassName(\"table-row\");\n",
       "      var showMoreBtn = document.getElementById(\"showMoreBtn\");\n",
       "      for (var i = 0; i < rows.length; i++) {{\n",
       "        if (rows[i].style.display === \"none\") {{\n",
       "          rows[i].style.display = \"\";\n",
       "          showMoreBtn.innerText = \"Mostrar menos...\";\n",
       "        }} else if (i >= {initial_visible}) {{\n",
       "          rows[i].style.display = \"none\";\n",
       "          showMoreBtn.innerText = \"Mostrar más...\";\n",
       "        }}\n",
       "      }}\n",
       "    }}\n",
       "    </script>\n",
       "    "
      ],
      "text/plain": [
       "<IPython.core.display.HTML object>"
      ]
     },
     "metadata": {},
     "output_type": "display_data"
    }
   ],
   "source": [
    "# Convertir el Counter a una tabla HTML\n",
    "html_table = counter_to_html_table(people_tally)\n",
    "\n",
    "# Mostrar la tabla HTML\n",
    "display(HTML(html_table))"
   ]
  },
  {
   "cell_type": "markdown",
   "id": "f96ba6ee",
   "metadata": {},
   "source": [
    "\n",
    "\n",
    "**Etiquetas NER**\n",
    "Las entidades nombradas son frases que contienen los nombres de personas, organizaciones, ubicaciones, expresiones de tiempo, cantidades, entre otras. Las entidades de interés se almacenan con su etiqueta correspondiente (por ejemplo, ‘PER‘ para personas, ‘LOC‘ para lugares, ‘ORG’ para organizaciones y ‘MISC’ que se emplea como un comodín para las tres anteriores) y sus posiciones en el texto (cable aclarar que el modelo que se utiliza mediante spaCy ya tiene las etiquetas predefinidas).  "
   ]
  },
  {
   "cell_type": "code",
   "execution_count": 30,
   "id": "270200ca",
   "metadata": {},
   "outputs": [
    {
     "data": {
      "text/plain": [
       "('LOC', 'MISC', 'ORG', 'PER')"
      ]
     },
     "execution_count": 30,
     "metadata": {},
     "output_type": "execute_result"
    }
   ],
   "source": [
    "#| code-fold: false\n",
    "getattr(nlp.get_pipe('ner'), 'labels')"
   ]
  },
  {
   "cell_type": "code",
   "execution_count": 31,
   "id": "3c127847",
   "metadata": {},
   "outputs": [],
   "source": [
    "from IPython.display import Markdown, display\n",
    "import re\n",
    "\n",
    "def get_ner_in_context(keyword, document, desired_ner_labels= False):\n",
    "    \n",
    "    if desired_ner_labels != False:\n",
    "        desired_ner_labels = desired_ner_labels\n",
    "    else:\n",
    "         # all possible labels\n",
    "        desired_ner_labels = list(nlp.get_pipe('ner').labels)  \n",
    "        \n",
    "    #Iterate through all the sentences in the document and pull out the text of each sentence\n",
    "    for sentence in document.sents:\n",
    "        #process each sentence\n",
    "        sentence_doc = nlp(sentence.text)\n",
    "        for named_entity in sentence_doc.ents:\n",
    "            #Check to see if the keyword is in the sentence (and ignore capitalization by making both lowercase)\n",
    "            if keyword.lower() in named_entity.text.lower()  and named_entity.label_ in desired_ner_labels:\n",
    "                #Use the regex library to replace linebreaks and to make the keyword bolded, again ignoring capitalization\n",
    "            \n",
    "                sentence_text = re.sub('\\n', ' ', sentence.text)\n",
    "                sentence_text = re.sub(f\"{named_entity.text}\", f\"**{named_entity.text}**\", sentence_text, flags=re.IGNORECASE)\n",
    "\n",
    "                display(Markdown('--')) # Si pones --- te sale una línea de izq a drcha\n",
    "                display(Markdown(f\"**{named_entity.label_}**\"))\n",
    "                display(Markdown(sentence_text))"
   ]
  },
  {
   "cell_type": "code",
   "execution_count": 32,
   "id": "5f1a7a4e",
   "metadata": {},
   "outputs": [
    {
     "data": {
      "text/plain": [
       "spacy.tokens.span.Span"
      ]
     },
     "execution_count": 32,
     "metadata": {},
     "output_type": "execute_result"
    }
   ],
   "source": [
    "type(doc)"
   ]
  },
  {
   "cell_type": "code",
   "execution_count": 33,
   "id": "1e8f8798",
   "metadata": {},
   "outputs": [],
   "source": [
    "get_ner_in_context('Sancho', nlp(text), desired_ner_labels = False)"
   ]
  },
  {
   "cell_type": "code",
   "execution_count": 34,
   "id": "2836264b",
   "metadata": {},
   "outputs": [
    {
     "name": "stdout",
     "output_type": "stream",
     "text": [
      "Apple ORG\n",
      "España ORG\n"
     ]
    }
   ],
   "source": [
    "import spacy\n",
    "nlp = spacy.load(\"es_core_news_md\")\n",
    "doc = nlp(\"Apple está pensando en comprar una startup de España por 5.000 €.\")\n",
    "for ent in doc.ents:\n",
    "    print(ent.text, ent.label_)"
   ]
  },
  {
   "cell_type": "code",
   "execution_count": 35,
   "id": "9517ec33",
   "metadata": {},
   "outputs": [
    {
     "data": {
      "text/plain": [
       "Apple está pensando en comprar una startup de España por 5.000 €."
      ]
     },
     "execution_count": 35,
     "metadata": {},
     "output_type": "execute_result"
    }
   ],
   "source": [
    "doc"
   ]
  },
  {
   "cell_type": "code",
   "execution_count": 36,
   "id": "37596619",
   "metadata": {},
   "outputs": [
    {
     "data": {
      "text/plain": [
       "<function __main__.get_ner_in_context(keyword, document, desired_ner_labels=False)>"
      ]
     },
     "execution_count": 36,
     "metadata": {},
     "output_type": "execute_result"
    }
   ],
   "source": [
    "get_ner_in_context"
   ]
  }
 ],
 "metadata": {
  "kernelspec": {
   "display_name": "Python 3",
   "language": "python",
   "name": "python3"
  },
  "language_info": {
   "codemirror_mode": {
    "name": "ipython",
    "version": 3
   },
   "file_extension": ".py",
   "mimetype": "text/x-python",
   "name": "python",
   "nbconvert_exporter": "python",
   "pygments_lexer": "ipython3",
   "version": "3.12.5"
  }
 },
 "nbformat": 4,
 "nbformat_minor": 5
}
