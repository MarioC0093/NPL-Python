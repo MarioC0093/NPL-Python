{
 "cells": [
  {
   "cell_type": "raw",
   "id": "9adeb722",
   "metadata": {
    "vscode": {
     "languageId": "raw"
    }
   },
   "source": [
    "---\n",
    "title: \"Pipeline para el Procesamiento del Lenguaje Natural (NPL) a través de la librería spaCy\"\n",
    "author: \"Mario Camacho\"\n",
    "date: \"08-25-2024\"\n",
    "date-modified: last-modified\n",
    "date-format: \"DD MMMM YYYY\"\n",
    "lang: es\n",
    "\n",
    "execute:\n",
    "    enabled: true\n",
    "---"
   ]
  },
  {
   "cell_type": "code",
   "execution_count": 1,
   "id": "eb9e2762",
   "metadata": {},
   "outputs": [],
   "source": [
    "#| include: false\n",
    "\n",
    "from src.imports import *\n",
    "\n",
    "with open('src/get_ner_in_context.py') as f:\n",
    "    exec(f.read())"
   ]
  },
  {
   "cell_type": "markdown",
   "id": "faf5eafd",
   "metadata": {},
   "source": [
    "# Preproceso"
   ]
  },
  {
   "cell_type": "markdown",
   "id": "038ab5c1",
   "metadata": {},
   "source": [
    "## Ingesta del documento"
   ]
  },
  {
   "cell_type": "markdown",
   "id": "1b7a57cc",
   "metadata": {},
   "source": [
    "Leemos el libro El Quijote."
   ]
  },
  {
   "cell_type": "code",
   "execution_count": 2,
   "id": "f556c38c",
   "metadata": {},
   "outputs": [],
   "source": [
    "# Enviar una solicitud GET a la URL\n",
    "response = requests.get(\"https://www.gutenberg.org/cache/epub/2000/pg2000.txt\")\n",
    "\n",
    "# Verificar si la solicitud fue exitosa\n",
    "if response.status_code == 200:\n",
    "    quijote = response.text\n",
    "    # print(\"Éxito al leer el texto.\")\n",
    "else:\n",
    "    print(\"Error al leer el texto.\")"
   ]
  },
  {
   "cell_type": "markdown",
   "id": "35655096",
   "metadata": {},
   "source": [
    "Nos ocupamos únicamente de los primeros seis capítulos de la primera parte de El Quijote."
   ]
  },
  {
   "cell_type": "code",
   "execution_count": 3,
   "id": "f34dff67",
   "metadata": {},
   "outputs": [
    {
     "data": {
      "text/html": [
       "<pre style=\"white-space:pre;overflow-x:auto;line-height:normal;font-family:Menlo,'DejaVu Sans Mono',consolas,'Courier New',monospace\"><span style=\"font-weight: bold\">Inicio del primer capítulo:</span>\n",
       "\n",
       " Capítulo primero. Que trata de la condición y ejercicio del famoso hidalgo\n",
       "don Quijote de la Mancha\n",
       "\n",
       "En un lugar de la Mancha, de cuyo nombre no quiero acordarme, no ha mucho\n",
       "tiempo que vivía un hidalgo de los de lanza en astillero, adarga antigua\n",
       "</pre>\n"
      ],
      "text/plain": [
       "\u001b[1mInicio del primer capítulo:\u001b[0m\n",
       "\n",
       " Capítulo primero. Que trata de la condición y ejercicio del famoso hidalgo\n",
       "don Quijote de la Mancha\n",
       "\n",
       "En un lugar de la Mancha, de cuyo nombre no quiero acordarme, no ha mucho\n",
       "tiempo que vivía un hidalgo de los de lanza en astillero, adarga antigua\n"
      ]
     },
     "metadata": {},
     "output_type": "display_data"
    },
    {
     "data": {
      "text/html": [
       "<pre style=\"white-space:pre;overflow-x:auto;line-height:normal;font-family:Menlo,'DejaVu Sans Mono',consolas,'Courier New',monospace\"><span style=\"font-weight: bold\">Final del sexto capítulo:</span>\n",
       "\n",
       " o el cura en oyendo el nombre— si tal libro hubiera\n",
       "mandado quemar; porque su autor fue uno de los famosos poetas del mundo, no\n",
       "sólo de España, y fue felicísimo en la tradución de algunas fábulas de\n",
       "Ovidio.\n",
       "\n",
       "\n",
       "\n",
       "\n",
       "Capítulo VII\n",
       "</pre>\n"
      ],
      "text/plain": [
       "\u001b[1mFinal del sexto capítulo:\u001b[0m\n",
       "\n",
       " o el cura en oyendo el nombre— si tal libro hubiera\n",
       "mandado quemar; porque su autor fue uno de los famosos poetas del mundo, no\n",
       "sólo de España, y fue felicísimo en la tradución de algunas fábulas de\n",
       "Ovidio.\n",
       "\n",
       "\n",
       "\n",
       "\n",
       "Capítulo VII\n"
      ]
     },
     "metadata": {},
     "output_type": "display_data"
    }
   ],
   "source": [
    "### Inicio del primer capítulo\n",
    "\n",
    "# Palabra objetivo\n",
    "palabra_start = \"Primera parte del ingenioso hidalgo don Quijote de la Mancha\"\n",
    "\n",
    "# Expresión regular para capturar todo lo que va antes de un patrón de  búsqueda\n",
    "patron = re.compile(rf\"{palabra_start}\\s*(.*)\", re.DOTALL)\n",
    "\n",
    "coincidencia = patron.search(quijote)\n",
    "\n",
    "if coincidencia:\n",
    "    quijote = coincidencia.group(1) # 0 incluye la palabra del search, 1 no lo incluye\n",
    "    console.print(\"[bold]Inicio del primer capítulo:\\n\\n[/bold]\", quijote[:251])\n",
    "    # print(\"Inicio del texto:\\n\\n\", quijote[:251])\n",
    "else:\n",
    "    console.print(\"[bold]Inicio del texto:\\n\\n[/bold]\", quijote[:251])\n",
    "    \n",
    "\n",
    "### Inicio del sépimo capítulo (y final del sexto)\n",
    "palabra_end = \"Capítulo VII\"\n",
    "\n",
    "# patron = re.compile(rf\"(.*)\\b{re.escape(palabra_end)}\\b\", re.DOTALL) # .* es codicioso (\"greedy\"): captura la mayor cantidad posible de caracteres antes de la coincidir con la palabra, captura hasta la última aparición de la palabra buscada\n",
    "patron = re.compile(rf\"(.*?)\\b{re.escape(palabra_end)}\\b\", re.DOTALL) # .* es no codicioso (\"lazy\"): captura la menor cantidad posible de caracteres y evitar que el resto del texto cooincida, se detiene en la primera coincidencia\n",
    "\n",
    "coincidencia = patron.search(quijote)\n",
    "\n",
    "if coincidencia:\n",
    "    quijote = coincidencia.group(0)\n",
    "    console.print(\"[bold]Final del sexto capítulo:\\n\\n[/bold]\", quijote[-231:])\n",
    "    quijote = coincidencia.group(1) # Elimino el patrón de búsqueda\n",
    "else:\n",
    "    console.print(\"[bold]Final del texto:\\n\\n[/bold]\", quijote[-231:])\n"
   ]
  },
  {
   "cell_type": "markdown",
   "id": "b75e3056",
   "metadata": {},
   "source": [
    "## Carga del modelo"
   ]
  },
  {
   "cell_type": "markdown",
   "id": "8e1c8476",
   "metadata": {},
   "source": [
    "### spaCy\n",
    "\n",
    "**[What’s spaCy?](https://spacy.io/usage/spacy-101#whats-spacy)** spaCy es una biblioteca gratuita de código abierto para el procesamiento avanzado del lenguaje natural en Python.\n",
    "\n",
    "La librería spaCy se basa en modelos de aprendizaje automático que se entrenaron con grandes cantidades de datos de texto etiquetados.\n",
    "\n",
    "Descarga y carga del modelo de lenguaje a través de la librería spaCy:"
   ]
  },
  {
   "cell_type": "code",
   "execution_count": 4,
   "id": "8ea0890a",
   "metadata": {},
   "outputs": [],
   "source": [
    "#| code-fold: false\n",
    "# !python -m spacy download es_core_news_md"
   ]
  },
  {
   "cell_type": "code",
   "execution_count": 5,
   "id": "838863e2",
   "metadata": {},
   "outputs": [],
   "source": [
    "#| include: false\n",
    "# import es_core_news_md\n",
    "# nlp = es_core_news_md.load()"
   ]
  },
  {
   "cell_type": "code",
   "execution_count": 6,
   "id": "0ec8457f",
   "metadata": {},
   "outputs": [],
   "source": [
    "#| code-fold: false\n",
    "import spacy\n",
    "nlp = spacy.load(\"es_core_news_md\")"
   ]
  },
  {
   "cell_type": "markdown",
   "id": "57574d20",
   "metadata": {},
   "source": [
    "## Fragmentación de la información"
   ]
  },
  {
   "cell_type": "markdown",
   "id": "7b54a2d8",
   "metadata": {},
   "source": [
    "Podemos dividir el texto en párrafos."
   ]
  },
  {
   "cell_type": "code",
   "execution_count": 7,
   "id": "231a70c0",
   "metadata": {},
   "outputs": [
    {
     "data": {
      "text/html": [
       "<pre style=\"white-space:pre;overflow-x:auto;line-height:normal;font-family:Menlo,'DejaVu Sans Mono',consolas,'Courier New',monospace\">\n",
       "<span style=\"color: #000080; text-decoration-color: #000080\">Siguiente párrafo:</span>\n",
       "\n",
       " Capítulo primero.\n",
       "</pre>\n"
      ],
      "text/plain": [
       "\n",
       "Siguiente párrafo:\n",
       "\n",
       " Capítulo primero.\n"
      ]
     },
     "metadata": {},
     "output_type": "display_data"
    },
    {
     "data": {
      "text/html": [
       "<pre style=\"white-space:pre;overflow-x:auto;line-height:normal;font-family:Menlo,'DejaVu Sans Mono',consolas,'Courier New',monospace\">\n",
       "<span style=\"color: #000080; text-decoration-color: #000080\">Siguiente párrafo:</span>\n",
       "\n",
       " Que trata de la condición y ejercicio del famoso hidalgo\n",
       "don Quijote de la Mancha\n",
       "\n",
       "En un lugar de la Mancha, de cuyo nombre no quiero acordarme, no ha mucho\n",
       "tiempo que vivía un hidalgo de los de lanza en astillero, adarga antigua,\n",
       "rocín flaco y galgo corredor.\n",
       "</pre>\n"
      ],
      "text/plain": [
       "\n",
       "Siguiente párrafo:\n",
       "\n",
       " Que trata de la condición y ejercicio del famoso hidalgo\n",
       "don Quijote de la Mancha\n",
       "\n",
       "En un lugar de la Mancha, de cuyo nombre no quiero acordarme, no ha mucho\n",
       "tiempo que vivía un hidalgo de los de lanza en astillero, adarga antigua,\n",
       "rocín flaco y galgo corredor.\n"
      ]
     },
     "metadata": {},
     "output_type": "display_data"
    },
    {
     "data": {
      "text/html": [
       "<pre style=\"white-space:pre;overflow-x:auto;line-height:normal;font-family:Menlo,'DejaVu Sans Mono',consolas,'Courier New',monospace\">\n",
       "<span style=\"color: #000080; text-decoration-color: #000080\">Siguiente párrafo:</span>\n",
       "\n",
       " Una olla de algo más vaca que carnero,\n",
       "salpicón las más noches, duelos y quebrantos los sábados, lantejas los\n",
       "viernes, algún palomino de añadidura los domingos, consumían las tres\n",
       "partes de su hacienda.\n",
       "</pre>\n"
      ],
      "text/plain": [
       "\n",
       "Siguiente párrafo:\n",
       "\n",
       " Una olla de algo más vaca que carnero,\n",
       "salpicón las más noches, duelos y quebrantos los sábados, lantejas los\n",
       "viernes, algún palomino de añadidura los domingos, consumían las tres\n",
       "partes de su hacienda.\n"
      ]
     },
     "metadata": {},
     "output_type": "display_data"
    }
   ],
   "source": [
    "#| layout-ncol: 3\n",
    "for parrafo in list(nlp(quijote).sents)[:3]: # No es necesario pasarlo a una lista, solo para coger un número de ejemplos\n",
    "    console.print(\"[blue]\\nSiguiente párrafo:\\n\\n[/blue]\", parrafo)\n",
    "    #print(parrafo)"
   ]
  },
  {
   "cell_type": "markdown",
   "id": "d50965e1",
   "metadata": {},
   "source": [
    "Y los párrafos en palabras."
   ]
  },
  {
   "cell_type": "code",
   "execution_count": 8,
   "id": "342916a7",
   "metadata": {},
   "outputs": [
    {
     "data": {
      "text/html": [
       "<pre style=\"white-space:pre;overflow-x:auto;line-height:normal;font-family:Menlo,'DejaVu Sans Mono',consolas,'Courier New',monospace\">\n",
       "<span style=\"color: #000080; text-decoration-color: #000080\">Siguiente párrafo:</span>\n",
       "\n",
       "</pre>\n"
      ],
      "text/plain": [
       "\n",
       "Siguiente párrafo:\n",
       "\n"
      ]
     },
     "metadata": {},
     "output_type": "display_data"
    },
    {
     "name": "stdout",
     "output_type": "stream",
     "text": [
      "Que\n",
      "trata\n",
      "de\n",
      "la\n",
      "condición\n"
     ]
    }
   ],
   "source": [
    "for parrafo in list(nlp(quijote).sents)[1:2]:\n",
    "    console.print(\"[blue]\\nSiguiente párrafo:\\n[/blue]\")\n",
    "    # print(colored(\"\\nSiguiente párrafo:\\n\",'blue'))\n",
    "    for palabra in parrafo[:5]:\n",
    "        print(palabra)"
   ]
  },
  {
   "cell_type": "markdown",
   "id": "abb6f251",
   "metadata": {},
   "source": [
    "Y separar cada una de las frases."
   ]
  },
  {
   "cell_type": "code",
   "execution_count": 9,
   "id": "e31588ea",
   "metadata": {},
   "outputs": [
    {
     "data": {
      "text/plain": [
       "[Capítulo primero.,\n",
       " Que trata de la condición y ejercicio del famoso hidalgo\n",
       " don Quijote de la Mancha\n",
       " \n",
       " En un lugar de la Mancha, de cuyo nombre no quiero acordarme, no ha mucho\n",
       " tiempo que vivía un hidalgo de los de lanza en astillero, adarga antigua,\n",
       " rocín flaco y galgo corredor.,\n",
       " Una olla de algo más vaca que carnero,\n",
       " salpicón las más noches, duelos y quebrantos los sábados, lantejas los\n",
       " viernes, algún palomino de añadidura los domingos, consumían las tres\n",
       " partes de su hacienda.]"
      ]
     },
     "execution_count": 9,
     "metadata": {},
     "output_type": "execute_result"
    }
   ],
   "source": [
    "documento = nlp(quijote)\n",
    "sents = list(documento.sents)[:3]\n",
    "sents"
   ]
  },
  {
   "cell_type": "markdown",
   "id": "0216bcf3",
   "metadata": {},
   "source": [
    "# Pipeline NPL"
   ]
  },
  {
   "cell_type": "code",
   "execution_count": 10,
   "id": "3f06ae76",
   "metadata": {},
   "outputs": [],
   "source": [
    "#| code-fold: false\n",
    "text = quijote"
   ]
  },
  {
   "cell_type": "markdown",
   "id": "369e1e74",
   "metadata": {},
   "source": [
    "## Tokenization"
   ]
  },
  {
   "cell_type": "code",
   "execution_count": 11,
   "id": "34269652",
   "metadata": {},
   "outputs": [
    {
     "name": "stdout",
     "output_type": "stream",
     "text": [
      "['Capítulo', 'primero', '.', 'Que', 'trata', 'de', 'la', 'condición', 'y', 'ejercicio']\n"
     ]
    }
   ],
   "source": [
    "tokens = word_tokenize(text)\n",
    "print(tokens[:10])"
   ]
  },
  {
   "cell_type": "markdown",
   "id": "60cbc00e",
   "metadata": {},
   "source": [
    "## Stop Words"
   ]
  },
  {
   "cell_type": "code",
   "execution_count": 12,
   "id": "ba79463a",
   "metadata": {},
   "outputs": [
    {
     "name": "stdout",
     "output_type": "stream",
     "text": [
      "['Capítulo', 'primero', '.', 'trata', 'condición', 'ejercicio', 'famoso', 'hidalgo', 'don', 'Quijote']\n"
     ]
    }
   ],
   "source": [
    "stop_words = set(stopwords.words('spanish'))\n",
    "tokens = [w for w in tokens if w.lower() not in stop_words]\n",
    "tokens_ejemplos = tokens\n",
    "print(tokens[:10])"
   ]
  },
  {
   "cell_type": "markdown",
   "id": "780ea3c0",
   "metadata": {},
   "source": [
    "## Stemming and Lemmatization"
   ]
  },
  {
   "cell_type": "markdown",
   "id": "18fddf65",
   "metadata": {},
   "source": [
    "https://spacy.io/models/es  \n",
    "https://github.com/explosion/spacy-models/releases?q=es_core_web_md&expanded=true"
   ]
  },
  {
   "cell_type": "code",
   "execution_count": 13,
   "id": "6152e367",
   "metadata": {},
   "outputs": [
    {
     "data": {
      "text/plain": [
       "['capitul',\n",
       " 'primer',\n",
       " '.',\n",
       " 'trat',\n",
       " 'condicion',\n",
       " 'ejercici',\n",
       " 'famos',\n",
       " 'hidalg',\n",
       " 'don',\n",
       " 'quijot']"
      ]
     },
     "execution_count": 13,
     "metadata": {},
     "output_type": "execute_result"
    }
   ],
   "source": [
    "stemmer = SnowballStemmer(\"spanish\")\n",
    "tokens = [stemmer.stem(palabra) for palabra in tokens]\n",
    "tokens[:10]"
   ]
  },
  {
   "cell_type": "markdown",
   "id": "ef8c91c0",
   "metadata": {},
   "source": [
    "## POS Tagging\n",
    "\n",
    "Part of speech.\n",
    "\n",
    "Etiqueta las palabras de un texto determinado según sus respectivos tipos de palabras, como sustantivos, adjetivos, adverbios y verbos.\n",
    "\n",
    "El etiquetado POS es el proceso de identificar la categoría gramatical (como verbo, sustantivo, adjetivo, etc.) de cada palabra en una oración.\n",
    "\n",
    "Las etiquetas que spaCy utiliza se basan en el trabajo realizado por Universal Dependencies, un repositorio común que se puede utilizar para entrenar modelos como spaCy. La página de Dependencias universales tiene información sobre [los corpus disponibles para cada idioma](https://universaldependencies.org/).\n",
    "\n",
    "Las etiquetas (**atributos del token**) que spaCy crea para cada token podemos encontrarlas en <https://spacy.io/api/token#attributes>.\n",
    "\n",
    "Merece la pena prestar especial atención al atributo *pos_*, que nos permitirá encontrar palabras según su categoría gramatical."
   ]
  },
  {
   "cell_type": "markdown",
   "id": "035a828a",
   "metadata": {},
   "source": [
    "<a href=\"https://universaldependencies.org/u/pos/\" target=\"_blank\" style=\"position: relative; width: 100%; height: 100%; top: 0; left: 0; z-index: 2;\"></a>\n",
    "<iframe src=\"https://universaldependencies.org/u/pos/\" width=\"1000px\" height=\"320px\" scrolling=\"yes\" style=\"border: none;\"></iframe>\n",
    "\n",
    "<div style=\"text-align: center;\">\n",
    "<a href=\"https://universaldependencies.org/u/pos/\" target=\"_blank\" style=\"text-decoration: none; color: blue;\">\n",
    "    Universal POS tags\n",
    "  </a>\n",
    "</div>"
   ]
  },
  {
   "cell_type": "markdown",
   "id": "2e960a52",
   "metadata": {},
   "source": [
    "<span style=\"text-decoration:underline\">**Ejemplo.**</span>"
   ]
  },
  {
   "cell_type": "code",
   "execution_count": 14,
   "id": "9cb7de9b",
   "metadata": {},
   "outputs": [
    {
     "name": "stdout",
     "output_type": "stream",
     "text": [
      "Token: Capítulo\n"
     ]
    }
   ],
   "source": [
    "print(\"Token:\", nlp(text)[0])"
   ]
  },
  {
   "cell_type": "code",
   "execution_count": 15,
   "id": "91b59204",
   "metadata": {},
   "outputs": [],
   "source": [
    "#| code-fold: false\n",
    "propiedades = ['text', 'lang_', 'pos_', 'is_digit', 'is_lower', 'is_upper', 'is_sent_start', 'is_sent_end',\n",
    "               'like_email', 'like_url', # Espero no encontrar ninguna de estas etiquetas en El Quijote\n",
    "               'sentiment', 'sent']"
   ]
  },
  {
   "cell_type": "code",
   "execution_count": 16,
   "id": "e07f26f8",
   "metadata": {},
   "outputs": [
    {
     "name": "stdout",
     "output_type": "stream",
     "text": [
      "obj.text = 'Capítulo'\n",
      "obj.lang_ = 'es'\n",
      "obj.pos_ = 'PROPN'\n",
      "obj.is_digit = False\n",
      "obj.is_lower = False\n",
      "obj.is_upper = False\n",
      "obj.is_sent_start = True\n",
      "obj.is_sent_end = False\n",
      "obj.like_email = False\n",
      "obj.like_url = False\n",
      "obj.sentiment = 0.0\n",
      "obj.sent = Capítulo primero.\n"
     ]
    }
   ],
   "source": [
    "#| collapse: true\n",
    "ejemplo_01 = nlp(text)[0]\n",
    "\n",
    "for attr in propiedades:\n",
    "    print(\"obj.%s = %r\" % (attr, getattr(ejemplo_01, attr)))"
   ]
  },
  {
   "cell_type": "markdown",
   "id": "5ca706e8",
   "metadata": {},
   "source": [
    "<span style=\"text-decoration:underline\">**Ejemplo.**</span>"
   ]
  },
  {
   "cell_type": "code",
   "execution_count": 17,
   "id": "e4410947",
   "metadata": {},
   "outputs": [
    {
     "name": "stdout",
     "output_type": "stream",
     "text": [
      "text         lemma_      pos         pos_        tag_        dep_        shape_      is_alpha    is_stop     \n",
      "============================================================================================================\n",
      "Capítulo     Capítulo    96          PROPN       PROPN       nsubj       Xxxxx       1           0          \n",
      "primero      primero     84          ADJ         ADJ         advmod      xxxx        1           1          \n",
      "Que          Que         98          SCONJ       SCONJ       nsubj       Xxx         1           1          \n",
      "trata        tratar      100         VERB        VERB        acl         xxxx        1           1          \n",
      "de           de          85          ADP         ADP         case        xx          1           1          \n",
      "la           el          90          DET         DET         det         xx          1           1          \n",
      "condición    condición   92          NOUN        NOUN        obj         xxxx        1           0          \n",
      "y            y           89          CCONJ       CCONJ       cc          x           1           1          \n",
      "ejercicio    ejercicio   92          NOUN        NOUN        conj        xxxx        1           0          \n",
      "del          del         85          ADP         ADP         case        xxx         1           1          \n",
      "famoso       famoso      84          ADJ         ADJ         amod        xxxx        1           0          \n",
      "hidalgo      hidalgo     92          NOUN        NOUN        nmod        xxxx        1           0          \n",
      "\r\n",
      "           \r\n",
      "          103         SPACE       SPACE       dep         \r\n",
      "          0           0          \n",
      "don          don         92          NOUN        NOUN        appos       xxx         1           0          \n",
      "Quijote      Quijote     96          PROPN       PROPN       flat        Xxxxx       1           0          \n"
     ]
    }
   ],
   "source": [
    "ejemplo_02 = nlp(re.sub(r'[^\\w\\s]', '', text))[:15]\n",
    "\n",
    "# Encabezado\n",
    "print(f'{\"text\":<12} {\"lemma_\":<12}{\"pos\":<12}{\"pos_\":<12}{\"tag_\":<12}{\"dep_\":<12}{\"shape_\":<12}{\"is_alpha\":<12}{\"is_stop\":<12}')\n",
    "print(\"=\"*12*9)\n",
    "\n",
    "# Loop que imprime los datos en formato de tabla\n",
    "for token in ejemplo_02:\n",
    "    print(f'{token.text:<12} {token.lemma_:<11} {token.pos:<11} {token.pos_:<11} {token.tag_:<11} {token.dep_:<12}'\n",
    "          f'{token.shape_:<11} {token.is_alpha:<11} {token.is_stop:<11}')\n"
   ]
  },
  {
   "cell_type": "markdown",
   "id": "d4ecbdb9",
   "metadata": {},
   "source": [
    "### Selección de nombres"
   ]
  },
  {
   "cell_type": "markdown",
   "id": "f3cec7e2",
   "metadata": {},
   "source": [
    "En nuestro ejemplo anterior:"
   ]
  },
  {
   "cell_type": "code",
   "execution_count": 18,
   "id": "d670b17a",
   "metadata": {},
   "outputs": [
    {
     "data": {
      "text/html": [
       "<style type=\"text/css\">\n",
       "</style>\n",
       "<table id=\"T_fc840\">\n",
       "  <thead>\n",
       "    <tr>\n",
       "      <th id=\"T_fc840_level0_col0\" class=\"col_heading level0 col0\" >noun</th>\n",
       "      <th id=\"T_fc840_level0_col1\" class=\"col_heading level0 col1\" >count</th>\n",
       "    </tr>\n",
       "  </thead>\n",
       "  <tbody>\n",
       "    <tr>\n",
       "      <td id=\"T_fc840_row0_col0\" class=\"data row0 col0\" >condición</td>\n",
       "      <td id=\"T_fc840_row0_col1\" class=\"data row0 col1\" >1</td>\n",
       "    </tr>\n",
       "    <tr>\n",
       "      <td id=\"T_fc840_row1_col0\" class=\"data row1 col0\" >ejercicio</td>\n",
       "      <td id=\"T_fc840_row1_col1\" class=\"data row1 col1\" >1</td>\n",
       "    </tr>\n",
       "    <tr>\n",
       "      <td id=\"T_fc840_row2_col0\" class=\"data row2 col0\" >hidalgo</td>\n",
       "      <td id=\"T_fc840_row2_col1\" class=\"data row2 col1\" >1</td>\n",
       "    </tr>\n",
       "    <tr>\n",
       "      <td id=\"T_fc840_row3_col0\" class=\"data row3 col0\" >don</td>\n",
       "      <td id=\"T_fc840_row3_col1\" class=\"data row3 col1\" >1</td>\n",
       "    </tr>\n",
       "  </tbody>\n",
       "</table>\n"
      ],
      "text/plain": [
       "<pandas.io.formats.style.Styler at 0x1d797f5f290>"
      ]
     },
     "execution_count": 18,
     "metadata": {},
     "output_type": "execute_result"
    }
   ],
   "source": [
    "nouns = []\n",
    "for token in ejemplo_02:\n",
    "    if token.pos_ == 'NOUN':\n",
    "        nouns.append(token.lemma_)\n",
    "\n",
    "nouns_total = Counter(nouns)\n",
    "\n",
    "df = pd.DataFrame(nouns_total.most_common(), columns=['noun', 'count'])\n",
    "df.style.hide(axis=\"index\")"
   ]
  },
  {
   "cell_type": "markdown",
   "id": "33442f2d",
   "metadata": {},
   "source": [
    "En nuestro texto completo:"
   ]
  },
  {
   "cell_type": "code",
   "execution_count": 19,
   "id": "105e0858",
   "metadata": {},
   "outputs": [
    {
     "data": {
      "text/html": [
       "<style type=\"text/css\">\n",
       "</style>\n",
       "<table id=\"T_5d0f7\">\n",
       "  <thead>\n",
       "    <tr>\n",
       "      <th id=\"T_5d0f7_level0_col0\" class=\"col_heading level0 col0\" >token</th>\n",
       "      <th id=\"T_5d0f7_level0_col1\" class=\"col_heading level0 col1\" >frecuencia</th>\n",
       "    </tr>\n",
       "  </thead>\n",
       "  <tbody>\n",
       "    <tr>\n",
       "      <td id=\"T_5d0f7_row0_col0\" class=\"data row0 col0\" >caballero</td>\n",
       "      <td id=\"T_5d0f7_row0_col1\" class=\"data row0 col1\" >61</td>\n",
       "    </tr>\n",
       "    <tr>\n",
       "      <td id=\"T_5d0f7_row1_col0\" class=\"data row1 col0\" >don</td>\n",
       "      <td id=\"T_5d0f7_row1_col1\" class=\"data row1 col1\" >56</td>\n",
       "    </tr>\n",
       "    <tr>\n",
       "      <td id=\"T_5d0f7_row2_col0\" class=\"data row2 col0\" >libro</td>\n",
       "      <td id=\"T_5d0f7_row2_col1\" class=\"data row2 col1\" >48</td>\n",
       "    </tr>\n",
       "    <tr>\n",
       "      <td id=\"T_5d0f7_row3_col0\" class=\"data row3 col0\" >señor</td>\n",
       "      <td id=\"T_5d0f7_row3_col1\" class=\"data row3 col1\" >38</td>\n",
       "    </tr>\n",
       "    <tr>\n",
       "      <td id=\"T_5d0f7_row4_col0\" class=\"data row4 col0\" >cura</td>\n",
       "      <td id=\"T_5d0f7_row4_col1\" class=\"data row4 col1\" >33</td>\n",
       "    </tr>\n",
       "  </tbody>\n",
       "</table>\n"
      ],
      "text/plain": [
       "<pandas.io.formats.style.Styler at 0x1d798c78830>"
      ]
     },
     "execution_count": 19,
     "metadata": {},
     "output_type": "execute_result"
    }
   ],
   "source": [
    "nouns = []\n",
    "for token in nlp(text):\n",
    "    if token.pos_ == 'NOUN':\n",
    "        nouns.append(token.lemma_)\n",
    "\n",
    "nouns_total = Counter(nouns)\n",
    "\n",
    "df = pd.DataFrame(nouns_total.most_common(), columns=['token', 'frecuencia'])\n",
    "df[:5].style.hide(axis=\"index\")"
   ]
  },
  {
   "cell_type": "markdown",
   "id": "7beef709",
   "metadata": {},
   "source": [
    "### Selección de cualqueir categoría gramatical"
   ]
  },
  {
   "cell_type": "markdown",
   "id": "e7404457",
   "metadata": {},
   "source": [
    "Consultamos la Universal POS tags y definimos la categoría que queremos extraer."
   ]
  },
  {
   "cell_type": "code",
   "execution_count": 20,
   "id": "1f2d3726",
   "metadata": {},
   "outputs": [],
   "source": [
    "#| code-fold: false\n",
    "categoria = 'ADV'"
   ]
  },
  {
   "cell_type": "code",
   "execution_count": 21,
   "id": "d6b1062a",
   "metadata": {},
   "outputs": [
    {
     "data": {
      "text/html": [
       "<style type=\"text/css\">\n",
       "</style>\n",
       "<table id=\"T_4d8cb\">\n",
       "  <thead>\n",
       "    <tr>\n",
       "      <th id=\"T_4d8cb_level0_col0\" class=\"col_heading level0 col0\" >token</th>\n",
       "      <th id=\"T_4d8cb_level0_col1\" class=\"col_heading level0 col1\" >frecuencia</th>\n",
       "    </tr>\n",
       "  </thead>\n",
       "  <tbody>\n",
       "    <tr>\n",
       "      <td id=\"T_4d8cb_row0_col0\" class=\"data row0 col0\" >no</td>\n",
       "      <td id=\"T_4d8cb_row0_col1\" class=\"data row0 col1\" >186</td>\n",
       "    </tr>\n",
       "    <tr>\n",
       "      <td id=\"T_4d8cb_row1_col0\" class=\"data row1 col0\" >más</td>\n",
       "      <td id=\"T_4d8cb_row1_col1\" class=\"data row1 col1\" >61</td>\n",
       "    </tr>\n",
       "    <tr>\n",
       "      <td id=\"T_4d8cb_row2_col0\" class=\"data row2 col0\" >tanto</td>\n",
       "      <td id=\"T_4d8cb_row2_col1\" class=\"data row2 col1\" >50</td>\n",
       "    </tr>\n",
       "    <tr>\n",
       "      <td id=\"T_4d8cb_row3_col0\" class=\"data row3 col0\" >así</td>\n",
       "      <td id=\"T_4d8cb_row3_col1\" class=\"data row3 col1\" >44</td>\n",
       "    </tr>\n",
       "    <tr>\n",
       "      <td id=\"T_4d8cb_row4_col0\" class=\"data row4 col0\" >mucho</td>\n",
       "      <td id=\"T_4d8cb_row4_col1\" class=\"data row4 col1\" >33</td>\n",
       "    </tr>\n",
       "  </tbody>\n",
       "</table>\n"
      ],
      "text/plain": [
       "<pandas.io.formats.style.Styler at 0x1d798bc8230>"
      ]
     },
     "execution_count": 21,
     "metadata": {},
     "output_type": "execute_result"
    }
   ],
   "source": [
    "lista_categoria = []\n",
    "for token in nlp(text):\n",
    "    if token.pos_ == categoria:\n",
    "        lista_categoria.append(token.lemma_)\n",
    "\n",
    "categoria_total = Counter(lista_categoria)\n",
    "\n",
    "df = pd.DataFrame(categoria_total.most_common(), columns=['token', 'frecuencia'])\n",
    "df[:5].style.hide(axis=\"index\")"
   ]
  },
  {
   "cell_type": "markdown",
   "id": "4500b027",
   "metadata": {},
   "source": [
    "## NER\n",
    "\n",
    "Named-Entity Recognition.\n",
    "\n",
    "NER es el proceso de identificar entidades nombradas (como nombres de personas, lugares, organizaciones, etc.) en un texto. La biblioteca spaCy es particularmente útil para esta tarea.\n",
    "\n",
    "Cada modelo de la librería spaCy tiene sus propias entidades, que se encuentran en la sección Label Scheme de la documentación del modelo. Para modelo cargado las entidades se almacenan con las etiqetas **LOC**, **ORG**, **PER** y **MISC**. (lugares, organizacoines, personas y un comodín para las tres anteriores)\n"
   ]
  },
  {
   "cell_type": "code",
   "execution_count": 22,
   "id": "32c0f19f",
   "metadata": {},
   "outputs": [
    {
     "data": {
      "text/plain": [
       "('LOC', 'MISC', 'ORG', 'PER')"
      ]
     },
     "execution_count": 22,
     "metadata": {},
     "output_type": "execute_result"
    }
   ],
   "source": [
    "#code-fold: false\n",
    "getattr(nlp.get_pipe('ner'), 'labels')"
   ]
  },
  {
   "cell_type": "markdown",
   "id": "2ca5bd38",
   "metadata": {},
   "source": [
    "\n",
    "Todas las entidades nombradas se encuentran en la propiedad **document.ents**."
   ]
  },
  {
   "cell_type": "code",
   "execution_count": 23,
   "id": "197b5c0d",
   "metadata": {},
   "outputs": [],
   "source": [
    "#| code-fold: false\n",
    "documento = nlp(text)"
   ]
  },
  {
   "cell_type": "code",
   "execution_count": 24,
   "id": "4ead5a65",
   "metadata": {},
   "outputs": [
    {
     "name": "stdout",
     "output_type": "stream",
     "text": [
      "Que trata de la condición MISC\n",
      "hidalgo PER\n",
      "la Mancha LOC\n",
      "Una olla de algo más vaca MISC\n",
      "El resto della MISC\n",
      "Tenía en su casa una MISC\n",
      "Frisaba LOC\n",
      "Quieren PER\n",
      "Quijada PER\n",
      "Quesada LOC\n"
     ]
    }
   ],
   "source": [
    "for named_entity in list(documento.ents)[:10]:\n",
    "    print(named_entity, named_entity.label_)"
   ]
  },
  {
   "cell_type": "markdown",
   "id": "5537b5dd",
   "metadata": {},
   "source": [
    "### Búsqueda de una entidad en el documento\n",
    "\n",
    "Podemos encontrar una entidad dentro de su propio contexto."
   ]
  },
  {
   "cell_type": "markdown",
   "id": "207f89d5",
   "metadata": {},
   "source": [
    "iba aquí"
   ]
  },
  {
   "cell_type": "code",
   "execution_count": 25,
   "id": "1a08ea56",
   "metadata": {},
   "outputs": [
    {
     "data": {
      "text/markdown": [
       "**Resultado 1.**"
      ],
      "text/plain": [
       "<IPython.core.display.Markdown object>"
      ]
     },
     "metadata": {},
     "output_type": "display_data"
    },
    {
     "data": {
      "text/markdown": [
       "Tipo de entidad: **PER**"
      ],
      "text/plain": [
       "<IPython.core.display.Markdown object>"
      ]
     },
     "metadata": {},
     "output_type": "display_data"
    },
    {
     "data": {
      "text/markdown": [
       "Contexto:"
      ],
      "text/plain": [
       "<IPython.core.display.Markdown object>"
      ]
     },
     "metadata": {},
     "output_type": "display_data"
    },
    {
     "data": {
      "text/markdown": [
       "Que trata de la condición y ejercicio del famoso **hidalgo**\r",
       " don Quijote de la Mancha\r",
       " \r",
       " En un lugar de la Mancha, de cuyo nombre no quiero acordarme, no ha mucho\r",
       " tiempo que vivía un **hidalgo** de los de lanza en astillero, adarga antigua,\r",
       " rocín flaco y galgo corredor."
      ],
      "text/plain": [
       "<IPython.core.display.Markdown object>"
      ]
     },
     "metadata": {},
     "output_type": "display_data"
    },
    {
     "data": {
      "text/markdown": [
       "**Resultado 2.**"
      ],
      "text/plain": [
       "<IPython.core.display.Markdown object>"
      ]
     },
     "metadata": {},
     "output_type": "display_data"
    },
    {
     "data": {
      "text/markdown": [
       "Tipo de entidad: **PER**"
      ],
      "text/plain": [
       "<IPython.core.display.Markdown object>"
      ]
     },
     "metadata": {},
     "output_type": "display_data"
    },
    {
     "data": {
      "text/markdown": [
       "Contexto:"
      ],
      "text/plain": [
       "<IPython.core.display.Markdown object>"
      ]
     },
     "metadata": {},
     "output_type": "display_data"
    },
    {
     "data": {
      "text/markdown": [
       "El labrador estaba admirado oyendo aquellos disparates; y, quitándole la\r",
       " visera, que ya estaba hecha pedazos de los palos, le limpió el rostro, que\r",
       " le tenía cubierto de polvo; y apenas le hubo limpiado, cuando le conoció y\r",
       " le dijo:\r",
       " \r",
       " — Señor Quijana —que así se debía de llamar cuando él tenía juicio y no\r",
       " había pasado de **hidalgo** sosegado a caballero andante—, ¿quién ha puesto a\r",
       " vuestra merced desta suerte?\r",
       " \r",
       " Pero él seguía con su romance a cuanto le preguntaba."
      ],
      "text/plain": [
       "<IPython.core.display.Markdown object>"
      ]
     },
     "metadata": {},
     "output_type": "display_data"
    },
    {
     "data": {
      "text/markdown": [
       "**Resultado 3.**"
      ],
      "text/plain": [
       "<IPython.core.display.Markdown object>"
      ]
     },
     "metadata": {},
     "output_type": "display_data"
    },
    {
     "data": {
      "text/markdown": [
       "Tipo de entidad: **PER**"
      ],
      "text/plain": [
       "<IPython.core.display.Markdown object>"
      ]
     },
     "metadata": {},
     "output_type": "display_data"
    },
    {
     "data": {
      "text/markdown": [
       "Contexto:"
      ],
      "text/plain": [
       "<IPython.core.display.Markdown object>"
      ]
     },
     "metadata": {},
     "output_type": "display_data"
    },
    {
     "data": {
      "text/markdown": [
       "A esto respondió el labrador:\r",
       " \r",
       " — Mire vuestra merced, señor, pecador de mí, que yo no soy don Rodrigo de\r",
       " Narváez, ni el marqués de Mantua, sino Pedro Alonso, su vecino; ni vuestra\r",
       " merced es Valdovinos, ni Abindarráez, sino el honrado **hidalgo del señor**\r",
       " Quijana.\r",
       " \r",
       " "
      ],
      "text/plain": [
       "<IPython.core.display.Markdown object>"
      ]
     },
     "metadata": {},
     "output_type": "display_data"
    }
   ],
   "source": [
    "get_ner_in_context('hidalgo', nlp(quijote), desired_ner_labels = False)"
   ]
  },
  {
   "cell_type": "markdown",
   "id": "e73903ce",
   "metadata": {},
   "source": [
    "### Visualizers\n",
    "\n",
    "[https://spacy.io/usage/visualizers](https://spacy.io/usage/visualizers)\n",
    "\n",
    "Podemos usar sus demos online que actualmente usan la versión small del modelo en español.\n",
    "\n",
    "- [https://demos.explosion.ai/displacy](https://demos.explosion.ai/displacy?text=Cuando%20Mario%20empez%C3%B3%20a%20trabajar%20en%20este%20pipeline%2C%20poca%20gente%20imaginaba%20el%20alcance.&model=es_core_news_sm&cpu=1&cph=1)\n",
    "- [https://demos.explosion.ai/displacy-ent](https://demos.explosion.ai/displacy-ent?text=Cuando%20Mario%20empez%C3%B3%20a%20trabajar%20en%20este%20pipeline%2C%20poca%20gente%20imaginaba%20el%20alcance.&model=es_core_news_sm&ents=person%2Cnorp%2Cfacility%2Corg%2Cgpe%2Cloc%2Cproduct%2Cevent%2Cwork_of_art%2Clanguage%2Cdate%2Ctime%2Cpercent%2Cmoney%2Cquantity%2Cordinal%2Ccardinal%2Cmisc%2Cdrv%2Cevt%2Cgpe_loc%2Cgpe_org%2Cprod%2Cper)"
   ]
  },
  {
   "cell_type": "markdown",
   "id": "473dce90",
   "metadata": {},
   "source": [
    "#### Dependency parse\n",
    "\n",
    "Análisis sintáctico de dependencia. Es el visualizador por defecto si no especificamos ningún estilo.\n",
    "\n",
    "Visualizamos el texto ```Cuando Mario empezó a trabajar en este pipeline, poca gente imaginaba el alcance.``` como ejemplo."
   ]
  },
  {
   "cell_type": "code",
   "execution_count": 26,
   "id": "c1448ade",
   "metadata": {},
   "outputs": [],
   "source": [
    "#| echo: false\n",
    "text_for_visual = \"Cuando Mario empezó a trabajar en este pipeline, poca gente imaginaba el alcance.\""
   ]
  },
  {
   "cell_type": "code",
   "execution_count": 27,
   "id": "87e4b5d8",
   "metadata": {},
   "outputs": [
    {
     "data": {
      "text/html": [
       "<span class=\"tex2jax_ignore\"><svg xmlns=\"http://www.w3.org/2000/svg\" xmlns:xlink=\"http://www.w3.org/1999/xlink\" xml:lang=\"es\" id=\"778eda4a5bc0460d8a1a2eb829361407-0\" class=\"displacy\" width=\"1610\" height=\"302.0\" direction=\"ltr\" style=\"max-width: none; height: 302.0px; color: green; background: #ffffff; font-family: Arial; direction: ltr\">\n",
       "<text class=\"displacy-token\" fill=\"currentColor\" text-anchor=\"middle\" y=\"262.0\">\n",
       "    <tspan class=\"displacy-word\" fill=\"currentColor\" x=\"50\">Cuando</tspan>\n",
       "    <tspan class=\"displacy-tag\" dy=\"2em\" fill=\"currentColor\" x=\"50\">SCONJ</tspan>\n",
       "</text>\n",
       "\n",
       "<text class=\"displacy-token\" fill=\"currentColor\" text-anchor=\"middle\" y=\"262.0\">\n",
       "    <tspan class=\"displacy-word\" fill=\"currentColor\" x=\"170\">Mario</tspan>\n",
       "    <tspan class=\"displacy-tag\" dy=\"2em\" fill=\"currentColor\" x=\"170\">PROPN</tspan>\n",
       "</text>\n",
       "\n",
       "<text class=\"displacy-token\" fill=\"currentColor\" text-anchor=\"middle\" y=\"262.0\">\n",
       "    <tspan class=\"displacy-word\" fill=\"currentColor\" x=\"290\">empezó</tspan>\n",
       "    <tspan class=\"displacy-tag\" dy=\"2em\" fill=\"currentColor\" x=\"290\">VERB</tspan>\n",
       "</text>\n",
       "\n",
       "<text class=\"displacy-token\" fill=\"currentColor\" text-anchor=\"middle\" y=\"262.0\">\n",
       "    <tspan class=\"displacy-word\" fill=\"currentColor\" x=\"410\">a</tspan>\n",
       "    <tspan class=\"displacy-tag\" dy=\"2em\" fill=\"currentColor\" x=\"410\">ADP</tspan>\n",
       "</text>\n",
       "\n",
       "<text class=\"displacy-token\" fill=\"currentColor\" text-anchor=\"middle\" y=\"262.0\">\n",
       "    <tspan class=\"displacy-word\" fill=\"currentColor\" x=\"530\">trabajar</tspan>\n",
       "    <tspan class=\"displacy-tag\" dy=\"2em\" fill=\"currentColor\" x=\"530\">VERB</tspan>\n",
       "</text>\n",
       "\n",
       "<text class=\"displacy-token\" fill=\"currentColor\" text-anchor=\"middle\" y=\"262.0\">\n",
       "    <tspan class=\"displacy-word\" fill=\"currentColor\" x=\"650\">en</tspan>\n",
       "    <tspan class=\"displacy-tag\" dy=\"2em\" fill=\"currentColor\" x=\"650\">ADP</tspan>\n",
       "</text>\n",
       "\n",
       "<text class=\"displacy-token\" fill=\"currentColor\" text-anchor=\"middle\" y=\"262.0\">\n",
       "    <tspan class=\"displacy-word\" fill=\"currentColor\" x=\"770\">este</tspan>\n",
       "    <tspan class=\"displacy-tag\" dy=\"2em\" fill=\"currentColor\" x=\"770\">DET</tspan>\n",
       "</text>\n",
       "\n",
       "<text class=\"displacy-token\" fill=\"currentColor\" text-anchor=\"middle\" y=\"262.0\">\n",
       "    <tspan class=\"displacy-word\" fill=\"currentColor\" x=\"890\">pipeline,</tspan>\n",
       "    <tspan class=\"displacy-tag\" dy=\"2em\" fill=\"currentColor\" x=\"890\">NOUN</tspan>\n",
       "</text>\n",
       "\n",
       "<text class=\"displacy-token\" fill=\"currentColor\" text-anchor=\"middle\" y=\"262.0\">\n",
       "    <tspan class=\"displacy-word\" fill=\"currentColor\" x=\"1010\">poca</tspan>\n",
       "    <tspan class=\"displacy-tag\" dy=\"2em\" fill=\"currentColor\" x=\"1010\">DET</tspan>\n",
       "</text>\n",
       "\n",
       "<text class=\"displacy-token\" fill=\"currentColor\" text-anchor=\"middle\" y=\"262.0\">\n",
       "    <tspan class=\"displacy-word\" fill=\"currentColor\" x=\"1130\">gente</tspan>\n",
       "    <tspan class=\"displacy-tag\" dy=\"2em\" fill=\"currentColor\" x=\"1130\">NOUN</tspan>\n",
       "</text>\n",
       "\n",
       "<text class=\"displacy-token\" fill=\"currentColor\" text-anchor=\"middle\" y=\"262.0\">\n",
       "    <tspan class=\"displacy-word\" fill=\"currentColor\" x=\"1250\">imaginaba</tspan>\n",
       "    <tspan class=\"displacy-tag\" dy=\"2em\" fill=\"currentColor\" x=\"1250\">VERB</tspan>\n",
       "</text>\n",
       "\n",
       "<text class=\"displacy-token\" fill=\"currentColor\" text-anchor=\"middle\" y=\"262.0\">\n",
       "    <tspan class=\"displacy-word\" fill=\"currentColor\" x=\"1370\">el</tspan>\n",
       "    <tspan class=\"displacy-tag\" dy=\"2em\" fill=\"currentColor\" x=\"1370\">DET</tspan>\n",
       "</text>\n",
       "\n",
       "<text class=\"displacy-token\" fill=\"currentColor\" text-anchor=\"middle\" y=\"262.0\">\n",
       "    <tspan class=\"displacy-word\" fill=\"currentColor\" x=\"1490\">alcance.</tspan>\n",
       "    <tspan class=\"displacy-tag\" dy=\"2em\" fill=\"currentColor\" x=\"1490\">NOUN</tspan>\n",
       "</text>\n",
       "\n",
       "<g class=\"displacy-arrow\">\n",
       "    <path class=\"displacy-arc\" id=\"arrow-778eda4a5bc0460d8a1a2eb829361407-0-0\" stroke-width=\"2px\" d=\"M62,242.0 62,202.0 284.0,202.0 284.0,242.0\" fill=\"none\" stroke=\"currentColor\"/>\n",
       "    <text dy=\"1.25em\" style=\"font-size: 0.8em; letter-spacing: 1px\">\n",
       "        <textPath xlink:href=\"#arrow-778eda4a5bc0460d8a1a2eb829361407-0-0\" class=\"displacy-label\" startOffset=\"50%\" side=\"left\" fill=\"currentColor\" text-anchor=\"middle\">mark</textPath>\n",
       "    </text>\n",
       "    <path class=\"displacy-arrowhead\" d=\"M62,244.0 L59,237.0 65,237.0\" fill=\"currentColor\"/>\n",
       "</g>\n",
       "\n",
       "<g class=\"displacy-arrow\">\n",
       "    <path class=\"displacy-arc\" id=\"arrow-778eda4a5bc0460d8a1a2eb829361407-0-1\" stroke-width=\"2px\" d=\"M182,242.0 182,222.0 281.0,222.0 281.0,242.0\" fill=\"none\" stroke=\"currentColor\"/>\n",
       "    <text dy=\"1.25em\" style=\"font-size: 0.8em; letter-spacing: 1px\">\n",
       "        <textPath xlink:href=\"#arrow-778eda4a5bc0460d8a1a2eb829361407-0-1\" class=\"displacy-label\" startOffset=\"50%\" side=\"left\" fill=\"currentColor\" text-anchor=\"middle\">nsubj</textPath>\n",
       "    </text>\n",
       "    <path class=\"displacy-arrowhead\" d=\"M182,244.0 L179,237.0 185,237.0\" fill=\"currentColor\"/>\n",
       "</g>\n",
       "\n",
       "<g class=\"displacy-arrow\">\n",
       "    <path class=\"displacy-arc\" id=\"arrow-778eda4a5bc0460d8a1a2eb829361407-0-2\" stroke-width=\"2px\" d=\"M302,242.0 302,162.0 1250.0,162.0 1250.0,242.0\" fill=\"none\" stroke=\"currentColor\"/>\n",
       "    <text dy=\"1.25em\" style=\"font-size: 0.8em; letter-spacing: 1px\">\n",
       "        <textPath xlink:href=\"#arrow-778eda4a5bc0460d8a1a2eb829361407-0-2\" class=\"displacy-label\" startOffset=\"50%\" side=\"left\" fill=\"currentColor\" text-anchor=\"middle\">advcl</textPath>\n",
       "    </text>\n",
       "    <path class=\"displacy-arrowhead\" d=\"M302,244.0 L299,237.0 305,237.0\" fill=\"currentColor\"/>\n",
       "</g>\n",
       "\n",
       "<g class=\"displacy-arrow\">\n",
       "    <path class=\"displacy-arc\" id=\"arrow-778eda4a5bc0460d8a1a2eb829361407-0-3\" stroke-width=\"2px\" d=\"M422,242.0 422,222.0 521.0,222.0 521.0,242.0\" fill=\"none\" stroke=\"currentColor\"/>\n",
       "    <text dy=\"1.25em\" style=\"font-size: 0.8em; letter-spacing: 1px\">\n",
       "        <textPath xlink:href=\"#arrow-778eda4a5bc0460d8a1a2eb829361407-0-3\" class=\"displacy-label\" startOffset=\"50%\" side=\"left\" fill=\"currentColor\" text-anchor=\"middle\">mark</textPath>\n",
       "    </text>\n",
       "    <path class=\"displacy-arrowhead\" d=\"M422,244.0 L419,237.0 425,237.0\" fill=\"currentColor\"/>\n",
       "</g>\n",
       "\n",
       "<g class=\"displacy-arrow\">\n",
       "    <path class=\"displacy-arc\" id=\"arrow-778eda4a5bc0460d8a1a2eb829361407-0-4\" stroke-width=\"2px\" d=\"M302,242.0 302,202.0 524.0,202.0 524.0,242.0\" fill=\"none\" stroke=\"currentColor\"/>\n",
       "    <text dy=\"1.25em\" style=\"font-size: 0.8em; letter-spacing: 1px\">\n",
       "        <textPath xlink:href=\"#arrow-778eda4a5bc0460d8a1a2eb829361407-0-4\" class=\"displacy-label\" startOffset=\"50%\" side=\"left\" fill=\"currentColor\" text-anchor=\"middle\">xcomp</textPath>\n",
       "    </text>\n",
       "    <path class=\"displacy-arrowhead\" d=\"M524.0,244.0 L527.0,237.0 521.0,237.0\" fill=\"currentColor\"/>\n",
       "</g>\n",
       "\n",
       "<g class=\"displacy-arrow\">\n",
       "    <path class=\"displacy-arc\" id=\"arrow-778eda4a5bc0460d8a1a2eb829361407-0-5\" stroke-width=\"2px\" d=\"M662,242.0 662,202.0 884.0,202.0 884.0,242.0\" fill=\"none\" stroke=\"currentColor\"/>\n",
       "    <text dy=\"1.25em\" style=\"font-size: 0.8em; letter-spacing: 1px\">\n",
       "        <textPath xlink:href=\"#arrow-778eda4a5bc0460d8a1a2eb829361407-0-5\" class=\"displacy-label\" startOffset=\"50%\" side=\"left\" fill=\"currentColor\" text-anchor=\"middle\">case</textPath>\n",
       "    </text>\n",
       "    <path class=\"displacy-arrowhead\" d=\"M662,244.0 L659,237.0 665,237.0\" fill=\"currentColor\"/>\n",
       "</g>\n",
       "\n",
       "<g class=\"displacy-arrow\">\n",
       "    <path class=\"displacy-arc\" id=\"arrow-778eda4a5bc0460d8a1a2eb829361407-0-6\" stroke-width=\"2px\" d=\"M782,242.0 782,222.0 881.0,222.0 881.0,242.0\" fill=\"none\" stroke=\"currentColor\"/>\n",
       "    <text dy=\"1.25em\" style=\"font-size: 0.8em; letter-spacing: 1px\">\n",
       "        <textPath xlink:href=\"#arrow-778eda4a5bc0460d8a1a2eb829361407-0-6\" class=\"displacy-label\" startOffset=\"50%\" side=\"left\" fill=\"currentColor\" text-anchor=\"middle\">det</textPath>\n",
       "    </text>\n",
       "    <path class=\"displacy-arrowhead\" d=\"M782,244.0 L779,237.0 785,237.0\" fill=\"currentColor\"/>\n",
       "</g>\n",
       "\n",
       "<g class=\"displacy-arrow\">\n",
       "    <path class=\"displacy-arc\" id=\"arrow-778eda4a5bc0460d8a1a2eb829361407-0-7\" stroke-width=\"2px\" d=\"M302,242.0 302,182.0 887.0,182.0 887.0,242.0\" fill=\"none\" stroke=\"currentColor\"/>\n",
       "    <text dy=\"1.25em\" style=\"font-size: 0.8em; letter-spacing: 1px\">\n",
       "        <textPath xlink:href=\"#arrow-778eda4a5bc0460d8a1a2eb829361407-0-7\" class=\"displacy-label\" startOffset=\"50%\" side=\"left\" fill=\"currentColor\" text-anchor=\"middle\">obl</textPath>\n",
       "    </text>\n",
       "    <path class=\"displacy-arrowhead\" d=\"M887.0,244.0 L890.0,237.0 884.0,237.0\" fill=\"currentColor\"/>\n",
       "</g>\n",
       "\n",
       "<g class=\"displacy-arrow\">\n",
       "    <path class=\"displacy-arc\" id=\"arrow-778eda4a5bc0460d8a1a2eb829361407-0-8\" stroke-width=\"2px\" d=\"M1022,242.0 1022,222.0 1121.0,222.0 1121.0,242.0\" fill=\"none\" stroke=\"currentColor\"/>\n",
       "    <text dy=\"1.25em\" style=\"font-size: 0.8em; letter-spacing: 1px\">\n",
       "        <textPath xlink:href=\"#arrow-778eda4a5bc0460d8a1a2eb829361407-0-8\" class=\"displacy-label\" startOffset=\"50%\" side=\"left\" fill=\"currentColor\" text-anchor=\"middle\">det</textPath>\n",
       "    </text>\n",
       "    <path class=\"displacy-arrowhead\" d=\"M1022,244.0 L1019,237.0 1025,237.0\" fill=\"currentColor\"/>\n",
       "</g>\n",
       "\n",
       "<g class=\"displacy-arrow\">\n",
       "    <path class=\"displacy-arc\" id=\"arrow-778eda4a5bc0460d8a1a2eb829361407-0-9\" stroke-width=\"2px\" d=\"M1142,242.0 1142,222.0 1241.0,222.0 1241.0,242.0\" fill=\"none\" stroke=\"currentColor\"/>\n",
       "    <text dy=\"1.25em\" style=\"font-size: 0.8em; letter-spacing: 1px\">\n",
       "        <textPath xlink:href=\"#arrow-778eda4a5bc0460d8a1a2eb829361407-0-9\" class=\"displacy-label\" startOffset=\"50%\" side=\"left\" fill=\"currentColor\" text-anchor=\"middle\">nsubj</textPath>\n",
       "    </text>\n",
       "    <path class=\"displacy-arrowhead\" d=\"M1142,244.0 L1139,237.0 1145,237.0\" fill=\"currentColor\"/>\n",
       "</g>\n",
       "\n",
       "<g class=\"displacy-arrow\">\n",
       "    <path class=\"displacy-arc\" id=\"arrow-778eda4a5bc0460d8a1a2eb829361407-0-10\" stroke-width=\"2px\" d=\"M1382,242.0 1382,222.0 1481.0,222.0 1481.0,242.0\" fill=\"none\" stroke=\"currentColor\"/>\n",
       "    <text dy=\"1.25em\" style=\"font-size: 0.8em; letter-spacing: 1px\">\n",
       "        <textPath xlink:href=\"#arrow-778eda4a5bc0460d8a1a2eb829361407-0-10\" class=\"displacy-label\" startOffset=\"50%\" side=\"left\" fill=\"currentColor\" text-anchor=\"middle\">det</textPath>\n",
       "    </text>\n",
       "    <path class=\"displacy-arrowhead\" d=\"M1382,244.0 L1379,237.0 1385,237.0\" fill=\"currentColor\"/>\n",
       "</g>\n",
       "\n",
       "<g class=\"displacy-arrow\">\n",
       "    <path class=\"displacy-arc\" id=\"arrow-778eda4a5bc0460d8a1a2eb829361407-0-11\" stroke-width=\"2px\" d=\"M1262,242.0 1262,202.0 1484.0,202.0 1484.0,242.0\" fill=\"none\" stroke=\"currentColor\"/>\n",
       "    <text dy=\"1.25em\" style=\"font-size: 0.8em; letter-spacing: 1px\">\n",
       "        <textPath xlink:href=\"#arrow-778eda4a5bc0460d8a1a2eb829361407-0-11\" class=\"displacy-label\" startOffset=\"50%\" side=\"left\" fill=\"currentColor\" text-anchor=\"middle\">obj</textPath>\n",
       "    </text>\n",
       "    <path class=\"displacy-arrowhead\" d=\"M1484.0,244.0 L1487.0,237.0 1481.0,237.0\" fill=\"currentColor\"/>\n",
       "</g>\n",
       "</svg></span>"
      ],
      "text/plain": [
       "<IPython.core.display.HTML object>"
      ]
     },
     "metadata": {},
     "output_type": "display_data"
    }
   ],
   "source": [
    "#| code-fold: false\n",
    "#| width: 50 %\n",
    "\n",
    "# options: https://spacy.io/api/top-level#options-dep\n",
    "options = {\"compact\": True,\n",
    "           \"color\": \"green\",\n",
    "           \"bg:\": \"red\", # no hace caso\n",
    "           \"arrow_width\": 5,\n",
    "           \"word_spacing\": 20,\n",
    "           \"distance\": 120}\n",
    "\n",
    "doc = nlp(text_for_visual)\n",
    "displacy.render(doc, options=options) # = displacy.render(doc, style=\"dep\")"
   ]
  },
  {
   "cell_type": "code",
   "execution_count": 28,
   "id": "248b0301",
   "metadata": {},
   "outputs": [
    {
     "name": "stdout",
     "output_type": "stream",
     "text": [
      "\n",
      "\n"
     ]
    }
   ],
   "source": [
    "#| include: false\n",
    "print(\"\\n\")"
   ]
  },
  {
   "cell_type": "markdown",
   "id": "7f76dd62",
   "metadata": {},
   "source": [
    "#### Entity recognizer\n",
    "\n",
    "Visualizando el reconocedor de entidades.\n",
    "\n",
    "Usamos dos modelos distintos. Cada uno cuenta con sus propias entidades identificadas en el Label Scheme de cada modelo.\n",
    "\n",
    "Visualizamos el texto ```María se fue en 2020 al río Guadiana a pescar peces coloridos mientras Mario iban a por bebida al supermercado Mercado.``` como ejemplo.\n",
    "\n",
    "- El primer modelo, [es_core_news_md](https://spacy.io/models/es#es_core_news_md), el que hemos estado usando hasta ahora. Con cuatro entidades NER: LOC, MISC, ORG y PER."
   ]
  },
  {
   "cell_type": "code",
   "execution_count": 29,
   "id": "5cd63225",
   "metadata": {},
   "outputs": [],
   "source": [
    "#| echo: false\n",
    "text_for_visual = \"María se fue en 2020 al río Guadiana a pescar peces coloridos mientras Mario iban a por bebida al supermercado Mercado.\""
   ]
  },
  {
   "cell_type": "code",
   "execution_count": 30,
   "id": "3af861cf",
   "metadata": {},
   "outputs": [
    {
     "data": {
      "text/html": [
       "<span class=\"tex2jax_ignore\"><div class=\"entities\" style=\"line-height: 2.5; direction: ltr\">\n",
       "<mark class=\"entity\" style=\"background: linear-gradient(90deg, #aa9cfc, #fc9ce7); padding: 0.45em 0.6em; margin: 0 0.25em; line-height: 1; border-radius: 0.35em;\">\n",
       "    María\n",
       "    <span style=\"font-size: 0.8em; font-weight: bold; line-height: 1; border-radius: 0.35em; vertical-align: middle; margin-left: 0.5rem\">PER</span>\n",
       "</mark>\n",
       " se fue en 2020 al río \n",
       "<mark class=\"entity\" style=\"background: linear-gradient(90deg, orange, lightblue); padding: 0.45em 0.6em; margin: 0 0.25em; line-height: 1; border-radius: 0.35em;\">\n",
       "    Guadiana\n",
       "    <span style=\"font-size: 0.8em; font-weight: bold; line-height: 1; border-radius: 0.35em; vertical-align: middle; margin-left: 0.5rem\">LOC</span>\n",
       "</mark>\n",
       " a pescar peces coloridos mientras \n",
       "<mark class=\"entity\" style=\"background: linear-gradient(90deg, #aa9cfc, #fc9ce7); padding: 0.45em 0.6em; margin: 0 0.25em; line-height: 1; border-radius: 0.35em;\">\n",
       "    Mario\n",
       "    <span style=\"font-size: 0.8em; font-weight: bold; line-height: 1; border-radius: 0.35em; vertical-align: middle; margin-left: 0.5rem\">PER</span>\n",
       "</mark>\n",
       " iban a por bebida al supermercado \n",
       "<mark class=\"entity\" style=\"background: linear-gradient(90deg, orange, lightblue); padding: 0.45em 0.6em; margin: 0 0.25em; line-height: 1; border-radius: 0.35em;\">\n",
       "    Mercado\n",
       "    <span style=\"font-size: 0.8em; font-weight: bold; line-height: 1; border-radius: 0.35em; vertical-align: middle; margin-left: 0.5rem\">LOC</span>\n",
       "</mark>\n",
       ".</div></span>"
      ],
      "text/plain": [
       "<IPython.core.display.HTML object>"
      ]
     },
     "metadata": {},
     "output_type": "display_data"
    }
   ],
   "source": [
    "#| code-fold: false\n",
    "#| width: 50 %\n",
    "\n",
    "# options: https://spacy.io/api/top-level#displacy_options-ent\n",
    "\n",
    "colors = {\"PER\": \"linear-gradient(90deg, #aa9cfc, #fc9ce7)\",\n",
    "          \"LOC\": \"linear-gradient(90deg, orange, lightblue)\"}\n",
    "options = {#\"ents\": [\"PER\"], # si quisiéramos especificar las entidades que queremos mostrar\n",
    "           \"colors\": colors}\n",
    "\n",
    "doc = nlp(text_for_visual)\n",
    "#displacy.server(doc, style=\"ent\", options=options, auto_select_port=True)\n",
    "displacy.render(doc, style=\"ent\", options=options)"
   ]
  },
  {
   "cell_type": "markdown",
   "id": "d0af35bd",
   "metadata": {},
   "source": [
    "- El segundo modelo, [en_core_web_sm](https://spacy.io/models/en#en_core_web_sm), en inglés. Con muchas más entidades con NER: CARDINAL, DATE, ..., WORK_OF_ART"
   ]
  },
  {
   "cell_type": "code",
   "execution_count": 31,
   "id": "df779d09",
   "metadata": {},
   "outputs": [
    {
     "data": {
      "text/html": [
       "<span class=\"tex2jax_ignore\"><div class=\"entities\" style=\"line-height: 2.5; direction: ltr\">\n",
       "<mark class=\"entity\" style=\"background: linear-gradient(90deg, #aa9cfc, #fc9ce7); padding: 0.45em 0.6em; margin: 0 0.25em; line-height: 1; border-radius: 0.35em;\">\n",
       "    María se fue\n",
       "    <span style=\"font-size: 0.8em; font-weight: bold; line-height: 1; border-radius: 0.35em; vertical-align: middle; margin-left: 0.5rem\">PERSON</span>\n",
       "</mark>\n",
       " en \n",
       "<mark class=\"entity\" style=\"background: linear-gradient(90deg, white, green); padding: 0.45em 0.6em; margin: 0 0.25em; line-height: 1; border-radius: 0.35em;\">\n",
       "    2020\n",
       "    <span style=\"font-size: 0.8em; font-weight: bold; line-height: 1; border-radius: 0.35em; vertical-align: middle; margin-left: 0.5rem\">DATE</span>\n",
       "</mark>\n",
       " \n",
       "<mark class=\"entity\" style=\"background: linear-gradient(90deg, #aa9cfc, #fc9ce7); padding: 0.45em 0.6em; margin: 0 0.25em; line-height: 1; border-radius: 0.35em;\">\n",
       "    al río Guadiana\n",
       "    <span style=\"font-size: 0.8em; font-weight: bold; line-height: 1; border-radius: 0.35em; vertical-align: middle; margin-left: 0.5rem\">PERSON</span>\n",
       "</mark>\n",
       " a pescar peces coloridos mientras \n",
       "<mark class=\"entity\" style=\"background: linear-gradient(90deg, #aa9cfc, #fc9ce7); padding: 0.45em 0.6em; margin: 0 0.25em; line-height: 1; border-radius: 0.35em;\">\n",
       "    Mario\n",
       "    <span style=\"font-size: 0.8em; font-weight: bold; line-height: 1; border-radius: 0.35em; vertical-align: middle; margin-left: 0.5rem\">PERSON</span>\n",
       "</mark>\n",
       " iban a por bebida \n",
       "<mark class=\"entity\" style=\"background: linear-gradient(90deg, #aa9cfc, #fc9ce7); padding: 0.45em 0.6em; margin: 0 0.25em; line-height: 1; border-radius: 0.35em;\">\n",
       "    al supermercado Mercado\n",
       "    <span style=\"font-size: 0.8em; font-weight: bold; line-height: 1; border-radius: 0.35em; vertical-align: middle; margin-left: 0.5rem\">PERSON</span>\n",
       "</mark>\n",
       ".</div></span>"
      ],
      "text/plain": [
       "<IPython.core.display.HTML object>"
      ]
     },
     "metadata": {},
     "output_type": "display_data"
    }
   ],
   "source": [
    "#| code-fold: false\n",
    "#| width: 50 %\n",
    "\n",
    "# options: https://spacy.io/api/top-level#displacy_options-ent\n",
    "\n",
    "colors = {\"PERSON\": \"linear-gradient(90deg, #aa9cfc, #fc9ce7)\",\n",
    "          \"DATE\": \"linear-gradient(90deg, white, green)\",\n",
    "          \"GPE\": \"linear-gradient(90deg, orange, lightblue)\"}\n",
    "options = {#\"ents\": [\"PER\"], # si quisiéramos especificar las entidades que queremos mostrar\n",
    "           \"colors\": colors}\n",
    "\n",
    "nlp_en = spacy.load(\"en_core_web_sm\")\n",
    "doc = nlp_en(text_for_visual)\n",
    "displacy.render(doc, style=\"ent\", options=options)"
   ]
  },
  {
   "cell_type": "markdown",
   "id": "9c4c6367",
   "metadata": {},
   "source": [
    "### Selección de un tipo de entidad"
   ]
  },
  {
   "cell_type": "markdown",
   "id": "6d0c05d8",
   "metadata": {},
   "source": [
    "Podemos identificar el tipo de entidades que queremos buscar."
   ]
  },
  {
   "cell_type": "markdown",
   "id": "d54f4cb3",
   "metadata": {},
   "source": [
    "<span style=\"text-decoration:underline\">**Ejemplo.**</span>\n",
    "\n",
    "LOC"
   ]
  },
  {
   "cell_type": "code",
   "execution_count": 32,
   "id": "dd2431fe",
   "metadata": {},
   "outputs": [
    {
     "name": "stdout",
     "output_type": "stream",
     "text": [
      "la Mancha - 'LOC'\n"
     ]
    }
   ],
   "source": [
    "print(f\"{nlp(text).ents[2]} - {repr(nlp(text).ents[2].label_)}\")"
   ]
  },
  {
   "cell_type": "markdown",
   "id": "80e07a98",
   "metadata": {},
   "source": [
    "<span style=\"text-decoration:underline\">**Ejemplo.**</span>\n",
    "\n",
    "PER"
   ]
  },
  {
   "cell_type": "code",
   "execution_count": 33,
   "id": "673f8aec",
   "metadata": {},
   "outputs": [
    {
     "data": {
      "text/html": [
       "<div>\n",
       "<style scoped>\n",
       "    .dataframe tbody tr th:only-of-type {\n",
       "        vertical-align: middle;\n",
       "    }\n",
       "\n",
       "    .dataframe tbody tr th {\n",
       "        vertical-align: top;\n",
       "    }\n",
       "\n",
       "    .dataframe thead th {\n",
       "        text-align: right;\n",
       "    }\n",
       "</style>\n",
       "<table border=\"1\" class=\"dataframe\">\n",
       "  <thead>\n",
       "    <tr style=\"text-align: right;\">\n",
       "      <th></th>\n",
       "      <th>named_entity</th>\n",
       "      <th>frecuencia</th>\n",
       "    </tr>\n",
       "  </thead>\n",
       "  <tbody>\n",
       "    <tr>\n",
       "      <th>0</th>\n",
       "      <td>Andrés</td>\n",
       "      <td>7</td>\n",
       "    </tr>\n",
       "    <tr>\n",
       "      <th>1</th>\n",
       "      <td>Nicolás</td>\n",
       "      <td>5</td>\n",
       "    </tr>\n",
       "    <tr>\n",
       "      <th>2</th>\n",
       "      <td>señor caballero</td>\n",
       "      <td>5</td>\n",
       "    </tr>\n",
       "    <tr>\n",
       "      <th>3</th>\n",
       "      <td>Amadís de Gaula</td>\n",
       "      <td>4</td>\n",
       "    </tr>\n",
       "    <tr>\n",
       "      <th>4</th>\n",
       "      <td>Amadís</td>\n",
       "      <td>4</td>\n",
       "    </tr>\n",
       "    <tr>\n",
       "      <th>5</th>\n",
       "      <td>Rocinante</td>\n",
       "      <td>4</td>\n",
       "    </tr>\n",
       "  </tbody>\n",
       "</table>\n",
       "</div>"
      ],
      "text/plain": [
       "      named_entity  frecuencia\n",
       "0           Andrés           7\n",
       "1          Nicolás           5\n",
       "2  señor caballero           5\n",
       "3  Amadís de Gaula           4\n",
       "4           Amadís           4\n",
       "5        Rocinante           4"
      ]
     },
     "execution_count": 33,
     "metadata": {},
     "output_type": "execute_result"
    }
   ],
   "source": [
    "pers = []\n",
    "for named_entity in nlp(text).ents:\n",
    "    if named_entity.label_  == 'PER':\n",
    "        pers.append(named_entity.lemma_)\n",
    "\n",
    "pers_total = Counter(pers)\n",
    "\n",
    "df = pd.DataFrame(pers_total.most_common(), columns=['named_entity', 'frecuencia'])\n",
    "df[:6]"
   ]
  },
  {
   "cell_type": "markdown",
   "id": "e0ff733b",
   "metadata": {},
   "source": [
    "### Diferencia entre POS y NER\n",
    "\n",
    "Podemos ver la diferencia entre POS y NER con el siguiente ejemplo.\n",
    "\n",
    "<span style=\"text-decoration:underline\">**Ejemplo.**</span>\n",
    "\n",
    "```María se fue en 2020 al río Guadiana a pescar peces coloridos mientras Mario iban a por bebida al supermercado Mercado.```"
   ]
  },
  {
   "cell_type": "code",
   "execution_count": 34,
   "id": "2f5957f6",
   "metadata": {},
   "outputs": [],
   "source": [
    "#| echo: false\n",
    "text_for_POS_NER = \"María se fue en 2020 al río Guadiana a pescar peces coloridos mientras Mario iban a por bebida al supermercado Mercado.\"\n",
    "\n",
    "ejemplo = nlp(text_for_POS_NER)"
   ]
  },
  {
   "cell_type": "code",
   "execution_count": 35,
   "id": "6176a86e",
   "metadata": {},
   "outputs": [],
   "source": [
    "#| eval: false\n",
    "\n",
    "propiedades = ['text', 'pos_']\n",
    "\n",
    "print('POS')\n",
    "for token in ejemplo[:6]:\n",
    "    print('---')\n",
    "    for attr in propiedades:\n",
    "        print(\"obj.%s = %r\" % (attr, getattr(token, attr)))\n",
    "\n",
    "\n",
    "print('NER')\n",
    "print('---')\n",
    "for named_entity in list(ejemplo.ents):\n",
    "   print(f\"{named_entity} - label: {repr(named_entity.label_)}\")"
   ]
  },
  {
   "cell_type": "code",
   "execution_count": 36,
   "id": "32b28178",
   "metadata": {},
   "outputs": [
    {
     "data": {
      "text/html": [
       "\n",
       "<div style=\"display: flex; justify-content: space-between;\">\n",
       "    <div style=\"margin-right: 20px; flex: 1;\">\n",
       "        <pre>POS<br>---<br>obj.text = 'María'<br>obj.pos_ = 'PROPN'<br>---<br>obj.text = 'se'<br>obj.pos_ = 'PRON'<br>---<br>obj.text = 'fue'<br>obj.pos_ = 'VERB'<br>---<br>obj.text = 'en'<br>obj.pos_ = 'ADP'<br>---<br>obj.text = '2020'<br>obj.pos_ = 'NOUN'<br>---<br>obj.text = 'al'<br>obj.pos_ = 'ADP'</pre>\n",
       "    </div>\n",
       "    <div style=\"flex: 1;\">\n",
       "        <pre>NER<br>---<br>María - label: 'PER'<br>Guadiana - label: 'LOC'<br>Mario - label: 'PER'<br>Mercado - label: 'LOC'</pre>\n",
       "    </div>\n",
       "</div>\n"
      ],
      "text/plain": [
       "<IPython.core.display.HTML object>"
      ]
     },
     "metadata": {},
     "output_type": "display_data"
    }
   ],
   "source": [
    "#| echo: false\n",
    "\n",
    "from IPython.display import display, HTML\n",
    "\n",
    "ejemplo = nlp(text_for_POS_NER)\n",
    "\n",
    "# Primer chunk\n",
    "output1 = []\n",
    "\n",
    "propiedades = ['text', 'pos_']\n",
    "\n",
    "output1.append('POS')\n",
    "for token in ejemplo[:6]:\n",
    "    output1.append('---')\n",
    "    for attr in propiedades:\n",
    "        output1.append(f\"obj.{attr} = {repr(getattr(token, attr))}\")\n",
    "output1_html = \"<br>\".join(output1)  # Convertir a HTML con saltos de línea\n",
    "\n",
    "# Segundo chunk\n",
    "output2 = []\n",
    "\n",
    "output2.append('NER')\n",
    "output2.append('---')\n",
    "for named_entity in list(ejemplo.ents):\n",
    "   output2.append(f\"{named_entity} - label: {repr(named_entity.label_)}\")\n",
    "output2_html = \"<br>\".join(output2)  # Convertir a HTML con saltos de línea\n",
    "\n",
    "\n",
    "display(HTML(f\"\"\"\n",
    "<div style=\"display: flex; justify-content: space-between;\">\n",
    "    <div style=\"margin-right: 20px; flex: 1;\">\n",
    "        <pre>{output1_html}</pre>\n",
    "    </div>\n",
    "    <div style=\"flex: 1;\">\n",
    "        <pre>{output2_html}</pre>\n",
    "    </div>\n",
    "</div>\n",
    "\"\"\"))"
   ]
  }
 ],
 "metadata": {
  "kernelspec": {
   "display_name": "Python 3",
   "language": "python",
   "name": "python3"
  },
  "language_info": {
   "codemirror_mode": {
    "name": "ipython",
    "version": 3
   },
   "file_extension": ".py",
   "mimetype": "text/x-python",
   "name": "python",
   "nbconvert_exporter": "python",
   "pygments_lexer": "ipython3",
   "version": "3.12.5"
  }
 },
 "nbformat": 4,
 "nbformat_minor": 5
}
