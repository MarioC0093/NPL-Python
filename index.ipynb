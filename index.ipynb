{
 "cells": [
  {
   "cell_type": "raw",
   "id": "9adeb722",
   "metadata": {
    "vscode": {
     "languageId": "raw"
    }
   },
   "source": [
    "---\n",
    "title: \"NPL with Python\"\n",
    "author: \"Mario Camacho\"\n",
    "date: \"xx-xx-2024\"\n",
    "date-modified: last-modified\n",
    "date-format: \"DD MMMM YYYY\"\n",
    "lang: es\n",
    "\n",
    "execute:\n",
    "    enabled: true\n",
    "---"
   ]
  },
  {
   "cell_type": "markdown",
   "id": "28d9a99b",
   "metadata": {
    "vscode": {
     "languageId": "raw"
    }
   },
   "source": [
    "**Librerías**"
   ]
  },
  {
   "cell_type": "code",
   "execution_count": 1,
   "id": "a7665193",
   "metadata": {},
   "outputs": [],
   "source": [
    "#| code-fold: false\n",
    "# Import text from url\n",
    "import requests\n",
    "import re\n",
    "# Colores\n",
    "from termcolor import colored # Solo funciona dentro del notebook\n",
    "from rich.console import Console # Este paquete logra reflejarlo en el HTML\n",
    "console = Console(record=True)\n",
    "# NPL en general\n",
    "import spacy\n",
    "# Tokenizacion\n",
    "import nltk\n",
    "from nltk.tokenize import word_tokenize\n",
    "# Stop Words\n",
    "from nltk.corpus import stopwords\n",
    "# Steamming and Lemmatization\n",
    "import nltk\n",
    "from nltk.stem.snowball import SnowballStemmer"
   ]
  },
  {
   "cell_type": "code",
   "execution_count": 2,
   "id": "32ef2112",
   "metadata": {},
   "outputs": [],
   "source": [
    "%run  \"src\\counter_to_html.py\""
   ]
  },
  {
   "cell_type": "markdown",
   "id": "faf5eafd",
   "metadata": {},
   "source": [
    "# Preproceso"
   ]
  },
  {
   "cell_type": "markdown",
   "id": "038ab5c1",
   "metadata": {},
   "source": [
    "## Ingesta del documento"
   ]
  },
  {
   "cell_type": "markdown",
   "id": "1b7a57cc",
   "metadata": {},
   "source": [
    "Leemos el libro El Quijote."
   ]
  },
  {
   "cell_type": "code",
   "execution_count": 3,
   "id": "f556c38c",
   "metadata": {},
   "outputs": [],
   "source": [
    "# Enviar una solicitud GET a la URL\n",
    "response = requests.get(\"https://www.gutenberg.org/cache/epub/2000/pg2000.txt\")\n",
    "\n",
    "# Verificar si la solicitud fue exitosa\n",
    "if response.status_code == 200:\n",
    "    quijote = response.text\n",
    "    # print(\"Éxito al leer el texto.\")\n",
    "else:\n",
    "    print(\"Error al leer el texto.\")\n"
   ]
  },
  {
   "cell_type": "markdown",
   "id": "35655096",
   "metadata": {},
   "source": [
    "Nos ocupamos únicamente de los primeros seis capítulos de la primera parte de El Quijote."
   ]
  },
  {
   "cell_type": "code",
   "execution_count": 4,
   "id": "f34dff67",
   "metadata": {},
   "outputs": [
    {
     "data": {
      "text/html": [
       "<pre style=\"white-space:pre;overflow-x:auto;line-height:normal;font-family:Menlo,'DejaVu Sans Mono',consolas,'Courier New',monospace\"><span style=\"font-weight: bold\">Inicio del primer capítulo:</span>\n",
       "\n",
       " Capítulo primero. Que trata de la condición y ejercicio del famoso hidalgo\n",
       "don Quijote de la Mancha\n",
       "\n",
       "En un lugar de la Mancha, de cuyo nombre no quiero acordarme, no ha mucho\n",
       "tiempo que vivía un hidalgo de los de lanza en astillero, adarga antigua\n",
       "</pre>\n"
      ],
      "text/plain": [
       "\u001b[1mInicio del primer capítulo:\u001b[0m\n",
       "\n",
       " Capítulo primero. Que trata de la condición y ejercicio del famoso hidalgo\n",
       "don Quijote de la Mancha\n",
       "\n",
       "En un lugar de la Mancha, de cuyo nombre no quiero acordarme, no ha mucho\n",
       "tiempo que vivía un hidalgo de los de lanza en astillero, adarga antigua\n"
      ]
     },
     "metadata": {},
     "output_type": "display_data"
    },
    {
     "data": {
      "text/html": [
       "<pre style=\"white-space:pre;overflow-x:auto;line-height:normal;font-family:Menlo,'DejaVu Sans Mono',consolas,'Courier New',monospace\"><span style=\"font-weight: bold\">Final del sexto capítulo:</span>\n",
       "\n",
       " o el cura en oyendo el nombre— si tal libro hubiera\n",
       "mandado quemar; porque su autor fue uno de los famosos poetas del mundo, no\n",
       "sólo de España, y fue felicísimo en la tradución de algunas fábulas de\n",
       "Ovidio.\n",
       "\n",
       "\n",
       "\n",
       "\n",
       "Capítulo VII\n",
       "</pre>\n"
      ],
      "text/plain": [
       "\u001b[1mFinal del sexto capítulo:\u001b[0m\n",
       "\n",
       " o el cura en oyendo el nombre— si tal libro hubiera\n",
       "mandado quemar; porque su autor fue uno de los famosos poetas del mundo, no\n",
       "sólo de España, y fue felicísimo en la tradución de algunas fábulas de\n",
       "Ovidio.\n",
       "\n",
       "\n",
       "\n",
       "\n",
       "Capítulo VII\n"
      ]
     },
     "metadata": {},
     "output_type": "display_data"
    }
   ],
   "source": [
    "### Inicio del primer capítulo\n",
    "\n",
    "# Palabra objetivo\n",
    "palabra_start = \"Primera parte del ingenioso hidalgo don Quijote de la Mancha\"\n",
    "\n",
    "# Expresión regular para capturar todo lo que va antes de un patrón de  búsqueda\n",
    "patron = re.compile(rf\"{palabra_start}\\s*(.*)\", re.DOTALL)\n",
    "\n",
    "coincidencia = patron.search(quijote)\n",
    "\n",
    "if coincidencia:\n",
    "    quijote = coincidencia.group(1) # 0 incluye la palabra del search, 1 no lo incluye\n",
    "    console.print(\"[bold]Inicio del primer capítulo:\\n\\n[/bold]\", quijote[:251])\n",
    "    # print(\"Inicio del texto:\\n\\n\", quijote[:251])\n",
    "else:\n",
    "    console.print(\"[bold]Inicio del texto:\\n\\n[/bold]\", quijote[:251])\n",
    "    \n",
    "\n",
    "### Inicio del sépimo capítulo (y final del sexto)\n",
    "palabra_end = \"Capítulo VII\"\n",
    "\n",
    "# patron = re.compile(rf\"(.*)\\b{re.escape(palabra_end)}\\b\", re.DOTALL) # .* es codicioso (\"greedy\"): captura la mayor cantidad posible de caracteres antes de la coincidir con la palabra, captura hasta la última aparición de la palabra buscada\n",
    "patron = re.compile(rf\"(.*?)\\b{re.escape(palabra_end)}\\b\", re.DOTALL) # .* es no codicioso (\"lazy\"): captura la menor cantidad posible de caracteres y evitar que el resto del texto cooincida, se detiene en la primera coincidencia\n",
    "\n",
    "coincidencia = patron.search(quijote)\n",
    "\n",
    "if coincidencia:\n",
    "    quijote = coincidencia.group(0)\n",
    "    console.print(\"[bold]Final del sexto capítulo:\\n\\n[/bold]\", quijote[-231:])\n",
    "    quijote = coincidencia.group(1) # Elimino el patrón de búsqueda\n",
    "else:\n",
    "    console.print(\"[bold]Final del texto:\\n\\n[/bold]\", quijote[-231:])\n"
   ]
  },
  {
   "cell_type": "markdown",
   "id": "b75e3056",
   "metadata": {},
   "source": [
    "## Carga del modelo"
   ]
  },
  {
   "cell_type": "markdown",
   "id": "3e8df856",
   "metadata": {},
   "source": [
    "Descarga y carga del modelo de lenguaje a través de la librería spaCy"
   ]
  },
  {
   "cell_type": "code",
   "execution_count": 5,
   "id": "8ea0890a",
   "metadata": {},
   "outputs": [],
   "source": [
    "# !python -m spacy download es_core_news_md"
   ]
  },
  {
   "cell_type": "code",
   "execution_count": 6,
   "id": "838863e2",
   "metadata": {},
   "outputs": [],
   "source": [
    "#| include: false\n",
    "# import es_core_news_md\n",
    "# nlp = es_core_news_md.load()"
   ]
  },
  {
   "cell_type": "code",
   "execution_count": 7,
   "id": "0ec8457f",
   "metadata": {},
   "outputs": [],
   "source": [
    "import spacy\n",
    "nlp = spacy.load(\"es_core_news_md\")"
   ]
  },
  {
   "cell_type": "markdown",
   "id": "57574d20",
   "metadata": {},
   "source": [
    "## Fragmentación de la información"
   ]
  },
  {
   "cell_type": "markdown",
   "id": "7b54a2d8",
   "metadata": {},
   "source": [
    "Podemos dividir el texto en párrafos."
   ]
  },
  {
   "cell_type": "code",
   "execution_count": 8,
   "id": "231a70c0",
   "metadata": {},
   "outputs": [
    {
     "data": {
      "text/html": [
       "<pre style=\"white-space:pre;overflow-x:auto;line-height:normal;font-family:Menlo,'DejaVu Sans Mono',consolas,'Courier New',monospace\">\n",
       "<span style=\"color: #000080; text-decoration-color: #000080\">Siguiente párrafo:</span>\n",
       "\n",
       " Capítulo primero.\n",
       "</pre>\n"
      ],
      "text/plain": [
       "\n",
       "Siguiente párrafo:\n",
       "\n",
       " Capítulo primero.\n"
      ]
     },
     "metadata": {},
     "output_type": "display_data"
    },
    {
     "data": {
      "text/html": [
       "<pre style=\"white-space:pre;overflow-x:auto;line-height:normal;font-family:Menlo,'DejaVu Sans Mono',consolas,'Courier New',monospace\">\n",
       "<span style=\"color: #000080; text-decoration-color: #000080\">Siguiente párrafo:</span>\n",
       "\n",
       " Que trata de la condición y ejercicio del famoso hidalgo\n",
       "don Quijote de la Mancha\n",
       "\n",
       "En un lugar de la Mancha, de cuyo nombre no quiero acordarme, no ha mucho\n",
       "tiempo que vivía un hidalgo de los de lanza en astillero, adarga antigua,\n",
       "rocín flaco y galgo corredor.\n",
       "</pre>\n"
      ],
      "text/plain": [
       "\n",
       "Siguiente párrafo:\n",
       "\n",
       " Que trata de la condición y ejercicio del famoso hidalgo\n",
       "don Quijote de la Mancha\n",
       "\n",
       "En un lugar de la Mancha, de cuyo nombre no quiero acordarme, no ha mucho\n",
       "tiempo que vivía un hidalgo de los de lanza en astillero, adarga antigua,\n",
       "rocín flaco y galgo corredor.\n"
      ]
     },
     "metadata": {},
     "output_type": "display_data"
    },
    {
     "data": {
      "text/html": [
       "<pre style=\"white-space:pre;overflow-x:auto;line-height:normal;font-family:Menlo,'DejaVu Sans Mono',consolas,'Courier New',monospace\">\n",
       "<span style=\"color: #000080; text-decoration-color: #000080\">Siguiente párrafo:</span>\n",
       "\n",
       " Una olla de algo más vaca que carnero,\n",
       "salpicón las más noches, duelos y quebrantos los sábados, lantejas los\n",
       "viernes, algún palomino de añadidura los domingos, consumían las tres\n",
       "partes de su hacienda.\n",
       "</pre>\n"
      ],
      "text/plain": [
       "\n",
       "Siguiente párrafo:\n",
       "\n",
       " Una olla de algo más vaca que carnero,\n",
       "salpicón las más noches, duelos y quebrantos los sábados, lantejas los\n",
       "viernes, algún palomino de añadidura los domingos, consumían las tres\n",
       "partes de su hacienda.\n"
      ]
     },
     "metadata": {},
     "output_type": "display_data"
    }
   ],
   "source": [
    "#| layout-ncol: 3\n",
    "for parrafo in list(nlp(quijote).sents)[:3]: # No es necesario pasarlo a una lista, solo para coger un número de ejemplos\n",
    "    console.print(\"[blue]\\nSiguiente párrafo:\\n\\n[/blue]\", parrafo)\n",
    "    #print(parrafo)"
   ]
  },
  {
   "cell_type": "markdown",
   "id": "d50965e1",
   "metadata": {},
   "source": [
    "Y los párrafos en palabras."
   ]
  },
  {
   "cell_type": "code",
   "execution_count": 9,
   "id": "342916a7",
   "metadata": {},
   "outputs": [
    {
     "data": {
      "text/html": [
       "<pre style=\"white-space:pre;overflow-x:auto;line-height:normal;font-family:Menlo,'DejaVu Sans Mono',consolas,'Courier New',monospace\">\n",
       "<span style=\"color: #000080; text-decoration-color: #000080\">Siguiente párrafo:</span>\n",
       "\n",
       "</pre>\n"
      ],
      "text/plain": [
       "\n",
       "Siguiente párrafo:\n",
       "\n"
      ]
     },
     "metadata": {},
     "output_type": "display_data"
    },
    {
     "name": "stdout",
     "output_type": "stream",
     "text": [
      "Capítulo\n",
      "primero\n",
      ".\n"
     ]
    }
   ],
   "source": [
    "for parrafo in list(nlp(quijote).sents)[:1]:\n",
    "    console.print(\"[blue]\\nSiguiente párrafo:\\n[/blue]\")\n",
    "    # print(colored(\"\\nSiguiente párrafo:\\n\",'blue'))\n",
    "    for palabra in parrafo:\n",
    "        print(palabra)"
   ]
  },
  {
   "cell_type": "markdown",
   "id": "0216bcf3",
   "metadata": {},
   "source": [
    "# Pipeline NPL"
   ]
  },
  {
   "cell_type": "code",
   "execution_count": 10,
   "id": "3f06ae76",
   "metadata": {},
   "outputs": [],
   "source": [
    "text = quijote"
   ]
  },
  {
   "cell_type": "markdown",
   "id": "369e1e74",
   "metadata": {},
   "source": [
    "## Tokenization"
   ]
  },
  {
   "cell_type": "code",
   "execution_count": 11,
   "id": "34269652",
   "metadata": {},
   "outputs": [
    {
     "name": "stdout",
     "output_type": "stream",
     "text": [
      "['Capítulo', 'primero', '.', 'Que', 'trata', 'de', 'la', 'condición', 'y', 'ejercicio']\n"
     ]
    }
   ],
   "source": [
    "tokens = word_tokenize(text)\n",
    "print(tokens[:10])"
   ]
  },
  {
   "cell_type": "markdown",
   "id": "60cbc00e",
   "metadata": {},
   "source": [
    "## Stop Words"
   ]
  },
  {
   "cell_type": "code",
   "execution_count": 12,
   "id": "ba79463a",
   "metadata": {},
   "outputs": [
    {
     "name": "stdout",
     "output_type": "stream",
     "text": [
      "['Capítulo', 'primero', '.', 'trata', 'condición', 'ejercicio', 'famoso', 'hidalgo', 'don', 'Quijote']\n"
     ]
    }
   ],
   "source": [
    "stop_words = set(stopwords.words('spanish'))\n",
    "tokens = [w for w in tokens if w.lower() not in stop_words]\n",
    "print(tokens[:10])"
   ]
  },
  {
   "cell_type": "markdown",
   "id": "780ea3c0",
   "metadata": {},
   "source": [
    "## Stemming and Lemmatization"
   ]
  },
  {
   "cell_type": "markdown",
   "id": "18fddf65",
   "metadata": {},
   "source": [
    "https://spacy.io/models/es  \n",
    "https://github.com/explosion/spacy-models/releases?q=es_core_web_md&expanded=true"
   ]
  },
  {
   "cell_type": "code",
   "execution_count": 13,
   "id": "6152e367",
   "metadata": {},
   "outputs": [
    {
     "data": {
      "text/plain": [
       "['capitul',\n",
       " 'primer',\n",
       " '.',\n",
       " 'trat',\n",
       " 'condicion',\n",
       " 'ejercici',\n",
       " 'famos',\n",
       " 'hidalg',\n",
       " 'don',\n",
       " 'quijot']"
      ]
     },
     "execution_count": 13,
     "metadata": {},
     "output_type": "execute_result"
    }
   ],
   "source": [
    "stemmer = SnowballStemmer(\"spanish\")\n",
    "tokens = [stemmer.stem(palabra) for palabra in tokens]\n",
    "tokens[:10]"
   ]
  },
  {
   "cell_type": "markdown",
   "id": "ef8c91c0",
   "metadata": {},
   "source": [
    "## POS Tagging\n",
    "\n",
    "Part of speech."
   ]
  },
  {
   "cell_type": "markdown",
   "id": "216fe495",
   "metadata": {},
   "source": [
    "La librería spacy ofrece variedad de etiquetas para un token. Podemos encontrarlas aquí: https://spacy.io/api/token#attributes. Por ejemplo:"
   ]
  },
  {
   "cell_type": "code",
   "execution_count": 14,
   "id": "91b59204",
   "metadata": {},
   "outputs": [],
   "source": [
    "#| code-fold: false\n",
    "propiedades = ['text', 'lang_', 'is_digit', 'is_lower', 'is_upper', 'is_sent_start', 'is_sent_end',\n",
    "               'like_email', 'like_url', # Espero no encontrar ninguna de estas etiquetas en El Quijote\n",
    "               'sentiment', 'sent']"
   ]
  },
  {
   "cell_type": "code",
   "execution_count": 15,
   "id": "e07f26f8",
   "metadata": {},
   "outputs": [
    {
     "name": "stdout",
     "output_type": "stream",
     "text": [
      "obj.text = 'Capítulo'\n",
      "obj.lang_ = 'es'\n",
      "obj.is_digit = False\n",
      "obj.is_lower = False\n",
      "obj.is_upper = False\n",
      "obj.is_sent_start = True\n",
      "obj.is_sent_end = False\n",
      "obj.like_email = False\n",
      "obj.like_url = False\n",
      "obj.sentiment = 0.0\n",
      "obj.sent = Capítulo primero.\n"
     ]
    }
   ],
   "source": [
    "ejemplo_01 = nlp(text)[0]\n",
    "\n",
    "for attr in propiedades:\n",
    "    print(\"obj.%s = %r\" % (attr, getattr(ejemplo_01, attr)))"
   ]
  },
  {
   "cell_type": "code",
   "execution_count": 16,
   "id": "7d2a0bc0",
   "metadata": {},
   "outputs": [],
   "source": [
    "a=nlp(text).ents[0]"
   ]
  },
  {
   "cell_type": "code",
   "execution_count": 17,
   "id": "91e2a06c",
   "metadata": {},
   "outputs": [
    {
     "name": "stdout",
     "output_type": "stream",
     "text": [
      "obj.label_ = 'MISC'\n"
     ]
    }
   ],
   "source": [
    "for attr in dir(a):\n",
    "    if attr != 'doc' and attr != 'sent' and attr == 'label_':\n",
    "        print(\"obj.%s = %r\" % (attr, getattr(a, attr)))"
   ]
  },
  {
   "cell_type": "code",
   "execution_count": 18,
   "id": "f9aec623",
   "metadata": {},
   "outputs": [],
   "source": [
    "#for named_entity in nlp(text).ents:\n",
    "#    print(named_entity, named_entity.label_)"
   ]
  },
  {
   "cell_type": "code",
   "execution_count": 19,
   "id": "6d5deb31",
   "metadata": {},
   "outputs": [
    {
     "name": "stdout",
     "output_type": "stream",
     "text": [
      "Capítulo PROPN PROPN\n",
      "primero ADJ ADJ\n",
      ". PUNCT PUNCT\n",
      "Que SCONJ SCONJ\n",
      "trata VERB VERB\n",
      "de ADP ADP\n",
      "la DET DET\n",
      "condición NOUN NOUN\n",
      "y CCONJ CCONJ\n",
      "ejercicio NOUN NOUN\n"
     ]
    }
   ],
   "source": [
    "#import spacy\n",
    "\n",
    "#nlp = spacy.load(\"es_core_news_md\")\n",
    "doc = nlp(text)[:10]\n",
    "for token in doc:\n",
    "    print(token.text, token.pos_, token.tag_ )"
   ]
  },
  {
   "cell_type": "markdown",
   "id": "e75d1340",
   "metadata": {},
   "source": [
    "## NER\n",
    "\n",
    "Named-Entity Recognition.\n",
    "\n",
    "Realizamos esta subtarea de NPL mediante la librería spaCy."
   ]
  },
  {
   "cell_type": "code",
   "execution_count": 20,
   "id": "197b5c0d",
   "metadata": {},
   "outputs": [],
   "source": [
    "#| code-fold: false\n",
    "documento = nlp(text)"
   ]
  },
  {
   "cell_type": "markdown",
   "id": "cb46962e",
   "metadata": {},
   "source": [
    "Todas las entidades nombradas se encuentran en la propiedad **document.ents**."
   ]
  },
  {
   "cell_type": "code",
   "execution_count": 21,
   "id": "4ead5a65",
   "metadata": {},
   "outputs": [
    {
     "name": "stdout",
     "output_type": "stream",
     "text": [
      "Que trata de la condición MISC\n",
      "hidalgo PER\n",
      "la Mancha LOC\n",
      "Una olla de algo más vaca MISC\n",
      "El resto della MISC\n",
      "Tenía en su casa una MISC\n",
      "Frisaba LOC\n",
      "Quieren PER\n",
      "Quijada PER\n",
      "Quesada LOC\n"
     ]
    }
   ],
   "source": [
    "for named_entity in list(documento.ents)[:10]:\n",
    "    print(named_entity, named_entity.label_)"
   ]
  },
  {
   "cell_type": "code",
   "execution_count": 22,
   "id": "46b5d242",
   "metadata": {},
   "outputs": [
    {
     "name": "stdout",
     "output_type": "stream",
     "text": [
      "               character  count\n",
      "0                 Andrés      7\n",
      "1                Nicolás      5\n",
      "2        Amadís de Gaula      4\n",
      "3                 Amadís      4\n",
      "4              Rocinante      4\n",
      "..                   ...    ...\n",
      "133    Alonso de Ercilla      1\n",
      "134            Juan Rufo      1\n",
      "135  Cristóbal de Virués      1\n",
      "136           Lloráralas      1\n",
      "137               Ovidio      1\n",
      "\n",
      "[138 rows x 2 columns]\n"
     ]
    }
   ],
   "source": [
    "import pandas as pd\n",
    "from collections import Counter\n",
    "people = []\n",
    "\n",
    "for named_entity in documento.ents:\n",
    "    if named_entity.label_ == \"PER\":\n",
    "        people.append(named_entity.text)\n",
    "\n",
    "people_tally = Counter(people)\n",
    "\n",
    "df = pd.DataFrame(people_tally.most_common(), columns=['character', 'count'])\n",
    "print(df)"
   ]
  },
  {
   "cell_type": "code",
   "execution_count": 23,
   "id": "466bcf7c",
   "metadata": {},
   "outputs": [
    {
     "data": {
      "text/html": [
       "\n",
       "    <style>\n",
       "        table {\n",
       "            width: 50%;\n",
       "            margin: 20px auto;\n",
       "            border-collapse: collapse;\n",
       "            box-shadow: 0 5px 10px rgba(0,0,0,0.1);\n",
       "        }\n",
       "        table, th, td {\n",
       "            border: 1px solid #ddd;\n",
       "            padding: 10px;\n",
       "            text-align: left;\n",
       "        }\n",
       "        th {\n",
       "            background-color: #f4f4f4;\n",
       "        }\n",
       "        tr:hover {\n",
       "            background-color: #f1f1f1;\n",
       "        }\n",
       "        #filterInput {\n",
       "            width: 50%;\n",
       "            margin: 20px auto;\n",
       "            padding: 10px;\n",
       "            border: 1px solid #ddd;\n",
       "            font-size: 16px;\n",
       "        }\n",
       "        .show-more-btn {\n",
       "            width: 50%;\n",
       "            margin: 10px auto;\n",
       "            text-align: center;\n",
       "            cursor: pointer;\n",
       "            color: #007bff;\n",
       "            text-decoration: underline;\n",
       "        }\n",
       "    </style>\n",
       "    \n",
       "    <input type=\"text\" id=\"filterInput\" onkeyup=\"filterTable()\" placeholder=\"Buscar por elemento...\">\n",
       "    \n",
       "    <table id=\"counterTable\">\n",
       "        <thead>\n",
       "            <tr>\n",
       "                <th>Elemento</th>\n",
       "                <th>Conteo</th>\n",
       "            </tr>\n",
       "        </thead>\n",
       "        <tbody>\n",
       "    <tr style=\"\" class=\"table-row\"><td>hidalgo</td><td>2</td></tr><tr style=\"\" class=\"table-row\"><td>Quieren</td><td>1</td></tr><tr style=\"\" class=\"table-row\"><td>Quijada</td><td>1</td></tr><tr style=\"\" class=\"table-row\"><td>Feliciano de Silva</td><td>1</td></tr><tr style=\"\" class=\"table-row\"><td>Aristóteles</td><td>1</td></tr><tr style=\"display: none;\" class=\"table-row\"><td>Belianís</td><td>1</td></tr><tr style=\"display: none;\" class=\"table-row\"><td>recebía</td><td>2</td></tr><tr style=\"display: none;\" class=\"table-row\"><td>Palmerín de Ingalaterra</td><td>1</td></tr><tr style=\"display: none;\" class=\"table-row\"><td>Amadís de Gaula</td><td>4</td></tr><tr style=\"display: none;\" class=\"table-row\"><td>Nicolás</td><td>5</td></tr><tr style=\"display: none;\" class=\"table-row\"><td>Galaor</td><td>1</td></tr><tr style=\"display: none;\" class=\"table-row\"><td>Llenósele</td><td>1</td></tr><tr style=\"display: none;\" class=\"table-row\"><td>Decía</td><td>3</td></tr><tr style=\"display: none;\" class=\"table-row\"><td>el Cid Ruy Díaz</td><td>1</td></tr><tr style=\"display: none;\" class=\"table-row\"><td>el Caballero</td><td>1</td></tr><tr style=\"display: none;\" class=\"table-row\"><td>Ardiente Espada</td><td>1</td></tr><tr style=\"display: none;\" class=\"table-row\"><td>Bernardo del Carpio</td><td>2</td></tr><tr style=\"display: none;\" class=\"table-row\"><td>Roldán</td><td>1</td></tr><tr style=\"display: none;\" class=\"table-row\"><td>Hércules</td><td>1</td></tr><tr style=\"display: none;\" class=\"table-row\"><td>Anteo</td><td>1</td></tr><tr style=\"display: none;\" class=\"table-row\"><td>Morgante</td><td>1</td></tr><tr style=\"display: none;\" class=\"table-row\"><td>Reinaldos</td><td>1</td></tr><tr style=\"display: none;\" class=\"table-row\"><td>allende</td><td>1</td></tr><tr style=\"display: none;\" class=\"table-row\"><td>Mahoma</td><td>2</td></tr><tr style=\"display: none;\" class=\"table-row\"><td>Diera</td><td>1</td></tr><tr style=\"display: none;\" class=\"table-row\"><td>Amadís</td><td>4</td></tr><tr style=\"display: none;\" class=\"table-row\"><td>Hepila</td><td>1</td></tr><tr style=\"display: none;\" class=\"table-row\"><td>Limpias</td><td>1</td></tr><tr style=\"display: none;\" class=\"table-row\"><td>Dulcinea</td><td>2</td></tr><tr style=\"display: none;\" class=\"table-row\"><td>Toboso</td><td>1</td></tr><tr style=\"display: none;\" class=\"table-row\"><td>Capítulo II</td><td>1</td></tr><tr style=\"display: none;\" class=\"table-row\"><td>Rocinante</td><td>4</td></tr><tr style=\"display: none;\" class=\"table-row\"><td>Apolo</td><td>4</td></tr><tr style=\"display: none;\" class=\"table-row\"><td>mías</td><td>3</td></tr><tr style=\"display: none;\" class=\"table-row\"><td>habedes</td><td>1</td></tr><tr style=\"display: none;\" class=\"table-row\"><td>Diose</td><td>1</td></tr><tr style=\"display: none;\" class=\"table-row\"><td>della</td><td>1</td></tr><tr style=\"display: none;\" class=\"table-row\"><td>Mirábanle</td><td>1</td></tr><tr style=\"display: none;\" class=\"table-row\"><td>mucha sandez</td><td>1</td></tr><tr style=\"display: none;\" class=\"table-row\"><td>señor caballero</td><td>2</td></tr><tr style=\"display: none;\" class=\"table-row\"><td>Preguntáronle</td><td>1</td></tr><tr style=\"display: none;\" class=\"table-row\"><td>Capítulo III</td><td>1</td></tr><tr style=\"display: none;\" class=\"table-row\"><td>Antojósele</td><td>1</td></tr><tr style=\"display: none;\" class=\"table-row\"><td>Acorredme</td><td>1</td></tr><tr style=\"display: none;\" class=\"table-row\"><td>Sancho Bienaya</td><td>1</td></tr><tr style=\"display: none;\" class=\"table-row\"><td>Don</td><td>1</td></tr><tr style=\"display: none;\" class=\"table-row\"><td>doña Tolosa</td><td>1</td></tr><tr style=\"display: none;\" class=\"table-row\"><td>Molinera</td><td>1</td></tr><tr style=\"display: none;\" class=\"table-row\"><td>Capítulo IV</td><td>1</td></tr><tr style=\"display: none;\" class=\"table-row\"><td>Gracias</td><td>1</td></tr><tr style=\"display: none;\" class=\"table-row\"><td>Dios</td><td>1</td></tr><tr style=\"display: none;\" class=\"table-row\"><td>Descortés caballero</td><td>1</td></tr><tr style=\"display: none;\" class=\"table-row\"><td>Señor caballero</td><td>3</td></tr><tr style=\"display: none;\" class=\"table-row\"><td>ruin villano?</td><td>1</td></tr><tr style=\"display: none;\" class=\"table-row\"><td>Pagadle</td><td>1</td></tr><tr style=\"display: none;\" class=\"table-row\"><td>Él</td><td>1</td></tr><tr style=\"display: none;\" class=\"table-row\"><td>Andrés</td><td>7</td></tr><tr style=\"display: none;\" class=\"table-row\"><td>San Bartolomé</td><td>1</td></tr><tr style=\"display: none;\" class=\"table-row\"><td>Mire</td><td>2</td></tr><tr style=\"display: none;\" class=\"table-row\"><td>Juan</td><td>1</td></tr><tr style=\"display: none;\" class=\"table-row\"><td>Haldudo</td><td>1</td></tr><tr style=\"display: none;\" class=\"table-row\"><td>Venid</td><td>1</td></tr><tr style=\"display: none;\" class=\"table-row\"><td>Roque</td><td>1</td></tr><tr style=\"display: none;\" class=\"table-row\"><td>Llamad</td><td>1</td></tr><tr style=\"display: none;\" class=\"table-row\"><td>contalle</td><td>1</td></tr><tr style=\"display: none;\" class=\"table-row\"><td>Dulcinea del Toboso</td><td>2</td></tr><tr style=\"display: none;\" class=\"table-row\"><td>Cayó Rocinante</td><td>1</td></tr><tr style=\"display: none;\" class=\"table-row\"><td>Dábanle</td><td>1</td></tr><tr style=\"display: none;\" class=\"table-row\"><td>Cansóse</td><td>1</td></tr><tr style=\"display: none;\" class=\"table-row\"><td>Capítulo V.</td><td>1</td></tr><tr style=\"display: none;\" class=\"table-row\"><td>Valdovinos</td><td>4</td></tr><tr style=\"display: none;\" class=\"table-row\"><td>Carloto</td><td>1</td></tr><tr style=\"display: none;\" class=\"table-row\"><td>Emperante</td><td>1</td></tr><tr style=\"display: none;\" class=\"table-row\"><td>Señor Quijana</td><td>1</td></tr><tr style=\"display: none;\" class=\"table-row\"><td>Abindarráez</td><td>2</td></tr><tr style=\"display: none;\" class=\"table-row\"><td>Rodrigo de Narváez</td><td>4</td></tr><tr style=\"display: none;\" class=\"table-row\"><td>Abencerraje</td><td>1</td></tr><tr style=\"display: none;\" class=\"table-row\"><td>Jorge</td><td>1</td></tr><tr style=\"display: none;\" class=\"table-row\"><td>Rodrigo</td><td>1</td></tr><tr style=\"display: none;\" class=\"table-row\"><td>Narváez</td><td>1</td></tr><tr style=\"display: none;\" class=\"table-row\"><td>Pedro Alonso</td><td>1</td></tr><tr style=\"display: none;\" class=\"table-row\"><td>hidalgo del señor</td><td>1</td></tr><tr style=\"display: none;\" class=\"table-row\"><td>Quijana.\r\n",
       "\r\n",
       "</td><td>1</td></tr><tr style=\"display: none;\" class=\"table-row\"><td>Pero Pérez</td><td>1</td></tr><tr style=\"display: none;\" class=\"table-row\"><td>Satanás</td><td>1</td></tr><tr style=\"display: none;\" class=\"table-row\"><td>Barrabás</td><td>1</td></tr><tr style=\"display: none;\" class=\"table-row\"><td>vuestras mercedes</td><td>1</td></tr><tr style=\"display: none;\" class=\"table-row\"><td>moro Abindarráez</td><td>1</td></tr><tr style=\"display: none;\" class=\"table-row\"><td>Ténganse</td><td>1</td></tr><tr style=\"display: none;\" class=\"table-row\"><td>Capítulo VI</td><td>1</td></tr><tr style=\"display: none;\" class=\"table-row\"><td>Esplandián</td><td>2</td></tr><tr style=\"display: none;\" class=\"table-row\"><td>Tomad</td><td>1</td></tr><tr style=\"display: none;\" class=\"table-row\"><td>Hízolo</td><td>1</td></tr><tr style=\"display: none;\" class=\"table-row\"><td>Amadís de Grecia</td><td>1</td></tr><tr style=\"display: none;\" class=\"table-row\"><td>Pintiquiniestra</td><td>1</td></tr><tr style=\"display: none;\" class=\"table-row\"><td>Darinel</td><td>1</td></tr><tr style=\"display: none;\" class=\"table-row\"><td>me engendró</td><td>1</td></tr><tr style=\"display: none;\" class=\"table-row\"><td>Don Olivante de Laura</td><td>1</td></tr><tr style=\"display: none;\" class=\"table-row\"><td>Florimorte de Hircania</td><td>1</td></tr><tr style=\"display: none;\" class=\"table-row\"><td>Florimorte</td><td>1</td></tr><tr style=\"display: none;\" class=\"table-row\"><td>Abrióse</td><td>1</td></tr><tr style=\"display: none;\" class=\"table-row\"><td>Montalbán</td><td>2</td></tr><tr style=\"display: none;\" class=\"table-row\"><td>Turpín</td><td>1</td></tr><tr style=\"display: none;\" class=\"table-row\"><td>Mateo Boyardo</td><td>1</td></tr><tr style=\"display: none;\" class=\"table-row\"><td>Ludovico Ariosto</td><td>1</td></tr><tr style=\"display: none;\" class=\"table-row\"><td>Palmerín de Oliva</td><td>1</td></tr><tr style=\"display: none;\" class=\"table-row\"><td>Palmerín</td><td>1</td></tr><tr style=\"display: none;\" class=\"table-row\"><td>Ingalaterra</td><td>2</td></tr><tr style=\"display: none;\" class=\"table-row\"><td>Alejandro</td><td>1</td></tr><tr style=\"display: none;\" class=\"table-row\"><td>Dario</td><td>1</td></tr><tr style=\"display: none;\" class=\"table-row\"><td>Homero</td><td>1</td></tr><tr style=\"display: none;\" class=\"table-row\"><td>Don Belianís</td><td>1</td></tr><tr style=\"display: none;\" class=\"table-row\"><td>Tirante el Blanco</td><td>1</td></tr><tr style=\"display: none;\" class=\"table-row\"><td>Tirante</td><td>2</td></tr><tr style=\"display: none;\" class=\"table-row\"><td>Aquí</td><td>1</td></tr><tr style=\"display: none;\" class=\"table-row\"><td>Tomás de Montalbán</td><td>1</td></tr><tr style=\"display: none;\" class=\"table-row\"><td>Fonseca</td><td>1</td></tr><tr style=\"display: none;\" class=\"table-row\"><td>Placerdemivida</td><td>1</td></tr><tr style=\"display: none;\" class=\"table-row\"><td>Reposada</td><td>1</td></tr><tr style=\"display: none;\" class=\"table-row\"><td>Emperatriz</td><td>1</td></tr><tr style=\"display: none;\" class=\"table-row\"><td>Hipólito</td><td>1</td></tr><tr style=\"display: none;\" class=\"table-row\"><td>La Diana</td><td>3</td></tr><tr style=\"display: none;\" class=\"table-row\"><td>Jorge de Montemayor</td><td>1</td></tr><tr style=\"display: none;\" class=\"table-row\"><td>Felicia</td><td>1</td></tr><tr style=\"display: none;\" class=\"table-row\"><td>Salmantino</td><td>2</td></tr><tr style=\"display: none;\" class=\"table-row\"><td>Gil Polo</td><td>2</td></tr><tr style=\"display: none;\" class=\"table-row\"><td>Fortuna</td><td>1</td></tr><tr style=\"display: none;\" class=\"table-row\"><td>Antonio de Lofraso</td><td>1</td></tr><tr style=\"display: none;\" class=\"table-row\"><td>recebí</td><td>1</td></tr><tr style=\"display: none;\" class=\"table-row\"><td>Desengaños</td><td>1</td></tr><tr style=\"display: none;\" class=\"table-row\"><td>El Cancionero de López Maldonado</td><td>1</td></tr><tr style=\"display: none;\" class=\"table-row\"><td>Miguel de Cervantes</td><td>1</td></tr><tr style=\"display: none;\" class=\"table-row\"><td>Cervantes</td><td>1</td></tr><tr style=\"display: none;\" class=\"table-row\"><td>Alonso de Ercilla</td><td>1</td></tr><tr style=\"display: none;\" class=\"table-row\"><td>Juan Rufo</td><td>1</td></tr><tr style=\"display: none;\" class=\"table-row\"><td>Cristóbal de Virués</td><td>1</td></tr><tr style=\"display: none;\" class=\"table-row\"><td>Lloráralas</td><td>1</td></tr><tr style=\"display: none;\" class=\"table-row\"><td>Ovidio</td><td>1</td></tr>\n",
       "        </tbody>\n",
       "    </table>\n",
       "    \n",
       "    <div id=\"showMoreBtn\" class=\"show-more-btn\" onclick=\"toggleRows()\">Mostrar más...</div>\n",
       "    \n",
       "    <script>\n",
       "    function filterTable() {{\n",
       "      var input, filter, table, tr, td, i, txtValue;\n",
       "      input = document.getElementById(\"filterInput\");\n",
       "      filter = input.value.toUpperCase();\n",
       "      table = document.getElementById(\"counterTable\");\n",
       "      tr = table.getElementsByTagName(\"tr\");\n",
       "      for (i = 1; i < tr.length; i++) {{\n",
       "        td = tr[i].getElementsByTagName(\"td\")[0];\n",
       "        if (td) {{\n",
       "          txtValue = td.textContent || td.innerText;\n",
       "          if (txtValue.toUpperCase().indexOf(filter) > -1) {{\n",
       "            tr[i].style.display = \"\";\n",
       "          }} else {{\n",
       "            tr[i].style.display = \"none\";\n",
       "          }}\n",
       "        }}       \n",
       "      }}\n",
       "    }}\n",
       "\n",
       "    function toggleRows() {{\n",
       "      var rows = document.getElementsByClassName(\"table-row\");\n",
       "      var showMoreBtn = document.getElementById(\"showMoreBtn\");\n",
       "      for (var i = 0; i < rows.length; i++) {{\n",
       "        if (rows[i].style.display === \"none\") {{\n",
       "          rows[i].style.display = \"\";\n",
       "          showMoreBtn.innerText = \"Mostrar menos...\";\n",
       "        }} else if (i >= {initial_visible}) {{\n",
       "          rows[i].style.display = \"none\";\n",
       "          showMoreBtn.innerText = \"Mostrar más...\";\n",
       "        }}\n",
       "      }}\n",
       "    }}\n",
       "    </script>\n",
       "    "
      ],
      "text/plain": [
       "<IPython.core.display.HTML object>"
      ]
     },
     "metadata": {},
     "output_type": "display_data"
    }
   ],
   "source": [
    "# Convertir el Counter a una tabla HTML\n",
    "html_table = counter_to_html_table(people_tally)\n",
    "\n",
    "# Mostrar la tabla HTML\n",
    "display(HTML(html_table))"
   ]
  },
  {
   "cell_type": "markdown",
   "id": "f96ba6ee",
   "metadata": {},
   "source": [
    "\n",
    "\n",
    "**Etiquetas NER**\n",
    "Las entidades nombradas son frases que contienen los nombres de personas, organizaciones, ubicaciones, expresiones de tiempo, cantidades, entre otras. Las entidades de interés se almacenan con su etiqueta correspondiente (por ejemplo, ‘PER‘ para personas, ‘LOC‘ para lugares, ‘ORG’ para organizaciones y ‘MISC’ que se emplea como un comodín para las tres anteriores) y sus posiciones en el texto (cable aclarar que el modelo que se utiliza mediante spaCy ya tiene las etiquetas predefinidas).  "
   ]
  },
  {
   "cell_type": "code",
   "execution_count": 24,
   "id": "270200ca",
   "metadata": {},
   "outputs": [
    {
     "data": {
      "text/plain": [
       "('LOC', 'MISC', 'ORG', 'PER')"
      ]
     },
     "execution_count": 24,
     "metadata": {},
     "output_type": "execute_result"
    }
   ],
   "source": [
    "#| code-fold: false\n",
    "getattr(nlp.get_pipe('ner'), 'labels')"
   ]
  },
  {
   "cell_type": "code",
   "execution_count": 25,
   "id": "3c127847",
   "metadata": {},
   "outputs": [],
   "source": [
    "from IPython.display import Markdown, display\n",
    "import re\n",
    "\n",
    "def get_ner_in_context(keyword, document, desired_ner_labels= False):\n",
    "    \n",
    "    if desired_ner_labels != False:\n",
    "        desired_ner_labels = desired_ner_labels\n",
    "    else:\n",
    "         # all possible labels\n",
    "        desired_ner_labels = list(nlp.get_pipe('ner').labels)  \n",
    "        \n",
    "    #Iterate through all the sentences in the document and pull out the text of each sentence\n",
    "    for sentence in document.sents:\n",
    "        #process each sentence\n",
    "        sentence_doc = nlp(sentence.text)\n",
    "        for named_entity in sentence_doc.ents:\n",
    "            #Check to see if the keyword is in the sentence (and ignore capitalization by making both lowercase)\n",
    "            if keyword.lower() in named_entity.text.lower()  and named_entity.label_ in desired_ner_labels:\n",
    "                #Use the regex library to replace linebreaks and to make the keyword bolded, again ignoring capitalization\n",
    "            \n",
    "                sentence_text = re.sub('\\n', ' ', sentence.text)\n",
    "                sentence_text = re.sub(f\"{named_entity.text}\", f\"**{named_entity.text}**\", sentence_text, flags=re.IGNORECASE)\n",
    "\n",
    "                display(Markdown('--')) # Si pones --- te sale una línea de izq a drcha\n",
    "                display(Markdown(f\"**{named_entity.label_}**\"))\n",
    "                display(Markdown(sentence_text))"
   ]
  },
  {
   "cell_type": "code",
   "execution_count": 26,
   "id": "5f1a7a4e",
   "metadata": {},
   "outputs": [
    {
     "data": {
      "text/plain": [
       "spacy.tokens.span.Span"
      ]
     },
     "execution_count": 26,
     "metadata": {},
     "output_type": "execute_result"
    }
   ],
   "source": [
    "type(doc)"
   ]
  },
  {
   "cell_type": "code",
   "execution_count": 27,
   "id": "1e8f8798",
   "metadata": {},
   "outputs": [
    {
     "data": {
      "text/markdown": [
       "--"
      ],
      "text/plain": [
       "<IPython.core.display.Markdown object>"
      ]
     },
     "metadata": {},
     "output_type": "display_data"
    },
    {
     "data": {
      "text/markdown": [
       "**PER**"
      ],
      "text/plain": [
       "<IPython.core.display.Markdown object>"
      ]
     },
     "metadata": {},
     "output_type": "display_data"
    },
    {
     "data": {
      "text/markdown": [
       "Ella\r",
       " respondió con mucha humildad que se llamaba la Tolosa, y que era hija de un\r",
       " remendón natural de Toledo que vivía a las tendillas de **Sancho Bienaya**, y\r",
       " que dondequiera que ella estuviese le serviría y le tendría por señor."
      ],
      "text/plain": [
       "<IPython.core.display.Markdown object>"
      ]
     },
     "metadata": {},
     "output_type": "display_data"
    }
   ],
   "source": [
    "get_ner_in_context('Sancho', nlp(text), desired_ner_labels = False)"
   ]
  },
  {
   "cell_type": "code",
   "execution_count": 28,
   "id": "2836264b",
   "metadata": {},
   "outputs": [
    {
     "name": "stdout",
     "output_type": "stream",
     "text": [
      "Apple ORG\n",
      "España ORG\n"
     ]
    }
   ],
   "source": [
    "import spacy\n",
    "nlp = spacy.load(\"es_core_news_md\")\n",
    "doc = nlp(\"Apple está pensando en comprar una startup de España por 5.000 €.\")\n",
    "for ent in doc.ents:\n",
    "    print(ent.text, ent.label_)"
   ]
  },
  {
   "cell_type": "code",
   "execution_count": 29,
   "id": "9517ec33",
   "metadata": {},
   "outputs": [
    {
     "data": {
      "text/plain": [
       "Apple está pensando en comprar una startup de España por 5.000 €."
      ]
     },
     "execution_count": 29,
     "metadata": {},
     "output_type": "execute_result"
    }
   ],
   "source": [
    "doc"
   ]
  },
  {
   "cell_type": "code",
   "execution_count": 30,
   "id": "37596619",
   "metadata": {},
   "outputs": [
    {
     "data": {
      "text/plain": [
       "<function __main__.get_ner_in_context(keyword, document, desired_ner_labels=False)>"
      ]
     },
     "execution_count": 30,
     "metadata": {},
     "output_type": "execute_result"
    }
   ],
   "source": [
    "get_ner_in_context"
   ]
  }
 ],
 "metadata": {
  "kernelspec": {
   "display_name": "Python 3",
   "language": "python",
   "name": "python3"
  },
  "language_info": {
   "codemirror_mode": {
    "name": "ipython",
    "version": 3
   },
   "file_extension": ".py",
   "mimetype": "text/x-python",
   "name": "python",
   "nbconvert_exporter": "python",
   "pygments_lexer": "ipython3",
   "version": "3.12.5"
  }
 },
 "nbformat": 4,
 "nbformat_minor": 5
}
